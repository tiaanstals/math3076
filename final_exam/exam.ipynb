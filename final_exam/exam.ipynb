{
 "cells": [
  {
   "cell_type": "markdown",
   "metadata": {},
   "source": [
    "# FINAL EXAM: MATH 3076/3976/4076\n",
    "\n",
    "\n",
    "<br>\n",
    "\n",
    "<center><h2> DUE: MONDAY 8, JUNE 2020 (11:59PM) </h2></center>\n",
    "\n",
    "<br>\n",
    "\n",
    "## INSTRUCTIONS:\n",
    "\n",
    "<br>\n",
    "\n",
    "* **THE NOTEBOOK COMPRISES 14 QUESTIONS.**\n",
    "\n",
    "\n",
    "\n",
    "* **EACH QUESTION TESTS SPECIFIC SKILLS.**\n",
    "\n",
    "\n",
    "\n",
    "* **ADJACENT QUESTIONS WITHOUT A LARGE WHITESPACE BREAK ARE CLOSELY RELATED.**\n",
    "\n",
    "\n",
    "\n",
    "* **READ THE INSTRUCTIONS TO EACH QUESTION CAREFULLY.**\n",
    "\n",
    "\n",
    "\n",
    "* **REQUIRED FUNCTIONS CONTAIN DOCSTRINGS EXPLAINING WHAT THE INPUT AND OUTPUT MUST BE.**\n",
    "\n",
    "\n",
    "\n",
    "\n",
    "<br>\n",
    "\n",
    "\n",
    "\n",
    "\n",
    "<center><h4> <i>WARNING:</i> EXTREME INPUTS CAN CAUSE NOTEBOOK CRASHES WITH INEFFICIENT CODE.</h4></center>\n",
    "\n",
    "* **MAKE SURE TO SAVE YOUR WORK *OFTEN.***\n",
    "\n",
    "* **MAKE SURE TO SAVE YOUR WORK *OFTEN.***\n",
    "\n",
    "* **MAKE SURE TO SAVE YOUR WORK *OFTEN.***\n",
    "\n",
    "\n",
    "* **DO NOT RENAME YOUR FINAL SUBMISSION.**\n",
    "\n",
    "\n",
    "* **ONLY THE NOTEBOOK WITH NAME `exam.ipynb` WILL BE MARKED.**\n",
    "\n",
    "\n",
    "<br>\n",
    "\n",
    "* **PUT YOUR CODE BELOW THE COMMENTS.**\n",
    "\n",
    "* **UNLESS INSTRUCTED, DO NOT REMOVE ANY OF THE COMMENTS OR EXISTING CODE.**\n",
    "\n",
    "* **YOU ARE ONLY MARKED ON THE CELLS DECORATED WITH `### TEST FUNCTION`.**\n",
    "\n",
    "* **TEST CODE ONLY IN THE CELLS DECORATED WITH `### SKIP`.**\n",
    "\n",
    "* **IF YOU MAKE ANY NEW CELLS, PLACE `### SKIP` AT THE TOP.**\n",
    "\n",
    "* **I WILL NOT USE PLOTS IN ANY PART OF THE MARKING.**\n",
    "\n",
    "* **BUT I RECOMMEND USING PLOTS TO HELP GET INTUITION ABOUT THE PROBELMS.**\n",
    "\n",
    "<br>\n",
    "\n",
    "* **YOU ARE ALLOWED TO USE ANY RESOURCES ON ED, WIKIPEDIA, OR OTHER CODE WEBSITES.**\n",
    "\n",
    "* **YOU ARE *NOT* ALLOWED TO COLLABORATE WITH ANY OTHER PEOPLE DURING THE ASSIGNMENT.**\n",
    "\n",
    "* **YOU CANNOT POST QUESTIONS ON THE ED DISCUSSION FORUM BEFORE THE DEADLINE.**\n",
    "\n",
    "* **EMAIL ME DIRECTLY IF YOU HAVE ANY *URGENT* QUESTIONS.**\n",
    "\n",
    "* **I WILL NOT REPLY TO \"FISHING\" FOR HELP.**\n",
    "\n",
    "* **IF I DO NOT REPLY, IT MEANS I DO NOT THINK YOU'VE ASKED A VALID QUESTION.**\n",
    "\n",
    "<br>\n",
    "\n",
    "* **DO *NOT* INCLUDE ANY ERROR HANDLING OR MESSAGES.**\n",
    "\n",
    "* **FAULTY ERROR HANDLING CAN CAUSE OTHER PARTS OF THE NOTEBOOK TO MALFUNCTION.**\n",
    "\n",
    "* **UNLESS STATED, I WILL NOT TEST YOUR FUNCTION WITH BAD INPUT.**\n",
    "\n",
    "\n",
    "<br>\n",
    "\n",
    "\n",
    "* **YOU SHOULD NOT NEED ANY HELPER FUNCTIONS.**\n",
    "\n",
    "\n",
    "* **IF YOU USE ANY HELPER FUNCTIONS, MAKE SURE THEY ARE DEFINED IN THE CELL THAT USES THEM.**\n",
    "\n",
    "\n",
    "* **YOU CAN USE ANY `numpy` or `scipy` FUNCTIONS YOU WANT.**\n",
    "\n",
    "\n",
    "* **UNLESS OTHERWISE STATED, I WILL TEST FOR 9 CORRECT DIGITS OUT YOUR OUTPUT.**\n",
    "\n",
    "\n",
    "<br>\n",
    "\n",
    "\n",
    "* **THE AUTOMATIC MARKING SYSTEM IS DISABLED DURING THE EXAM.**\n",
    "\n",
    "* **USE THE PROVIDED EXAMPLES WHEN TESTING YOUR CODE.**\n",
    "\n",
    "* **WE WILL TEST YOUR WORK WITH A *MUCH MORE* EXTENSIVE SET OF TEST.**\n",
    "\n",
    "* **THERE ARE NO SEPARATE QUESTIONS FOR THE DIFFERENT SECTIONS.**\n",
    "\n",
    "* **WE WILL USE MORE STRINGENT TESTING TO DISTINGUISH THE DIFFERENT SECTIONS.**\n",
    "\n",
    "* **YOU CAN SUBMIT AS OFTEN AS YOU LIKE.**\n",
    "\n",
    "* **MAKE SURE TO SUBMIT ONCE *BEFORE* THE DEAD TO LOG YOUR WORK.**\n",
    "\n",
    "<br>\n",
    "\n",
    "**THIS NOTEBOOK IS CONFIDENTIAL.**\n",
    "\n",
    "**COPYRIGHT: THE UNIVERSITY OF SYDNEY 2020.**\n",
    "\n",
    "<br>\n",
    "\n",
    "\n",
    "***Have fun, and good luck!***\n",
    "\n",
    "<br>"
   ]
  },
  {
   "cell_type": "code",
   "execution_count": 1,
   "metadata": {},
   "outputs": [],
   "source": [
    "import numpy as np\n",
    "import matplotlib.pyplot as plt\n",
    "%matplotlib inline"
   ]
  },
  {
   "cell_type": "markdown",
   "metadata": {},
   "source": [
    "<br>\n",
    "  \n",
    "<br>\n",
    "    \n",
    "<br>\n",
    "    "
   ]
  },
  {
   "cell_type": "markdown",
   "metadata": {
    "collapsed": true
   },
   "source": [
    "# BEGIN QUESTIONS\n",
    "\n",
    "\n",
    "<br>"
   ]
  },
  {
   "cell_type": "markdown",
   "metadata": {},
   "source": [
    "## QUESTION 1: \n",
    "\n",
    "Make a function called `characters` that takes any string and returns a tuple of its individual characters. For example:\n",
    "\n",
    "     In[1]: characters('cat')\n",
    "    Out[1]: ('c','a','t')\n",
    "    \n",
    "The function also should have the optional argument `reverse` that gives the result in reverse order. For example \n",
    "     \n",
    "     In[3]: characters('boy',reverse=True)\n",
    "    Out[3]: ('y','o','b')"
   ]
  },
  {
   "cell_type": "code",
   "execution_count": 24,
   "metadata": {},
   "outputs": [],
   "source": [
    "### TEST FUNCTION: test_characters\n",
    "## DO NOT ERASE ANYTHING INITIALLY IN THIS CELL ##\n",
    "\n",
    "def characters(s,reverse=False):\n",
    "    \"\"\"Returns tuple of individual characters in s.\n",
    "    \n",
    "       Parameters\n",
    "       ----------\n",
    "       s:       str\n",
    "       reverse: optional T/F to return reverse ordered list. \n",
    "       \n",
    "    \"\"\"\n",
    "    \n",
    "    ### PUT YOUR CODE BELOW THIS LINE ###\n",
    "    ## ASSUMING space is a character, since it has an ascii value ;)\n",
    "    s_split = list(s)\n",
    "    if reverse:\n",
    "        s_split = s_split[::-1]\n",
    "    return tuple(s_split)"
   ]
  },
  {
   "cell_type": "code",
   "execution_count": 25,
   "metadata": {},
   "outputs": [
    {
     "name": "stdout",
     "output_type": "stream",
     "text": [
      "('R', 'A', 'W', ' ', 'S', 'T', 'A', 'R', ' ', 'D', 'E', 'S', 'S', 'E', 'R', 'T', 'S')\n",
      "(' ', ' ', 't', 'a', ' ', ' ', ' ', 'c', '%')\n",
      "('S', 'T', 'R', 'E', 'S', 'S', 'E', 'D', ' ', 'R', 'A', 'T', 'S', ' ', 'W', 'A', 'R')\n"
     ]
    }
   ],
   "source": [
    "### SKIP\n",
    "### TEST YOUR CODE HERE ### \n",
    "\n",
    "print(characters('RAW STAR DESSERTS',reverse=False))\n",
    "print(characters('%c   at  ',reverse=True))\n",
    "\n",
    "print(characters('RAW STAR DESSERTS',reverse=True))"
   ]
  },
  {
   "cell_type": "markdown",
   "metadata": {},
   "source": [
    "<br>"
   ]
  },
  {
   "cell_type": "markdown",
   "metadata": {},
   "source": [
    "## QUESTION 2: \n",
    "\n",
    "A *palindrome* is a word, number or phrase that means the same thing both forward and backwards; e.g., kayak, bob, radar. \n",
    "\n",
    "* Capitalisation, punctuation, and spaces are usually ignored in the case of more complex phrases. \n",
    "\n",
    "\n",
    "* But some phrases are palindromes even with the same spaces; e.g., 'step on no pets'.\n",
    "\n",
    "Write a function called `is_palindrome` that takes a string argument ***with all lower-case letters and no punctuation***. The function should return `True` if the word or phrase is a palindrome, and `False` if not. \n",
    "\n",
    "\n",
    "* You should also have an optional argument `ignore`. \n",
    "\n",
    "\n",
    "* By default, you should set `ignore = None`, which ignores nothing in your determination.\n",
    "\n",
    "For example:\n",
    "\n",
    "        In [0]: is_palindrome('was it a car or a cat i saw')\n",
    "        Out[0]: False\n",
    "        \n",
    "        In [1]: is_palindrome('was it a car or a cat i saw',ignore=' ')\n",
    "        Out[1]: True\n",
    "        \n",
    "        In [2]: is_palindrome('step on no pets',ignore=' ')\n",
    "        Out[2]: True\n",
    "        \n",
    "        In [3]: is_palindrome('step on no pets',ignore=None)\n",
    "        Out[3]: True\n"
   ]
  },
  {
   "cell_type": "code",
   "execution_count": 37,
   "metadata": {},
   "outputs": [],
   "source": [
    "### TEST FUNCTION: test_is_palindrome\n",
    "## DO NOT ERASE ANYTHING INITIALLY IN THIS CELL ##\n",
    "\n",
    "def is_palindrome(s,ignore=None):\n",
    "    \"\"\"determines if a word or phrase is a palindrome.\n",
    "    \n",
    "       Parameters\n",
    "       ----------\n",
    "       s:       str\n",
    "       ignore: optional string to ignore (default = None)  \n",
    "       \n",
    "    \"\"\"\n",
    "    ### PUT YOUR CODE BELOW THIS LINE ###\n",
    "    if ignore is not None:\n",
    "        s = s.replace(ignore, \"\")\n",
    "\n",
    "    s_split = list(s)\n",
    "    s_split_reverse = s_split[::-1]\n",
    "    \n",
    "    if s_split == s_split_reverse:\n",
    "        return True\n",
    "    return False"
   ]
  },
  {
   "cell_type": "code",
   "execution_count": 46,
   "metadata": {},
   "outputs": [
    {
     "name": "stdout",
     "output_type": "stream",
     "text": [
      "tat tat tat\n"
     ]
    },
    {
     "data": {
      "text/plain": [
       "True"
      ]
     },
     "execution_count": 46,
     "metadata": {},
     "output_type": "execute_result"
    }
   ],
   "source": [
    "### SKIP\n",
    "### TEST YOUR CODE HERE ###\n",
    "is_palindrome('tat tat tat')"
   ]
  },
  {
   "cell_type": "markdown",
   "metadata": {},
   "source": [
    "<br>\n",
    "\n",
    "<br>\n",
    "\n",
    "<br>\n",
    "\n",
    "<br>\n",
    "\n",
    "<br>\n",
    "\n",
    "<br>\n",
    "\n",
    "<br>\n",
    "\n",
    "<br>\n",
    "\n",
    "<br>\n",
    "\n",
    "<br>"
   ]
  },
  {
   "cell_type": "markdown",
   "metadata": {},
   "source": [
    "## QUESTION 3:\n",
    "\n",
    "You work for a company (WidGet LLC) that makes widgets. \n",
    "\n",
    "* You only have three types of raw materials: 'RED', 'YELLOW', 'BLUE'.\n",
    "\n",
    "\n",
    "* All widgets are stored in a tuple.\n",
    "\n",
    "\n",
    "* Out of the raw materials you have three primary widgets:\n",
    "\n",
    "        red    = ('RED',)\n",
    "        yellow = ('YELLOW',)\n",
    "        blue   = ('BLUE',)\n",
    "\n",
    "\n",
    "* You can make widgets with arbitrary complexity by combining simpler widgets. For example:\n",
    "\n",
    "        In [0]: (2*red,blue)\n",
    "        Out[0]: (('RED', 'RED'), ('BLUE',))\n",
    "\n",
    "\n",
    "\n",
    "* But you have a few *designer* widgets that have names: \n",
    "\n",
    "    \n",
    "        purple = (red,blue)\n",
    "        green  = (yellow,blue)\n",
    "        orange = (red,yellow)\n",
    "        white  = (3*red,3*orange,3*yellow,3*green,4*blue,2*purple)\n",
    "        pink   = (white,red)\n",
    "        black  = (pink,purple)\n",
    "        grey   = (black,white)\n",
    "        joker  = (purple,green)\n",
    "        sulfur = (white,yellow)\n",
    "        galah  = (pink,grey)\n",
    "        \n",
    "\n",
    "\n",
    "* The price of the raw materials tends to change over time. \n",
    "\n",
    "\n",
    "* WidGet LLC needs to be able to compute the cost of *any* arbitrary combination of widgets for any prices of the raw materials; not just the ones in the above list. \n",
    "\n",
    "\n",
    "\n",
    "\n",
    "* The price of any combination is the sum of the prices of the components.  \n",
    "\n",
    "\n",
    "Write a function called `price` that computes the cost of any `widget` given any prices of the raw materials, `r,y,b`. \n",
    "\n",
    "***Hints:*** This is fundamentally a *recursive* task. You can solve the problem any way you want, but it's simple using recursion. \n",
    "\n",
    "\n",
    "For reference:\n",
    "\n",
    "    In [0]: price(sulfur,1,2,3)\n",
    "    Out[0]: 55\n",
    "    \n",
    "    \n",
    "    In [1]: price('RED',1,2,3)\n",
    "    Out[1]: 1"
   ]
  },
  {
   "cell_type": "code",
   "execution_count": 75,
   "metadata": {},
   "outputs": [],
   "source": [
    "### TEST FUNCTION: test_price\n",
    "## DO NOT ERASE ANYTHING INITIALLY IN THIS CELL ##\n",
    "\n",
    "def price(widget,r,y,b):\n",
    "    \"\"\"Computes the total price of a simple or composite widget.\n",
    "    \n",
    "    \n",
    "    Parameters\n",
    "    ----------\n",
    "    widget: tuple of widgets, or raw materials string\n",
    "    r,y,b : int/float of prices for RED, YELLOW, BLUE respectively.\n",
    "    \n",
    "    \"\"\"\n",
    "    \n",
    "    ### PUT YOUR CODE BELOW THIS LINE ###\n",
    "    if type(widget) == str:\n",
    "        if widget == 'RED':\n",
    "            return r\n",
    "        elif widget == 'YELLOW':\n",
    "            return y\n",
    "        elif widget == 'BLUE':\n",
    "            return b\n",
    "        \n",
    "    else:\n",
    "        price_return = 0\n",
    "        for widget_subpart in widget:\n",
    "            price_return += price(widget_subpart,r,y,b)\n",
    "        return price_return"
   ]
  },
  {
   "cell_type": "code",
   "execution_count": 84,
   "metadata": {},
   "outputs": [
    {
     "data": {
      "text/plain": [
       "1120"
      ]
     },
     "execution_count": 84,
     "metadata": {},
     "output_type": "execute_result"
    }
   ],
   "source": [
    "### SKIP\n",
    "### TEST YOUR CODE HERE ###\n",
    "red    = ('RED',)\n",
    "yellow = ('YELLOW',)\n",
    "blue   = ('BLUE',)\n",
    "purple = (red,blue)\n",
    "green  = (yellow,blue)\n",
    "orange = (red,yellow)\n",
    "white  = (3*red,3*orange,3*yellow,3*green,4*blue,2*purple)\n",
    "pink   = (white,red)\n",
    "black  = (pink,purple)\n",
    "grey   = (black,white)\n",
    "joker  = (purple,green)\n",
    "sulfur = (white,yellow)\n",
    "galah  = (pink,grey)\n",
    "price(black,100,10,3)"
   ]
  },
  {
   "cell_type": "markdown",
   "metadata": {},
   "source": [
    "<br>"
   ]
  },
  {
   "cell_type": "markdown",
   "metadata": {},
   "source": [
    "## QUESTION 4:\n",
    "\n",
    "Write a function called `constituents` that determines the number of each simple constituent widget in any widget.\n",
    "\n",
    "* You should return the result in a tuple (nr,ny,nb) where nx is the number of primary widgets of type x. \n",
    "\n",
    "\n",
    "* Make sure that each `nr`, `ny`, `nb` is an `int` type.\n",
    "\n",
    "\n",
    "For example:\n",
    "\n",
    "    In [0]: constituents(purple)\n",
    "    Out[0]: (1,0,1)\n",
    "    \n",
    "    In [1]: constituents(joker)\n",
    "    Out[1]: (1,1,2)\n",
    "    \n",
    "    In [2]: constituents('BLUE')\n",
    "    Out[2]: (0,0,1)"
   ]
  },
  {
   "cell_type": "code",
   "execution_count": 73,
   "metadata": {},
   "outputs": [],
   "source": [
    "### TEST FUNCTION: test_constituents\n",
    "## DO NOT ERASE ANYTHING INITIALLY IN THIS CELL ##\n",
    "\n",
    "def constituents(widget):\n",
    "    \"\"\"Computes number of red (nr), yellow (ny), and blue (nb) widgets in a widget.\n",
    "    \n",
    "    \n",
    "    Parameters\n",
    "    ----------\n",
    "    widget: tuple of widgets, or raw materials\n",
    "    \n",
    "    \"\"\"\n",
    "    \n",
    "    ### PUT YOUR CODE BELOW THIS LINE ###\n",
    "    if type(widget) == str:\n",
    "        if widget == 'RED':\n",
    "            return (1,0,0)\n",
    "        elif widget == 'YELLOW':\n",
    "            return (0,1,0)\n",
    "        elif widget == 'BLUE':\n",
    "            return (0,0,1)\n",
    "        \n",
    "    else:\n",
    "        q_return = (0,0,0)\n",
    "        for widget_subpart in widget:\n",
    "            q_return = tuple(map(sum, zip(q_return, constituents(widget_subpart))))\n",
    "        return q_return    "
   ]
  },
  {
   "cell_type": "code",
   "execution_count": 83,
   "metadata": {},
   "outputs": [
    {
     "data": {
      "text/plain": [
       "(10, 9, 10)"
      ]
     },
     "execution_count": 83,
     "metadata": {},
     "output_type": "execute_result"
    }
   ],
   "source": [
    "### SKIP\n",
    "### TEST YOUR CODE HERE ###\n",
    "constituents(black)"
   ]
  },
  {
   "cell_type": "markdown",
   "metadata": {},
   "source": [
    "<br>\n",
    "\n",
    "<br>\n",
    "\n",
    "<br>\n",
    "\n",
    "<br>\n",
    "\n",
    "<br>\n",
    "\n",
    "<br>\n",
    "\n",
    "<br>\n",
    "\n",
    "<br>\n",
    "\n",
    "<br>\n",
    "\n",
    "<br>"
   ]
  },
  {
   "cell_type": "markdown",
   "metadata": {},
   "source": [
    "## QUESTION 5:\n",
    "\n",
    "The ***power set*** is the set of all subsets of a finite set. For example, if \n",
    "\n",
    "        S = (1,2,3)\n",
    "        \n",
    "Then \n",
    "   \n",
    "        P = ((), (1,), (2,), (1, 2), (3,), (1, 3), (2, 3), (1, 2, 3))\n",
    "        \n",
    "The power set is usually denoted $P = 2^{S}$. You should be able to convince your self that the $|P| = 2^{|S|}$.\n",
    "\n",
    "\n",
    "* The order of the elements in a set usually doesn't matter. \n",
    "\n",
    "\n",
    "* Redundant elements of a set should be eliminated. For example, as a set \n",
    "\n",
    "        (1,2,3,3,3) is the same as (3,2,1) is the same as (1,2,3) etc.\n",
    "\n",
    "\n",
    "The following code should compute a tuple of the unique subsets of a set. The sets inside the power set are also stored as tuples. Python does have a `set` data type, but it's clunky. \n",
    "\n",
    "\n",
    "* You can (and maybe should) use Python's `set` function *internally*, but I want the output presented only with tuples.\n",
    "\n",
    "\n",
    "* The input should be a tuple, list or string containing any hashable data type. That means (e.g.) `int`, `float`, `Boolean`, `string`, `tuple`.\n",
    "\n",
    "\n",
    "* The output should be a tuple of tuples, where each tuple is one of the subsets of the input.\n",
    "\n",
    "\n",
    "<h3><center>The problem is that the code is broken. You have to fix it. </center></h3>\n",
    "\n",
    "\n",
    "\n",
    "        ## BROKEN CODE ##\n",
    "       \n",
    "        function powerset(S);\n",
    "    \n",
    "        if S = ()\n",
    "        return ((),)\n",
    "    \n",
    "        P = powerset(S[:-1])\n",
    "    \n",
    "            P + tuple( p + (S[-1]) if p in P)\n",
    " \n",
    "        ## END BROKEN CODE ##\n",
    "\n",
    "\n",
    "#### Rules:\n",
    "\n",
    "* You can see that this function is ***recursive***. I want you to keep it that way. We will test this on marking. *The function must call itself*.\n",
    "\n",
    "\n",
    "* You should not try to re-implement the code from scratch. Unless you can keep the answers identical to examples, and keep the function recursive in the same way.\n",
    "\n",
    "\n",
    "* You can fix the code with couple-dozen characters in the right place. If you do nothing else, it will work for input with no repeated element. \n",
    "\n",
    "\n",
    "* As a bonus, you should make the code eliminate repeated element.\n",
    "\n",
    "\n",
    "#### Examples:\n",
    "\n",
    "\n",
    "Here are some example outputs to tell when the code is working correctly:\n",
    "\n",
    "\n",
    "       In [0]: powerset((1,2,3))\n",
    "       Out[0]: ((), (1,), (2,), (1, 2), (3,), (1, 3), (2, 3), (1, 2, 3))\n",
    "       \n",
    "       In [1]: powerset([3,2,1,2,2,1,3,2])\n",
    "       Out[1]: ((), (1,), (2,), (1, 2), (3,), (1, 3), (2, 3), (1, 2, 3))\n",
    "       \n",
    "       In [2]: powerset([1,'a','b'])\n",
    "       Out[2]: ((), (1,), ('a',), (1, 'a'), ('b',), (1, 'b'), ('a', 'b'), (1, 'a', 'b'))\n",
    "       \n",
    "       In [3]: powerset(())\n",
    "       Out[3]: ((),)\n",
    "       \n",
    "       In [4]: powerset('yo')\n",
    "       Out[4]: ((), ('y',), ('o',), ('y', 'o'))\n",
    "       \n",
    "       In [5]: powerset(('a',))\n",
    "       Out[5]: ((), ('a',))\n",
    "       \n",
    "       In [6]: powerset(((1,2),(1,2),))\n",
    "       Out[6]: ((), ((1, 2),))\n",
    "        \n",
    "       In [7]: powerset(((1,2),(2,1),))\n",
    "       Out[7]: ((), ((1, 2),), ((2, 1),), ((1, 2), (2, 1)))\n",
    "       \n",
    "       \n",
    "We will test the output of these examples and more. \n",
    "\n",
    "\n",
    "* The function should return a tuple of tuples.\n",
    "\n",
    "\n",
    "* The most important thing is to eliminate any syntax errors. \n",
    "\n",
    "\n",
    "* The second most important thing is to make sure there are no runtime errors.\n",
    "\n",
    "\n",
    "* Next make the function give the right answer when your input has unique elements. \n",
    "\n",
    "\n",
    "* Finally, make the function eliminate redundant elements. \n",
    "\n"
   ]
  },
  {
   "cell_type": "code",
   "execution_count": 144,
   "metadata": {},
   "outputs": [],
   "source": [
    "### TEST FUNCTION: test_powerset\n",
    "\n",
    "## BEGIN BROKEN CODE ##\n",
    "\n",
    "def powerset(S):\n",
    "    \"\"\"Should return the Power Set tuple of a given input tuple/list/string.\n",
    "    \n",
    "    Parameters\n",
    "    ----------\n",
    "    S: tuple, list or string interpreted as a mathematical set with any number of hashable elements.\n",
    "    \n",
    "    \"\"\"\n",
    "    S = tuple(set(S))\n",
    "    \n",
    "    if S == ():\n",
    "        return ((),)\n",
    "\n",
    "    P = powerset(S[:-1])\n",
    "    \n",
    "    P += tuple( p + (S[-1],) for p in P)\n",
    "    return P\n",
    "\n",
    "    ## END BROKEN CODE ##"
   ]
  },
  {
   "cell_type": "code",
   "execution_count": 155,
   "metadata": {},
   "outputs": [
    {
     "data": {
      "text/plain": [
       "((), (2,), ('2',), (2, '2'))"
      ]
     },
     "execution_count": 155,
     "metadata": {},
     "output_type": "execute_result"
    }
   ],
   "source": [
    "### SKIP\n",
    "### TEST YOUR CODE HERE ###\n",
    "powerset((2,'2'))"
   ]
  },
  {
   "cell_type": "markdown",
   "metadata": {},
   "source": [
    "<br>\n",
    "\n",
    "<br>\n",
    "\n",
    "<br>\n",
    "\n",
    "<br>\n",
    "\n",
    "<br>\n",
    "\n",
    "<br>\n",
    "\n",
    "<br>\n",
    "\n",
    "<br>\n",
    "\n",
    "<br>\n",
    "\n",
    "<br>"
   ]
  },
  {
   "cell_type": "markdown",
   "metadata": {},
   "source": [
    "## QUESTION 6:\n",
    "\n",
    "Consider the polynomial: \n",
    "\n",
    "$$\\large\n",
    "f(\\, x\\, ) \\ = \\ 3432\\, x^7 - 12012\\, x^6 + 16632\\, x^5 - 11550\\,x^4 + 4200\\, x^3 - 756\\, x^2 + 56 \\, x - 1\n",
    "$$\n",
    "\n",
    "Write a function that returns `f(x)`. \n",
    "\n",
    "* The function must work if `x` is a single number, `inf`, `float`, `complex`, or a `numpy ndarray` of any of the `numpy` data types. \n",
    "\n",
    "\n",
    "* Additionally, the function must have an optional argument `deriv` that returns the $k$th derivative for `deriv=k`. \n",
    "\n"
   ]
  },
  {
   "cell_type": "code",
   "execution_count": 202,
   "metadata": {},
   "outputs": [],
   "source": [
    "### TEST FUNCTION: test_f\n",
    "## DO NOT ERASE ANYTHING INITIALLY IN THIS CELL ##\n",
    "\n",
    "def f(x,deriv=0):\n",
    "    \"\"\"\n",
    "    Returns the value of polynomial f, or one of its derivatives, at points x.\n",
    "    \n",
    "    Parameters\n",
    "    ----------\n",
    "    x: int, float, complex, or numpy array\n",
    "    deriv: int option that specifies which higher-order derivative should be returned.\n",
    "    \n",
    "    \"\"\"\n",
    "    \n",
    "    ### PUT YOUR CODE BELOW THIS LINE ###\n",
    "    def evaluate_using_d(d, x):\n",
    "        total = 0\n",
    "        for item in d:\n",
    "            if item == 0:\n",
    "                total += d[item]\n",
    "            else:\n",
    "                total += (x**item)*(d[item])\n",
    "        return total\n",
    "    d = {0:-1,1:56,2:-756,3:4200,4:-11550,5:16632,6:-12012,7:3432}\n",
    "    eval_vectorised = np.vectorize(evaluate_using_d)\n",
    "    if deriv == 0:\n",
    "        return eval_vectorised(d,x)\n",
    "    else:\n",
    "        new_d = {}\n",
    "        for i in d:\n",
    "            a = i\n",
    "            for k in range(1,deriv): a *= (i-k)\n",
    "            if i > deriv-1: new_d[i-deriv] = a*d[i]\n",
    "        return eval_vectorised(new_d,x)    "
   ]
  },
  {
   "cell_type": "code",
   "execution_count": 204,
   "metadata": {},
   "outputs": [
    {
     "name": "stdout",
     "output_type": "stream",
     "text": [
      "Deriv: 0 val: 48639\n",
      "Deriv: 1 val: 239624\n",
      "Deriv: 2 val: 1002456\n",
      "Deriv: 3 val: 3462480\n",
      "Deriv: 4 val: 9480240\n",
      "Deriv: 5 val: 19293120\n",
      "Deriv: 6 val: 25945920\n",
      "Deriv: 7 val: 17297280\n",
      "Deriv: 8 val: 0\n",
      "deriv 1: \n"
     ]
    }
   ],
   "source": [
    "### SKIP\n",
    "### TEST YOUR CODE HERE ###\n",
    "x = 2\n",
    "for i in range(0,9):\n",
    "    print(\"Deriv: \" + str(i) + \" val: \" + str(f(x,i)))\n",
    "\n",
    "print(\"deriv 1: \")\n"
   ]
  },
  {
   "cell_type": "markdown",
   "metadata": {},
   "source": [
    "<br>"
   ]
  },
  {
   "cell_type": "markdown",
   "metadata": {},
   "source": [
    "## QUESTION 7:\n",
    "\n",
    "Write a function called `roots_f()` that finds ***all*** to solutions to \n",
    "\n",
    "$$\\large\n",
    "f(\\,x\\,) \\ = \\ 0\n",
    "$$\n",
    "\n",
    "The function $f(x)$ is the same 7th-degree polynomial fro QUESTION 6. It has 7 distinct real roots in the range $0 < x < 1$. \n",
    "\n",
    "* You can find the initial guess for the roots any way you want.\n",
    "\n",
    "The output should return an `np.array` with \n",
    "\n",
    "         In[0]: len(roots_f())\n",
    "        Out[0]: 7\n",
    "\n",
    "The ***residual*** should be smaller than `1e-9`. You should easily find a number of iterations that gives you a small enough error."
   ]
  },
  {
   "cell_type": "code",
   "execution_count": 298,
   "metadata": {},
   "outputs": [],
   "source": [
    "### TEST FUNCTION: test_roots_f\n",
    "## DO NOT ERASE ANYTHING INITIALLY IN THIS CELL ##\n",
    "\n",
    "def roots_f():\n",
    "    \"\"\"Computes the solutions to f(x) = 0 for the 7th-degree polynomial given in QUESTION 6. \n",
    "    \n",
    "    \"\"\"\n",
    "    \n",
    "    ### PUT YOUR CODE BELOW THIS LINE ###\n",
    "    def f(x): return -1 + 56*x -756*x**2 + 4200*x**3 - 11550*x**4 + 16632*x**5 - 12012*x**6 + 3432*x**7\n",
    "    def df(x): return 56 - 1512*x + 12600*x**2 - 46200*x**3 + 83160*x**4 - 72072*x**5 + 24024*x**6\n",
    "    \n",
    "    def basin_map(niter=40,npoints=100,domain=(0,1)):\n",
    "        x0, x1 = domain[0], domain[1]\n",
    "        \n",
    "        x = np.zeros([niter, npoints])        \n",
    "        x[0]=np.linspace(x0,x1,npoints)\n",
    "        for i in range(1,niter):\n",
    "            x[i]  = x[i-1] - (f(x[i-1]))/df(x[i-1])\n",
    "        tol = 1e-11\n",
    "        xend  = x[-1]\n",
    "        xend  = np.round(xend/tol)*tol # remove everything after 10th digit.\n",
    "\n",
    "        roots = np.union1d([xend[0]],xend[1:])\n",
    "        return np.array(roots)\n",
    "\n",
    "    return basin_map()"
   ]
  },
  {
   "cell_type": "code",
   "execution_count": 299,
   "metadata": {},
   "outputs": [
    {
     "data": {
      "text/plain": [
       "array([ 3.44222774e-11,  2.41384213e-12, -6.50623999e-12, -1.35003120e-13,\n",
       "        6.48014975e-12, -1.36424205e-12, -3.50155460e-11])"
      ]
     },
     "execution_count": 299,
     "metadata": {},
     "output_type": "execute_result"
    }
   ],
   "source": [
    "### SKIP\n",
    "### TEST YOUR CODE HERE ##### TEST YOUR CODE HERE ##\n",
    "roots_f()\n",
    "def f(x): return -1 + 56*x -756*x**2 + 4200*x**3 - 11550*x**4 + 16632*x**5 - 12012*x**6 + 3432*x**7\n",
    "f(roots_f())"
   ]
  },
  {
   "cell_type": "markdown",
   "metadata": {},
   "source": [
    "<br>"
   ]
  },
  {
   "cell_type": "markdown",
   "metadata": {},
   "source": [
    "## QUESTION 8:\n",
    "\n",
    "The function $f(x)$ has ***3 local maxima***, and ***3 local minima***. \n",
    "\n",
    "*  Write a function called `extrema_f` that returns two arrays\n",
    "\n",
    "        minima, maxima = extrema_f()\n",
    "\n",
    "* Each array should contain the `x` values of the 3 `minima`, `maxima` respectively. \n",
    "\n",
    "\n",
    "***Hint:*** The $x$ values of the extrema are *somewhere between* the roots. \n",
    "\n",
    "\n",
    "For reference\n",
    "\n",
    "        In [0]: f(minima)[0]\n",
    "        Out[0]: -0.3235680852016358\n",
    "        \n",
    "Your values should match to at least 9 digits."
   ]
  },
  {
   "cell_type": "code",
   "execution_count": 326,
   "metadata": {},
   "outputs": [],
   "source": [
    "### TEST FUNCTION: test_extrema_f\n",
    "## DO NOT ERASE ANYTHING INITIALLY IN THIS CELL ##\n",
    "\n",
    "def extrema_f():\n",
    "    \"\"\"Computes x value of all of the local maxima (or minima) of f(x) from QUESTION 6.\n",
    "    \n",
    "    \"\"\"\n",
    "    \n",
    "    ### PUT YOUR CODE BELOW THIS LINE ###\n",
    "    def og_f(x): return -1 + 56*x -756*x**2 + 4200*x**3 - 11550*x**4 + 16632*x**5 - 12012*x**6 + 3432*x**7\n",
    "    def f(x): return 56 - 1512*x + 12600*x**2 - 46200*x**3 + 83160*x**4 - 72072*x**5 + 24024*x**6\n",
    "    def df(x): return -1512 + 25200*x - 138600*x**2 + 332640*x**3 - 360360*x**4 +144144*x**5\n",
    "    \n",
    "    # extrema follow pattern max,min,max,min,max,min\n",
    "    # therefore apply newtons method for derivative between roots\n",
    "    \n",
    "    def find_second_root(pair_x, n_iter, roots):\n",
    "        x0,x1 = pair_x\n",
    "        r0,r1 = roots[x0], roots[x1]\n",
    "        guess = (r0 + r1)/2\n",
    "        second_roots = []\n",
    "        second_roots.append(guess)\n",
    "        tol = 1e-15\n",
    "        \n",
    "        for i in range(1,n_iter):\n",
    "            if np.round(df(second_roots[i-1])/tol)*tol == 0:\n",
    "                return second_roots[i-1]\n",
    "            second_roots.append(second_roots[i-1] - (f(second_roots[i-1]))/df(second_roots[i-1]))\n",
    "        return second_roots[-1]\n",
    "    roots = sorted(roots_f())\n",
    "    max_pairs_idxs = [(0,1),(2,3),(4,5)]\n",
    "    min_pairs_idxs = [(1,2),(3,4),(5,6)]\n",
    "    \n",
    "    maxima = []\n",
    "    minima = []\n",
    "    n_iter = 30\n",
    "    for pair in max_pairs_idxs:\n",
    "        root = find_second_root(pair,n_iter, roots)\n",
    "        maxima.append(root)\n",
    "    for pair in min_pairs_idxs:\n",
    "        root = find_second_root(pair,n_iter, roots)\n",
    "        minima.append(root)\n",
    "    return (np.array(minima),np.array(maxima))"
   ]
  },
  {
   "cell_type": "code",
   "execution_count": 341,
   "metadata": {},
   "outputs": [
    {
     "data": {
      "text/plain": [
       "<matplotlib.legend.Legend at 0x119062668>"
      ]
     },
     "execution_count": 341,
     "metadata": {},
     "output_type": "execute_result"
    },
    {
     "data": {
      "image/png": "[encoded data removed]",
      "text/plain": [
       "<Figure size 432x288 with 1 Axes>"
      ]
     },
     "metadata": {
      "needs_background": "light"
     },
     "output_type": "display_data"
    }
   ],
   "source": [
    "### SKIP\n",
    "### TEST YOUR CODE HERE ###\n",
    "minima, maxima = extrema_f()\n",
    "f(minima)[0]\n",
    "def simple_plot(x,ylist,labels=None,linewidth=2.5,fontsize=20,color=None,xaxis=True):\n",
    "    \"\"\"Plots a list of y arrays as a function of a single x array.\n",
    "    \n",
    "    Parameters\n",
    "    ----------\n",
    "    x:         np.array\n",
    "    y_list:    [np.array]\n",
    "    labels:    [strngs]\n",
    "    linewidth: float\n",
    "    fontsize:  int\n",
    "    color:     ['strings']; eg\n",
    "    \n",
    "    \"\"\"\n",
    "    if color==None: color = len(ylist)*[None]\n",
    "    \n",
    "    for i, y in enumerate(ylist):\n",
    "        plt.plot(x,y,linewidth=linewidth,color=color[i])\n",
    "    \n",
    "    plt.tick_params(axis='x',labelsize=fontsize)\n",
    "    plt.tick_params(axis='y',labelsize=fontsize)\n",
    "    \n",
    "    if labels != None:\n",
    "        plt.xlabel(labels[0],fontsize=fontsize);\n",
    "        plt.ylabel(labels[1],fontsize=fontsize);\n",
    "        plt.title(labels[2],fontsize=fontsize);\n",
    "        \n",
    "    if xaxis: plt.axhline(linewidth=linewidth, color=\"black\")\n",
    "    return plt\n",
    "\n",
    "f  = lambda x: -1 + 56*x -756*x**2 + 4200*x**3 - 11550*x**4 + 16632*x**5 - 12012*x**6 + 3432*x**7\n",
    "x = np.linspace(0,1,200)\n",
    "plt = simple_plot(x,[f(x)],labels=['$x$','$f\\,(x)$','$f\\,$'])\n",
    "plt.scatter(minima,f(minima), color='r', label='Minima')\n",
    "plt.scatter(maxima,f(maxima), color='g', label='Maxima')\n",
    "plt.scatter(roots_f(),f(roots_f()), color='m', label='Roots')\n",
    "plt.legend()"
   ]
  },
  {
   "cell_type": "markdown",
   "metadata": {},
   "source": [
    "<br>\n",
    "\n",
    "<br>\n",
    "\n",
    "<br>\n",
    "\n",
    "<br>\n",
    "\n",
    "<br>\n",
    "\n",
    "<br>\n",
    "\n",
    "<br>\n",
    "\n",
    "<br>"
   ]
  },
  {
   "cell_type": "markdown",
   "metadata": {},
   "source": [
    "## QUESTION 9:\n",
    "\n",
    "Write a function called  `stopping_time  ` that takes one integer argument, `N`.\n",
    "\n",
    "The function should do the following \n",
    "    \n",
    "    0) Make an empty list (or tuple).\n",
    "    \n",
    "    1) Draw a random integer, n, between 0, ... , N-1\n",
    "    \n",
    "    2) If n is not in the list, put n into list.\n",
    "    \n",
    "    3) Stop if the list contains all the numbers between 0, ... , N-1; otherwise keep going.\n",
    "    \n",
    "    4) Return the number of iterations needed to fill the list.\n",
    "    \n",
    "***Hint:*** You can generate random integers with `np.random.randint`"
   ]
  },
  {
   "cell_type": "code",
   "execution_count": 423,
   "metadata": {},
   "outputs": [],
   "source": [
    "### TEST FUNCTION: test_stopping_time\n",
    "## DO NOT ERASE ANYTHING INITIALLY IN THIS CELL ##\n",
    "\n",
    "def stopping_time(N):\n",
    "    \"\"\"Returns the number of random draws needed \n",
    "       to get every number between 0 and N-1 at least once.\n",
    "    \n",
    "       Parameters\n",
    "       ----------\n",
    "       N: positive integer\n",
    "       \n",
    "    \"\"\"\n",
    "    \n",
    "    ### PUT YOUR CODE BELOW THIS LINE ###\n",
    "    l = np.zeros([N,1]) \n",
    "    sum_ints = 0\n",
    "    counter = 0\n",
    "    while True:\n",
    "        randint = np.random.randint(0,N)\n",
    "        counter += 1\n",
    "        if l[randint] == 0:\n",
    "            l[randint] = randint\n",
    "            sum_ints += 1\n",
    "            if sum_ints == N:\n",
    "                return counter\n",
    "        else:\n",
    "            continue\n",
    "    return"
   ]
  },
  {
   "cell_type": "code",
   "execution_count": 442,
   "metadata": {},
   "outputs": [
    {
     "data": {
      "text/plain": [
       "72059"
      ]
     },
     "execution_count": 442,
     "metadata": {},
     "output_type": "execute_result"
    }
   ],
   "source": [
    "### SKIP\n",
    "### TEST YOUR CODE HERE ###\n",
    "stopping_time(10000)"
   ]
  },
  {
   "cell_type": "markdown",
   "metadata": {},
   "source": [
    "<br>"
   ]
  },
  {
   "cell_type": "markdown",
   "metadata": {},
   "source": [
    "## QUESTION 10:\n",
    "\n",
    "Write a function called  `median_stopping_time  ` that takes two integer arguments, `N`, and `S`.\n",
    "\n",
    "The function should return the median stopping time over `S` trials of `stopping_time(N)`."
   ]
  },
  {
   "cell_type": "code",
   "execution_count": 454,
   "metadata": {},
   "outputs": [],
   "source": [
    "### TEST FUNCTION: test_median_stopping_time\n",
    "## DO NOT ERASE ANYTHING INITIALLY IN THIS CELL ##\n",
    "\n",
    "def median_stopping_time(N,S):\n",
    "    \"\"\"Samples the function 'stopping_time(N)' S times. \n",
    "       Returns the median of the sample array.\n",
    "    \n",
    "       Parameters\n",
    "       ----------\n",
    "       N: positive integer argument of stopping_time.\n",
    "       S: positive integer number of samples.\n",
    "       \n",
    "    \"\"\"\n",
    "    \n",
    "    ### PUT YOUR CODE BELOW THIS LINE ###\n",
    "    stp_times = np.zeros([S,1])\n",
    "    for i in range(S):\n",
    "        stp_times[i] = stopping_time(N)\n",
    "    \n",
    "    return np.median(stp_times)"
   ]
  },
  {
   "cell_type": "code",
   "execution_count": 455,
   "metadata": {},
   "outputs": [],
   "source": [
    "### SKIP\n",
    "### TEST YOUR CODE HERE ###\n",
    "num = median_stopping_time(100,1)\n",
    "# dist = median_stopping_time(100,1000)\n",
    "# plt.hist(dist, bins=40)\n",
    "# plt.axvline(num)"
   ]
  },
  {
   "cell_type": "markdown",
   "metadata": {},
   "source": [
    "<br>\n",
    "\n",
    "<br>\n",
    "\n",
    "<br>\n",
    "\n",
    "<br>\n",
    "\n",
    "<br>\n",
    "\n",
    "<br>\n",
    "\n",
    "<br>\n",
    "\n",
    "<br>"
   ]
  },
  {
   "cell_type": "markdown",
   "metadata": {},
   "source": [
    "## QUESTION 11:\n",
    "\n",
    "Write a function `I(n)`, that computes \n",
    "\n",
    "$$\\large\n",
    "I \\ = \\ \\int_{-\\pi}^{\\pi} \\frac{\\mathrm{d}x }{\\sqrt{\\,3 \\ - \\ \\cos(x)\\,}}.\n",
    "$$\n",
    "\n",
    "where `n` is the total number of function evaluations of the integrand.\n",
    "\n",
    "* Use `np.cos` to compute the integrand. \n",
    "\n",
    "\n",
    "* You can count the number of function evaluations simply as the size of the `x` array that you put into it. \n",
    "\n",
    "\n",
    "If you pick your integration method carefully, you should be able compute the integral to at least 10 decimal digits of accuracy with fewer than 20 function evaluations. If you are really efficient, you should be able to get 10 digits with fewer than 10 function evaluations.\n",
    "\n",
    "**Hint:** think simple. Also, you can estimate the accuracy using the Cauchy error."
   ]
  },
  {
   "cell_type": "code",
   "execution_count": 603,
   "metadata": {},
   "outputs": [],
   "source": [
    "### TEST FUNCTION: test_I\n",
    "## DO NOT ERASE ANYTHING INITIALLY IN THIS CELL ##\n",
    "\n",
    "\n",
    "def I(n):\n",
    "    \"\"\" Computes the numerical intgration of f(x) = 1/sqrt(3 - cos(x)).\n",
    "    \n",
    "    Parameters\n",
    "    ----------\n",
    "    n int: total number of evaluations f(x).\n",
    "    \n",
    "    \"\"\"\n",
    "    \n",
    "    ### PUT YOUR CODE BELOW THIS LINE ###\n",
    "    \n",
    "    def trap(f,x):\n",
    "        a, b, mid = x[0], x[-1], x[1:-1]\n",
    "\n",
    "        h = (b-a)/(len(x)-1)\n",
    "\n",
    "        return h*(0.5*( f(a) + f(b) )  + np.sum(f(mid)) ) \n",
    "    \n",
    "    #n is number of fn evals, so n-1 intervals\n",
    "    x_new = np.linspace(0,np.pi,n)\n",
    "    f_new = lambda x: 1/(3 - np.cos(x))**(1/2)\n",
    "    \n",
    "    return 2*trap(f_new,x_new)"
   ]
  },
  {
   "cell_type": "code",
   "execution_count": 604,
   "metadata": {},
   "outputs": [],
   "source": [
    "### SKIP\n",
    "class show_plots:\n",
    "    \n",
    "    def __init__(self,linewidth=2.5,fontsize=20,titlesize=15,\n",
    "                 xy=['$x$','$f(x)$'],title='',style='plot',figsize=None):\n",
    "        \n",
    "        \n",
    "        self.linewidth = linewidth\n",
    "        self.fontsize  = fontsize\n",
    "        self.titlesize = titlesize\n",
    "        self.xlabel    = xy[0]\n",
    "        self.ylabel    = xy[1]\n",
    "        self.title     = title\n",
    "        \n",
    "        self.fig, self.ax = plt.subplots(figsize=figsize)\n",
    "        \n",
    "        self.ax.set_xlabel(self.xlabel,fontsize=fontsize)\n",
    "        self.ax.set_ylabel(self.ylabel,fontsize=fontsize)\n",
    "        self.ax.set_title(self.title,fontsize=titlesize)\n",
    "        self.ax.tick_params(axis='both',labelsize=fontsize)\n",
    "        \n",
    "        self.style = style\n",
    "        \n",
    "    def __call__(self,x,y,color=None):\n",
    "        \n",
    "        if self.style == 'plot':\n",
    "            self.ax.plot(x,y,linewidth=self.linewidth,color=color)\n",
    "            \n",
    "        if self.style == 'log':\n",
    "            self.ax.semilogy(x,y,linewidth=self.linewidth,color=color)\n",
    "            \n",
    "        if self.style == 'log-log':\n",
    "            self.ax.loglog(x,y,linewidth=self.linewidth,color=color)\n",
    "        \n",
    "        \n",
    "    def __getitem__(self,*args):\n",
    "        \n",
    "        \n",
    "        self.ax.legend(list(args[0]),fontsize=self.titlesize)"
   ]
  },
  {
   "cell_type": "code",
   "execution_count": 612,
   "metadata": {},
   "outputs": [
    {
     "name": "stderr",
     "output_type": "stream",
     "text": [
      "/Users/tiaanstals/.pyenv/versions/3.6.5/lib/python3.6/site-packages/ipykernel_launcher.py:38: RuntimeWarning: divide by zero encountered in true_divide\n"
     ]
    },
    {
     "data": {
      "text/plain": [
       "3.7081493546241227"
      ]
     },
     "execution_count": 612,
     "metadata": {},
     "output_type": "execute_result"
    },
    {
     "data": {
      "image/png": "[encoded data removed]",
      "text/plain": [
       "<Figure size 504x360 with 1 Axes>"
      ]
     },
     "metadata": {
      "needs_background": "light"
     },
     "output_type": "display_data"
    }
   ],
   "source": [
    "### SKIP\n",
    "### TEST YOUR CODE HERE ###\n",
    "# x = np.linspace(-np.pi,np.pi,200)\n",
    "# f = lambda x: 1/np.sqrt(3 - np.cos(x))\n",
    "# y = f(x)\n",
    "# plt.plot(x,y)\n",
    "# I(15)\n",
    "\n",
    "def error(A,B,report=True,n=''):\n",
    "    e = abs(A-B)\n",
    "    if report : print('{:>2s}  {:>6.3f}   {:>5.3f}  {:>15.4e}'.format(str(n),A,B,e))\n",
    "    return e\n",
    "nmin, nmax = 1, 100\n",
    "S = 3.70814935460274383686770069439052009243\n",
    "\n",
    "nmin, nmax = 5, 100\n",
    "e = np.zeros(nmax-nmin+1)\n",
    "n = np.arange(nmax-nmin+1)\n",
    "\n",
    "for i in range(2,len(n)):\n",
    "#     print(\"i: \" +str(i))\n",
    "    T=I(i)\n",
    "#     T_string = list(str(T).split(\".\")[1])\n",
    "#     S_string = list(str(S).split(\".\")[1])\n",
    "#     digits = 0\n",
    "#     for j in range(len(S_string)):\n",
    "#         if S_string[j] == T_string[j]:\n",
    "#             digits += 1\n",
    "#         else:\n",
    "#             break\n",
    "#     print(\"function evals: \" + str(i) + \" Correct: \" + str(digits))\n",
    "    e[i] = error(T,S,report=False)   \n",
    "    \n",
    "show = show_plots(style='log-log',figsize=(7,5),xy=['$n$','$e(n)$'],\n",
    "                  title='error vs number of integration points');\n",
    "\n",
    "show(n,e)\n",
    "show(n,20/2**n)\n",
    "show['   $error$', '$\\sim  2\\,n^{-2}$']\n",
    "        \n",
    "I(8)"
   ]
  },
  {
   "cell_type": "markdown",
   "metadata": {},
   "source": [
    "<br>"
   ]
  },
  {
   "cell_type": "markdown",
   "metadata": {},
   "source": [
    "## QUESTION 12:\n",
    "\n",
    "Consider the following non-linear 2-point boundary-value problem:\n",
    "\n",
    "$$\\large\n",
    "u''(x) + u(x)^{\\,p} \\ = \\ 0 \\quad \\mathrm{for} \\quad 0 < x < 1 , \\quad \\mathrm{and} \\quad u(0)  \\ = \\ u(1) \\ = \\ 0\n",
    "$$\n",
    "\n",
    "where $ p > 0$ is a real parameter. \n",
    "\n",
    "Write a function that solves this boundary-value problem using 2nd-order finite difference and Newton's method. \n",
    "\n",
    "The function should have as arguments: \n",
    "\n",
    "* The exponent parameter `p`.\n",
    "\n",
    "\n",
    "\n",
    "* An `numpy` `array` for the initial solution `guess`.\n",
    "\n",
    "\n",
    "\n",
    "* The number of Newton `iterations`.\n",
    "\n",
    "\n",
    "\n",
    "* You should assume you input guess is an approximation of the solution at a set of uniformly spaces grid values.\n",
    "\n",
    "\n",
    "\n",
    "* The solution should be the same size as the initial `guess`. \n",
    "\n",
    "\n",
    "\n",
    "* Make sure you return the solution for all points including the boundary points $x=0,1$. \n",
    "\n",
    "\n",
    "\n",
    "\n",
    "**Hint:** If you want to check your answer for $p=3$, start with\n",
    "\n",
    "       guess = np.pi*np.sin(np.pi*x)\n",
    "\n",
    "Then the iteration should converge quickly to a solution where $u(1/2)$ is the integral in QUESTION 11."
   ]
  },
  {
   "cell_type": "code",
   "execution_count": 667,
   "metadata": {},
   "outputs": [],
   "source": [
    "### TEST FUNCTION: test_NLBVP\n",
    "## DO NOT ERASE ANYTHING INITIALLY IN THIS CELL ##\n",
    "\n",
    "def NLBVP(p,guess,iterations):\n",
    "    \"\"\"Solve u''(x) + u(x)**p = 0 with u(0) = u(1) = 0 using 2nd-order accurate finite-differences. \n",
    "    \n",
    "    Parameters\n",
    "    ----------\n",
    "    p:          positive exponent parameter.\n",
    "    guess:      numpy array with the inital guess for Newton's method.\n",
    "    iterations: integer number of Newton iterations.\n",
    "    \n",
    "    \"\"\"\n",
    "    \n",
    "    n = len(guess)\n",
    "    \n",
    "    ### PUT YOUR CODE BELOW THIS LINE ###\n",
    "    stencil = np.array([[0, 1, 0],[-1/2, 0, 1/2],[1, -2, 1]])\n",
    "    def D2(n):\n",
    "        S = np.array([float(s*n**2) for s in stencil[2]])\n",
    "\n",
    "        D = np.zeros((n+1,n+1))\n",
    "        for i in range(1,n): \n",
    "            D[i,i-1:i+2] = S\n",
    "\n",
    "        return D\n",
    "    def Update(u,f,df):\n",
    "        # number of intervals\n",
    "        n = len(u)-1\n",
    "\n",
    "        # make interior matrix\n",
    "        DD = D2(n)\n",
    "\n",
    "        # compute f(u), f'(u)\n",
    "        f0 = f(u)\n",
    "        f1 = df(u)\n",
    "\n",
    "        # make left-hand-side matrix\n",
    "        L = DD + np.diag(f1)\n",
    "\n",
    "        # make right-hand-side vector\n",
    "        R = u*f1 - f0\n",
    "        # fix boundary conditions \n",
    "        L[0,0], L[-1,-1] = 1,1\n",
    "        R[0],   R[-1]    = 0,0\n",
    "\n",
    "        # solve for update.\n",
    "        return np.linalg.solve(L,R)\n",
    "    f  = lambda x: x**p\n",
    "    df = lambda x: (p)*x**(p-1)    \n",
    "    \n",
    "    u = guess\n",
    "    for i in range(iterations):\n",
    "        u = Update(u,f,df)\n",
    "    return u"
   ]
  },
  {
   "cell_type": "code",
   "execution_count": 666,
   "metadata": {},
   "outputs": [
    {
     "name": "stdout",
     "output_type": "stream",
     "text": [
      "101\n",
      "101\n",
      "3.7081493546027438\n"
     ]
    },
    {
     "data": {
      "image/png": "[encoded data removed]",
      "text/plain": [
       "<Figure size 648x432 with 1 Axes>"
      ]
     },
     "metadata": {
      "needs_background": "light"
     },
     "output_type": "display_data"
    }
   ],
   "source": [
    "### SKIP\n",
    "### TEST YOUR CODE HERE ###\n",
    "# Number of intervals\n",
    "n = 100\n",
    "\n",
    "#grid\n",
    "x = np.linspace(0,1,n+1)\n",
    "\n",
    "# initial guess\n",
    "guess = np.pi*np.sin(np.pi*x)\n",
    "# plt.figure(figsize=(9,6))\n",
    "# colors = ['purple','blue','cyan','green','yellow']\n",
    "# for p in range(1,len(colors)+1):\n",
    "#     u = NLBVP(p,guess,30)\n",
    "#     plt.plot(x,u,color=colors[p-1], linewidth=2.5)\n",
    "\n",
    "# plt.xlabel('x',   fontsize=20)\n",
    "# plt.ylabel('u(x)',fontsize=20)\n",
    "# plt.legend([' p = 1',' p = 2',' p = 3',' p = 4',' p = 5'],fontsize=15)\n",
    "print(len(guess))\n",
    "u = NLBVP(3,guess,30)\n",
    "print(len(u))\n",
    "I = lambda theta: 2/np.sqrt(3 - np.cos(theta))\n",
    "\n",
    "theta = np.linspace(0,np.pi,2000)\n",
    "\n",
    "A = (np.sum(I(theta[1:-1])) + 0.5*(I(0) + I(np.pi)))*theta[1]\n",
    "print(A)\n",
    "n2 = n//2 + 1\n",
    "x2 = x[:n2]\n",
    "u2 = u[:n2]\n",
    "\n",
    "plt.figure(figsize=(9,6))\n",
    "plt.plot(x2,u2,linewidth=2.5)\n",
    "plt.plot(x2,A + 0*x2,linewidth=2.5)\n",
    "plt.plot(x2,((A**2)/np.sqrt(2))*x2,linewidth=2.5)\n",
    "\n",
    "plt.xlabel('x',   fontsize=20)\n",
    "plt.ylabel('u(x)',fontsize=20)\n",
    "plt.title('Easy solution checks', fontsize=20)\n",
    "plt.tick_params(axis='both',labelsize=20)\n",
    "\n",
    "plt.legend(['u(x)','A','$A^{2} x / \\sqrt{2}$'], fontsize=20);"
   ]
  },
  {
   "cell_type": "markdown",
   "metadata": {},
   "source": [
    "<br>\n",
    "\n",
    "<br>\n",
    "\n",
    "<br>\n",
    "\n",
    "<br>\n",
    "\n",
    "<br>\n",
    "\n",
    "<br>\n",
    "\n",
    "<br>\n",
    "\n",
    "<br>"
   ]
  },
  {
   "cell_type": "markdown",
   "metadata": {},
   "source": [
    "## QUESTION 13:\n",
    "\n",
    "Chebyshev polynomials are defined by the expression:\n",
    "\n",
    "$$\\large\n",
    "T_{n}(\\cos \\theta)  \\ = \\ \\cos(n \\theta).\n",
    "$$\n",
    "\n",
    "These are nothing other than trig identies. The first few examples are \n",
    "\n",
    "$$\\large\n",
    "T_{0}(x) \\ = \\  1, \\quad T_{1}(x) \\ = \\ x, \\quad T_{2}(x) \\ = \\ 2 x^2-1, \\quad T_{3}(x) \\ = \\ 4 x^3-3 x\n",
    "$$\n",
    "\n",
    "$$\\large\n",
    "T_{4}(x) \\ = \\ 8 x^4-8 x^2+1, \\quad T_{5}(x) \\ = \\ 16 x^5-20 x^3+5 x .\n",
    "$$\n",
    "\n",
    "\n",
    "You can verify (for example) \n",
    "\n",
    "$$\\large\n",
    "2 \\cos^2(\\theta)-1 \\ = \\ \\cos(2\\theta), \\qquad 4 \\cos^3(\\theta) - 3 \\cos(\\theta) \\ = \\ \\cos(3\\theta).\n",
    "$$\n",
    "\n",
    "\n",
    "<br>\n",
    "\n",
    "Write a function that computes $T_{n}(x)$ for any non-negative integer `n`, and any `x` in the range $[-1,+1]$; including the end points.\n",
    "\n",
    "\n",
    "* You function should be vectorised in both `n` and `x`.\n",
    "\n",
    "\n",
    "\n",
    "*Hint:* solve the first equation for $\\theta$.\n"
   ]
  },
  {
   "cell_type": "code",
   "execution_count": 668,
   "metadata": {},
   "outputs": [],
   "source": [
    "### TEST FUNCTION: test_T\n",
    "## DO NOT ERASE ANYTHING INITIALLY IN THIS CELL ##\n",
    "\n",
    "def T(n,x):\n",
    "    \n",
    "    ### PUT YOUR CODE BELOW THIS LINE ###\n",
    "    return np.cos(n*np.arccos(x))"
   ]
  },
  {
   "cell_type": "code",
   "execution_count": 705,
   "metadata": {},
   "outputs": [
    {
     "data": {
      "text/plain": [
       "<matplotlib.legend.Legend at 0x1262590f0>"
      ]
     },
     "execution_count": 705,
     "metadata": {},
     "output_type": "execute_result"
    },
    {
     "data": {
      "text/plain": [
       "<Figure size 432x288 with 0 Axes>"
      ]
     },
     "metadata": {},
     "output_type": "display_data"
    },
    {
     "data": {
      "image/png": "[encoded data removed]",
      "text/plain": [
       "<Figure size 1440x864 with 1 Axes>"
      ]
     },
     "metadata": {
      "needs_background": "light"
     },
     "output_type": "display_data"
    }
   ],
   "source": [
    "### SKIP\n",
    "### TEST YOUR CODE HERE ###\n",
    "plt.clf()\n",
    "#2d\n",
    "x = np.linspace(-1,1,100)\n",
    "# n = np.linspace(0,10,100)\n",
    "plt.figure(figsize=(20,12))\n",
    "colors = ['purple','blue','cyan','green','yellow', 'red', 'black', 'magenta']\n",
    "plt.xlabel('x',   fontsize=20)\n",
    "plt.ylabel('$T_n(x)$',fontsize=10)\n",
    "plt.ylim(-2,2)\n",
    "for p in range(0,len(colors)):\n",
    "    y = T(p,x)\n",
    "    label = 'n = ' + str(p)\n",
    "    plt.plot(x,y,color=colors[p], linewidth=2.5, label=label)\n",
    "plt.legend()\n",
    "\n",
    "# #3d \n",
    "# from mpl_toolkits import mplot3d\n",
    "# plt.clf()\n",
    "# fig = plt.figure()\n",
    "# plt.figure(figsize=(20,12))\n",
    "# x = np.linspace(-1, 1, 10)\n",
    "# y = np.linspace(0, 10, 10)\n",
    "\n",
    "# X, Y = np.meshgrid(x, y)\n",
    "# Z = T(Y,X)\n",
    "# fig = plt.figure()\n",
    "# ax = plt.axes(projection='3d')\n",
    "# ax.contour3D(X, Y, Z, 50, cmap='binary')\n",
    "# ax.set_xlabel('x')\n",
    "# ax.set_ylabel('n')\n",
    "# ax.set_zlabel('$T_N(X)$');"
   ]
  },
  {
   "cell_type": "markdown",
   "metadata": {},
   "source": [
    "<br>"
   ]
  },
  {
   "cell_type": "markdown",
   "metadata": {},
   "source": [
    "## QUESTION 14:\n",
    "\n",
    "\n",
    "* Assume `y[i]` is the value of an unknown function at some set of sample points, `x[i]` where $i=0,...,n-1$.\n",
    "\n",
    "\n",
    "* The points could be uniformly spaced, or not.\n",
    "\n",
    "\n",
    "* We want to construct the *Chebyshev approxination* of $f(x)$. \n",
    "\n",
    "\n",
    "* That is, a degree-$d$ expansion of Chebyshev polynomials that depends on the coefficients $c_{k}$ where $k=0,...,d$,\n",
    "\n",
    "\n",
    "$$\\large\n",
    "P(x;c) \\ = \\ \\sum_{k=0}^{d} c_{k} \\, T_{k}(x).\n",
    "$$\n",
    "\n",
    "\n",
    "* Make a function that returns an `np.ndarray` of fitting values `z` where \n",
    "\n",
    "$$\\large\n",
    "z_{i} \\ = \\ P(x_{i};c)  \\qquad \\text{where} \\qquad \\sum_{i=0}^{n-1} \\, \\left|\n",
    "\\, P(x_{i};c) - y_{i} \\, \\right|^{\\,2} \\quad \\to \\quad \\min! \n",
    "$$\n",
    "\n",
    "\n",
    "* The minimisation happens over the set of $c_{k}$ coefficients.\n",
    "\n",
    "\n",
    "* You should also return the coefficient `np.ndarray`, `c`, along with the value `z`. \n",
    "\n",
    "        c, z = Chebyshev_fit(degree,x,y)\n",
    " \n",
    "\n",
    "*Hint*. If you input the values of a single Chebyshev polynomial, then you should get out the same results. And the coefficient array should contain a `1` in the position associate with that polynomial, and (approximately) zeros elsewhere. \n",
    "\n",
    "\n",
    "#### For example\n",
    "\n",
    "\n",
    "        In [0]: x = np.linspace(-1,1,6)\n",
    "                y = T(3,x)\n",
    "                \n",
    "                c, z = Chebyshev_fit(5,x,y)\n",
    "                \n",
    "                c[np.where(np.abs(c) < 1e-15)] = 0\n",
    "                \n",
    "                print(c)\n",
    "                \n",
    "        Out[0]: [0. 0. 0. 1. 0. 0.]\n",
    "                "
   ]
  },
  {
   "cell_type": "code",
   "execution_count": 822,
   "metadata": {},
   "outputs": [],
   "source": [
    "### TEST FUNCTION: test_Chebyshev_fit\n",
    "## DO NOT ERASE ANYTHING INITIALLY IN THIS CELL ##\n",
    "\n",
    "def Chebyshev_fit(degree,x,y):\n",
    "    \"\"\"Computes the least-squares Chebyshev polynomial model \n",
    "    \n",
    "        z = c[0]*T(0,x) + c[1]*T(1,x) + ... + c[degree]*T(degree,x)\n",
    "        \n",
    "        The function returns c, z. \n",
    "    \n",
    "    Parameters\n",
    "    ----------\n",
    "    degree: polynomial degree for fitting function.\n",
    "    x: length-n numpy array of grid values\n",
    "    y: length-n numpy array of function values.\n",
    "    \n",
    "    \n",
    "    \"\"\"\n",
    "    \n",
    "    # These might help. \n",
    "    # You can comment them out if you prefer not to use them.\n",
    "    \n",
    "    k = np.arange(degree+1)\n",
    "    \n",
    "    # m is essentially T(k,x)\n",
    "    M = T(k[None,:],x[:,None]) # Broadcasting\n",
    "    L = np.average(M[:,:,None]*M[:,None,:],axis=0)\n",
    "    AT = M.T\n",
    "    ATA = AT @ M\n",
    "    ATB = AT @ y\n",
    "    coefs = np.linalg.solve(ATA,ATB)\n",
    "    z = M @ coefs\n",
    "    return (coefs, z)"
   ]
  },
  {
   "cell_type": "code",
   "execution_count": 826,
   "metadata": {},
   "outputs": [
    {
     "data": {
      "text/plain": [
       "1.0"
      ]
     },
     "execution_count": 826,
     "metadata": {},
     "output_type": "execute_result"
    },
    {
     "data": {
      "image/png": "[encoded data removed]",
      "text/plain": [
       "<Figure size 432x288 with 1 Axes>"
      ]
     },
     "metadata": {
      "needs_background": "light"
     },
     "output_type": "display_data"
    }
   ],
   "source": [
    "### SKIP\n",
    "### TEST YOUR CODE HERE ###\n",
    "from scipy import stats\n",
    "x = np.linspace(-1,1,1000)\n",
    "# y = T(4,x)\n",
    "y = 21*x**8\n",
    "c,z = Chebyshev_fit(9,x,y)\n",
    "c[np.where(np.abs(c) < 1e-15)] = 0\n",
    "plt.plot(x,y,label='actual')\n",
    "plt.scatter(x,z,label='estimated',c='r')\n",
    "plt.legend()\n",
    "def rsquared(x, y):\n",
    "    \"\"\" Return R^2 where x and y are array-like.\"\"\"\n",
    "\n",
    "    slope, intercept, r_value, p_value, std_err = stats.linregress(x, y)\n",
    "    return r_value**2\n",
    "rsquared(y,z)"
   ]
  },
  {
   "cell_type": "markdown",
   "metadata": {},
   "source": [
    "<br>\n",
    "\n",
    "<br>\n",
    "\n",
    "<br>\n",
    "\n",
    "<br>\n",
    "\n",
    "<br>\n",
    "\n",
    "<br>\n",
    "\n",
    "<br>\n",
    "\n",
    "<br>\n",
    "\n",
    "# END EXAM HERE"
   ]
  },
  {
   "cell_type": "code",
   "execution_count": null,
   "metadata": {},
   "outputs": [],
   "source": []
  }
 ],
 "metadata": {
  "kernelspec": {
   "display_name": "Python 3",
   "language": "python",
   "name": "python3"
  },
  "language_info": {
   "codemirror_mode": {
    "name": "ipython",
    "version": 3
   },
   "file_extension": ".py",
   "mimetype": "text/x-python",
   "name": "python",
   "nbconvert_exporter": "python",
   "pygments_lexer": "ipython3",
   "version": "3.6.5"
  },
  "toc": {
   "nav_menu": {},
   "number_sections": true,
   "sideBar": true,
   "skip_h1_title": false,
   "title_cell": "Table of Contents",
   "title_sidebar": "Contents",
   "toc_cell": false,
   "toc_position": {},
   "toc_section_display": "block",
   "toc_window_display": false
  },
  "varInspector": {
   "cols": {
    "lenName": 16,
    "lenType": 16,
    "lenVar": 40
   },
   "kernels_config": {
    "python": {
     "delete_cmd_postfix": "",
     "delete_cmd_prefix": "del ",
     "library": "var_list.py",
     "varRefreshCmd": "print(var_dic_list())"
    },
    "r": {
     "delete_cmd_postfix": ") ",
     "delete_cmd_prefix": "rm(",
     "library": "var_list.r",
     "varRefreshCmd": "cat(var_dic_list()) "
    }
   },
   "types_to_exclude": [
    "module",
    "function",
    "builtin_function_or_method",
    "instance",
    "_Feature"
   ],
   "window_display": false
  }
 },
 "nbformat": 4,
 "nbformat_minor": 2
}
