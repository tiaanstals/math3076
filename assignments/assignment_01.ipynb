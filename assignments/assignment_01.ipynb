{
 "cells": [
  {
   "cell_type": "markdown",
   "metadata": {},
   "source": [
    "# Assignment 1: Real normed division algebras\n",
    "\n",
    "<br>\n",
    "\n",
    "<h2><center> Due: 11:59PM, 17 April 2020. </center></h2>\n",
    "\n",
    "<br>\n",
    "\n",
    "## INSTRUCTIONS (READ CAREFULLY): \n",
    "\n",
    "<br>\n",
    "\n",
    "### HONESTY IS THE BEST POLICY\n",
    "\n",
    "\n",
    "* **0) Cite any material (*code or information*) you use from the Internet, or any other source. You can do this in comments in your code, or separate Markdown cells.**\n",
    "\n",
    "* **1) Feel free to work in groups. It's more fun and more effective. However, if you do work in groups, you must state the people you worked with here:**\n",
    "\n",
    "* **2) Everyone must submit their own version of THIS notebook.**"
   ]
  },
  {
   "cell_type": "code",
   "execution_count": 8,
   "metadata": {},
   "outputs": [],
   "source": [
    "### TEST FUNCTION: test_team_members\n",
    "### LIST TEAM HERE ###\n",
    "\n",
    "Team_List = ['Stals, First_Name']"
   ]
  },
  {
   "cell_type": "markdown",
   "metadata": {},
   "source": [
    "<h3><center> You can use literally any source, as long as you cite things properly. </center></h3>"
   ]
  },
  {
   "cell_type": "markdown",
   "metadata": {},
   "source": [
    "### SAFETY FIRST\n",
    "\n",
    "* **3) Make sure to save your work. FREQUENTLY.**\n",
    "\n",
    "* **4) If you use too much memory, you may be unable to open your notebook. DOWNLOAD your workspace before making any changes.**\n",
    "\n",
    "<br>\n",
    "\n",
    "### MARKING GUIDLINES\n",
    "\n",
    "* **5) Each sub TASK will have detailed instructions. Read these and the mathematical background carefully.**\n",
    "\n",
    "\n",
    "* **6) TEST your results EXTENSIVELY. You can check against the Examples, but also check with lots of different inputs.**\n",
    "\n",
    "\n",
    "* **7) I will make sure your code runs without errors and gives the correct results in a reasonable amount of time. I do not care about the fine details of how you get it to work. I only care about the output, not the specific implementation.**\n",
    "\n",
    "\n",
    "* **8) Getting part of a function working is better than getting nothing. For example, I will check if functions give correct answers for correct inputs. And I will check to see if functions give proper error messages with invalid input. But getting correct answers with correct input is more important that handling errors.**\n",
    "\n",
    "\n",
    "* **9) I will expect correct results to machine roundoff. Roughly smaller than 1e-14.**\n",
    "\n",
    "\n",
    "* **10) All section MATH3076/3976/4076 must complete TASK 0 and TASK 1. TASK 2 is only required for MATH 3976/4076.**\n",
    "\n",
    "\n",
    "### AUTO-MARKING\n",
    "\n",
    "* **11) The marking software tests cells that start with ### TEST FUNCTION. Do not erase anything I've put in one of those cells.**\n",
    "\n",
    "\n",
    "* **12) The marking sortware ignores cells that start with ### SKIP. Do not erase the ### SKIP comment.**\n",
    "\n",
    "* **13) If you make any new cells, you must include the ### SKIP comment at the top. Otherwise, you risk your whole notebook failing during the marking process.**\n",
    "\n",
    "\n",
    "* **14) Code from TASK 0 can call code from TASK 0, but no other TASKS.**\n",
    "\n",
    "\n",
    "* **15) Code from TASK 1 can call code from TASK 1, but no other TASKS.**\n",
    "\n",
    "\n",
    "* **16) Code from TASK 2 can call code TASK 1 or TASK 2, but not TASKS 0.**\n",
    "\n",
    "\n",
    "* **17) All output must be as described in the detailed instructions. DO NOT include additional unspecified output with your functions.**\n",
    "\n",
    "* **18) The \"Mark\" button is needed to log the submission time for your assignment. Make sure to press it when you want to submit. It won't do anything else until after the due date.**\n",
    "\n",
    "<br>\n",
    "\n",
    "### Have fun and good luck!\n",
    "\n",
    "<br>"
   ]
  },
  {
   "cell_type": "markdown",
   "metadata": {},
   "source": [
    "## Complex numbers: $\\boldsymbol{\\mathbb{C}}$\n",
    "\n",
    "We all know about numbers of the form \n",
    "\n",
    "$$\\large\n",
    "c = a + b \\,i , \\qquad \\text{where} \\qquad a,\\,b \\ \\in \\ \\mathbb{R} \\qquad \\text{and} \\qquad i^{2}  \\ = \\ -1.\n",
    "$$ \n",
    "\n",
    "This definition allows us to multiply any two numbers with the rule \n",
    "\n",
    "$$\\large\n",
    "(a_{1} + b_{1} i) \\times (a_{2} + b_{2} i) \\ = \\ (a_{1} a_{2} - b_{1} b_{2}) + (a_{1} b_{2} + b_{1} a_{2}) \\, i\n",
    "$$\n",
    "\n",
    "With complex numbers, there is also the important concept of the ***conjugate***. \n",
    "\n",
    "$$\\large\n",
    "c^{*} = a - b \\,i.\n",
    "$$\n",
    "\n",
    "This is important because \n",
    "\n",
    "$$\\large\n",
    "c\\, c^{*} = c^{*} c \\ = \\  |c|^{2} \\ = \\ a^{2} + b^{2} \\ > \\ 0 \\qquad \\text{for} \\qquad a , \\, b \\ne 0. \n",
    "$$\n",
    "\n",
    "Because $c\\, c^{*}$ is a real number, we can define the inverse of a complex number $c\\ne 0$.\n",
    "\n",
    "$$\\large\n",
    "c^{-1} \\ = \\ \\frac{c^{*}}{|c|^{2}} \\quad \\text{such that} \\quad c\\, c^{-1} \\ = \\ c^{-1} c \\ = \\ 1.\n",
    "$$\n",
    "\n",
    "The multiplication structure and conjugate is all you need to work out the full properties of complex numbers. In particular, the complex numbers are:\n",
    "\n",
    "<br>\n",
    "\n",
    "   * $\\large \\textbf{Commutative: } \\ c_{1} c_{2} = c_{2} c_{1}$.\n",
    "\n",
    "\n",
    "\n",
    "   * $\\large \\textbf{Associative: } \\ (c_{1} c_{2}) c_{3} = c_{1} (c_{2} c_{3})$ \n",
    "\n",
    "    \n",
    "    \n",
    "   * $\\large \\textbf{Divisible: } \\ c_{1} c_{2} = c_{3} \\  \\iff \\  c_{2} = c_{1}^{-1} c_{3} \\  \\text{uniquely}.$\n",
    "   \n",
    "   \n",
    "   * $\\large \\textbf{Non-ordered: } \\ c_{1} < c_{2} \\text{ doesn't make sense}.$\n",
    "\n",
    "<br>\n",
    "\n"
   ]
  },
  {
   "cell_type": "markdown",
   "metadata": {},
   "source": [
    "## Quaternions: $\\boldsymbol{\\mathbb{H}}$\n",
    "\n",
    "After the mathematical world came to understand complex numbers, people began to ask \"is it possible to do similar things in more dimensions?\"\n",
    "\n",
    "Principle among those wondering was William Rowan Hamilton (1805-1865). He tried for a long time to find a three-dimensional version of complex numbers. At one point, he wrote a letter to his son explaining:\n",
    "\n",
    "    \"Every morning in the early part of October 1843, on my coming down to breakfast, \n",
    "    your brother William Edwin and yourself used to ask me: \"Well, Papa, can you multiply\n",
    "    triples?\" Whereto I was always obliged to reply, with a sad shake of the head, \n",
    "    \"No, I can only add and subtract them.\"\n",
    "    \n",
    "Apparently, the story goes that on October 16, 1843 he was walking with his wife along the Royal Canal in Dublin. As he was crossing the Brougham Bridge, the idea struck him all at once. He was so excited (according to legend) that he wrote a now-famous expression directly on the bridge\n",
    "\n",
    "$$ \\large \n",
    "i^{2} \\ = \\ j^{2} \\ = \\ k^{2} \\ = \\ i j k \\ = \\ -1.\n",
    "$$\n",
    "\n",
    "What does this mean? It means that you can't multiply three-dimensional numbers. But you can multiply *four-dimensional numbers.* Hamilton discovered the ***quaternions***. These are numbers of the form\n",
    "\n",
    "$$\\large\n",
    "q \\ = \\ a + b\\, i + c\\, j + d\\, k \\qquad \\text{where} \\qquad a,b,c,d \\ \\in \\ \\mathbb{R}\n",
    "$$\n",
    "\n",
    "<br>\n",
    "\n",
    "### Addition\n",
    "\n",
    "Just like complex numbers, we can ***add*** quaternions term-by-term:\n",
    "\n",
    "$$\\large\n",
    "q_{1} + q_{2} \\ = \\ (a_{1}+a_{2}) + (b_{1}+b_{2})\\, i + (c_{1}+c_{2})\\, j + (d_{1}+d_{2})\\, k .\n",
    "$$\n",
    "\n",
    "<br>\n",
    "\n",
    "### Multiplication\n",
    "\n",
    "From Hamilton's original inspiration it's possible to work out how to ***multiply*** any two quaternions. Working out the full multiplication table between any two \"imaginary\" units,\n",
    "\n",
    "$$\\large\n",
    "\\begin{array}{rrrrr}\n",
    " \\times\\!\\! & | & i & j & k \\\\\n",
    "  \\hline \n",
    "i & | & -1 & k & -j \\\\\n",
    "j & | & -k & -1 & i \\\\\n",
    "k & | & j & -i & -1 \\\\\n",
    "\\end{array}\n",
    "$$\n",
    "\n",
    "<br>\n",
    "\n",
    "If you notice, this table is not symmetric when reflected across the diagonal. This is important. \n",
    "\n",
    "### The quaternions are not *commutative*. \n",
    "\n",
    "$$\\large\n",
    "\\text{There exists} \\quad q_{1} q_{2} \\ \\ne \\ q_{2} q_{1}.\n",
    "$$\n",
    "\n",
    "Even though the quaternions don't commute they are associative:\n",
    "\n",
    "$$\\large\n",
    "q_{1} (q_{2} q_{3} )  \\ = \\ (q_{1} q_{2}) q_{3} .\n",
    "$$\n",
    "\n",
    "<br>\n",
    "\n",
    "### The conjugate. \n",
    "\n",
    "Just as the complex numbers have a conjugate, so do the quaternions:\n",
    "\n",
    "$$\\large\n",
    "q^{*} = a - b i - c j - d k .\n",
    "$$\n",
    "\n",
    "You can verify that \n",
    "\n",
    "$$\\large\n",
    "q q^{*} \\ = \\  q^{*} q \\ = \\ a^{2} + b^{2} + c^{2} + d^{2} > 0 \\qquad \\text{for} \\qquad a,b,c,d \\ne 0.\n",
    "$$\n",
    "\n",
    "<br>\n",
    "\n",
    "### The norm.\n",
    "\n",
    "That $q q^{*}$ is a positive real number implies that we can make a sensible norm for quaternions.\n",
    "\n",
    "$$\\large\n",
    "| q | \\ = \\ \\sqrt{q^{*} q} \\ \\ge \\ 0 \\qquad \\text{and} \\qquad |q| = 0 \\ \\iff \\ q = 0.\n",
    "$$\n",
    "\n",
    "An important property of this norm is \n",
    "\n",
    "$$\\large\n",
    "| q_{1} q_{2} | \\ = \\ |q_{1}| \\, | q_{2} |.\n",
    "$$\n",
    "\n",
    "<br>\n",
    "\n",
    "### The inverse.\n",
    "\n",
    "We can use the norm and conjugate to define an ***inverse***\n",
    "\n",
    "$$\\large\n",
    "q^{-1} \\ = \\ \\frac{q^{*}}{|q|^{2}} \\qquad \\iff \\qquad q q^{-1} = q^{-1} q  = 1 \\qquad \\text{uniquely}.\n",
    "$$\n",
    "\n",
    "The quaternions are a non-commutative ***normed division algebra***. \n",
    "\n",
    "\n",
    "<br>\n",
    "\n",
    "### Division\n",
    "\n",
    "It's harder to prove, but we can \"divide\" quaternions in the sense that we can solve multiplication *uniquely*.  \n",
    "\n",
    "$$\\large\n",
    "q_{1} q_{2} \\ = \\ q_{3} \\qquad \\iff \\qquad q_{1} \\ = \\ q_{3} q_{2}^{-1} \\ = \\ q_{3}\\,/\\,q_{2} \\qquad \\textit{uniquely}.\n",
    "$$\n",
    "\n",
    "The uniqueness is the critical aspect. There are some cases where inverses make sense, but there are situations where $q_{1} q_{2} = 0$, but $q_{1}, q_{2} \\ne 0$.\n",
    "\n",
    "<br>\n",
    "\n",
    "## Some extra facts \n",
    "\n",
    "\n",
    "### Scalar-Vector decomposition \n",
    "\n",
    "We can alternatively think of quaternions of ordered pairs of the form\n",
    "\n",
    "$$\\large\n",
    "q \\ = \\ (s, v),\n",
    "$$\n",
    "\n",
    "where $s$ is a single real scalar, and $v = (v_{1}, v_{2}, v_{3})$ is a real three-dimensional vector. There are two different ways we can multiply 3D vectors: the dot product, and cross product. Quaternions use both: \n",
    "\n",
    "$$\\large\n",
    "q_{1} q_{2} = (s_{1}, v_{1})(s_{2}, v_{2}) \\ = \\ (s_{1}s_{2} - v_{1}\\cdot v_{2} \\, ,\\, s_{1} v_{2} + s_{2} v_{1} + v_{1} \\times v_{2})\n",
    "$$\n",
    "\n",
    "It's simple to work out how multiplication doesn't commute,\n",
    "\n",
    "$$\\large\n",
    "q_{1} q_{2} - q_{2} q_{1} \\ = \\ 2 v_{1} \\times v_{2}.\n",
    "$$\n",
    "\n",
    "The non-commutativity is isolated to the vector portion of the multiplication. \n",
    "\n",
    "<br>\n",
    "\n",
    "\n",
    "\n",
    "### Cayley-Dickenson construction \n",
    "\n",
    "We can also think of quaternions as ordered pairs of complex numbers,\n",
    "\n",
    "$$\\large\n",
    "q = (z,w) \\qquad \\text{where} \\qquad z = a + \\sqrt{-1} b, \\quad w = c + \\sqrt{-1} d.\n",
    "$$\n",
    "\n",
    "This comforms with the original definition because $\\text{i}  \\text{j} = \\text{k}$. Therefore, \n",
    "\n",
    "$$\\large\n",
    "q = a + b \\text{i} + c \\text{j} + d \\text{k} \\ = \\ (a + b \\text{i}) + (c  + d \\text{i})\\, \\text{j}.\n",
    "$$\n",
    "\n",
    "In this case, the quaternions multiplication mimics complex multiplication, only with conjugates involved to make everything work nicely.  \n",
    "\n",
    "$$\\large\n",
    "(z_{1},w_{1}) \\times (z_{2},w_{2}) \\ = \\ (z_{1} z_{2} - w_{2}^{*} w_{1}, w_{2} z_{1} + w_{1} z_{2}^{*} ).\n",
    "$$\n",
    "\n",
    "<br>\n",
    "\n",
    "### Matrix representation \n",
    "\n",
    "We can also think of quaternions as $2\\times 2$ complex matrices,\n",
    "\n",
    "$$\\large\n",
    "q \\ = \\ \\left[\\begin{array}{cc} \n",
    "a + \\sqrt{-1} \\, b & c + \\sqrt{-1} \\, d \\\\\n",
    "- c + \\sqrt{-1} d & a - \\sqrt{-1} \\, b\n",
    "\\end{array} \\right].\n",
    "$$\n",
    "\n",
    "In this case, I've used $\\sqrt{-1}$ to distinguish it from the quaternion $i$. \n",
    "\n",
    "<br>\n"
   ]
  },
  {
   "cell_type": "markdown",
   "metadata": {},
   "source": [
    "<br>"
   ]
  },
  {
   "cell_type": "markdown",
   "metadata": {},
   "source": [
    "## TASK 0 (MATH3076/3976/4076)\n",
    "\n",
    "For **TASK 0.X**, we want to interpret quaternions as ***length-4*** **`tuples`**. That is, \n",
    "\n",
    "<br>\n",
    "\n",
    "$$\\large\n",
    "q = a + b\\, i + c\\, j + d\\, k \\quad \\iff \\quad q = (a,b,c,d) \\ \\in \\ \\mathbb{R}^{4}\n",
    "$$\n",
    "\n",
    "\n",
    "<br>\n",
    "\n",
    "* For **TASK 0**, a \"quaternion\" is *defined* to mean a length-4 `tuple` of real numbers; `int` or `float`.\n",
    "\n",
    "<br>"
   ]
  },
  {
   "cell_type": "markdown",
   "metadata": {},
   "source": [
    "### TASK 0.00; `quaternion_test`\n",
    "\n",
    "Make a function that takes one input argument `q`, determines if `q` is a \"quaternion\", and **`raise`** an error if not.\n",
    "\n",
    "The function should produce the following behaviour:\n",
    "\n",
    "* If `q` is not a `tuple`, the function should:\n",
    "    \n",
    "        raise TypeError('Input is not tuple.')\n",
    "        \n",
    "        \n",
    "* If `len(q)` is not 4, the function should:\n",
    "    \n",
    "        raise ValueError('Input is not length 4.')\n",
    "        \n",
    "        \n",
    "* If one of the elements of `q` is not either a `float` or `int`, the function should:\n",
    "\n",
    "        \n",
    "        raise TypeError('Element not a real number.')\n",
    "        \n",
    "        \n",
    "* The function should `return None`. The function should do nothing if everythig is correct."
   ]
  },
  {
   "cell_type": "code",
   "execution_count": 3,
   "metadata": {},
   "outputs": [],
   "source": [
    "### TEST FUNCTION: test_quaternion_test\n",
    "## DO NOT ERASE ANYTHING INITALLY IN THIS CELL ##\n",
    "\n",
    "def quaternion_test(q): \n",
    "    \n",
    "    ## INPUT YOUR CODE BELOW THIS LINE ## \n",
    "    # check for tuple\n",
    "    if not isinstance(q, tuple):\n",
    "        raise TypeError('Input is not tuple.')\n",
    "    # check for length\n",
    "    if len(q) != 4:\n",
    "        raise TypeError('Input is not length 4.')\n",
    "    \n",
    "    # check elements are real numbers\n",
    "    for element in q:\n",
    "        if (not isinstance(element, float)) and (not isinstance(element, int)):\n",
    "            raise TypeError('Element not a real number.')\n",
    "    \n",
    "    return None\n",
    "    "
   ]
  },
  {
   "cell_type": "code",
   "execution_count": 5,
   "metadata": {},
   "outputs": [
    {
     "name": "stdout",
     "output_type": "stream",
     "text": [
      "None\n"
     ]
    }
   ],
   "source": [
    "### SKIP\n",
    "### TEST YOUR CODE HERE ###\n",
    "\n",
    "q = (1,2,3,4)\n",
    "\n",
    "print(quaternion_test(q))\n"
   ]
  },
  {
   "cell_type": "markdown",
   "metadata": {},
   "source": [
    "<br>"
   ]
  },
  {
   "cell_type": "markdown",
   "metadata": {},
   "source": [
    "### TASK 0.01 : `real`\n",
    "\n",
    "\n",
    "Make a function that takes one \"quaternion\" argument, `q`, and returns the \"real\" part:\n",
    "\n",
    "$$\n",
    "\\Large q = (a,b,c,d) \\qquad \\iff \\qquad \\text{real}(q) = a.\n",
    "$$\n",
    "\n",
    "According to the rules of **TASK 0**:\n",
    "\n",
    "* The function should `raise` an error if the input is not a \"quaternion\" of the correct form.\n",
    "\n",
    "#### For example:\n",
    "\n",
    "    In [0]: real((1,2,3,4))\n",
    "    \n",
    "    Out[0]: 1"
   ]
  },
  {
   "cell_type": "code",
   "execution_count": 6,
   "metadata": {},
   "outputs": [],
   "source": [
    "### TEST FUNCTION: test_real\n",
    "## DO NOT ERASE ANYTHING INITALLY IN THIS CELL ##\n",
    "\n",
    "def real(q):\n",
    "    \n",
    "    ## INPUT YOUR CODE BELOW THIS LINE ## \n",
    "    if quaternion_test(q) == None:\n",
    "        return q[0]"
   ]
  },
  {
   "cell_type": "code",
   "execution_count": 7,
   "metadata": {},
   "outputs": [
    {
     "data": {
      "text/plain": [
       "1"
      ]
     },
     "execution_count": 7,
     "metadata": {},
     "output_type": "execute_result"
    }
   ],
   "source": [
    "### SKIP\n",
    "### TEST YOUR CODE HERE ###\n",
    "\n",
    "real(q)"
   ]
  },
  {
   "cell_type": "markdown",
   "metadata": {},
   "source": [
    "<br>"
   ]
  },
  {
   "cell_type": "markdown",
   "metadata": {},
   "source": [
    "### TASK 0.02 : `imag`\n",
    "\n",
    "\n",
    "Make a function that takes one \"quaternion\" argument, `q`, and returns the \"imag\" part:\n",
    "\n",
    "$$\n",
    "\\Large q = (a,b,c,d) \\qquad \\iff \\qquad \\text{imag}(q) = b.\n",
    "$$\n",
    "\n",
    "According to the rules of **TASK 0**:\n",
    "\n",
    "* The function should `raise` an error if the input is not a \"quaternion\" of the correct form.\n",
    "\n",
    "#### For example:\n",
    "\n",
    "    In [0]: imag((1,2,3,4))\n",
    "    \n",
    "    Out[0]: 2"
   ]
  },
  {
   "cell_type": "code",
   "execution_count": 8,
   "metadata": {},
   "outputs": [],
   "source": [
    "### TEST FUNCTION: test_imag\n",
    "## DO NOT ERASE ANYTHING INITALLY IN THIS CELL ##\n",
    "\n",
    "def imag(q):\n",
    "    \n",
    "    ## INPUT YOUR CODE BELOW THIS LINE ## \n",
    "    if quaternion_test(q) == None:\n",
    "        return q[1]"
   ]
  },
  {
   "cell_type": "code",
   "execution_count": 9,
   "metadata": {},
   "outputs": [
    {
     "data": {
      "text/plain": [
       "-4.008"
      ]
     },
     "execution_count": 9,
     "metadata": {},
     "output_type": "execute_result"
    }
   ],
   "source": [
    "### SKIP\n",
    "### TEST YOUR CODE HERE ###\n",
    "q = (23,-4.008000,45,43)\n",
    "imag(q)\n"
   ]
  },
  {
   "cell_type": "markdown",
   "metadata": {},
   "source": [
    "<br>"
   ]
  },
  {
   "cell_type": "markdown",
   "metadata": {},
   "source": [
    "### TASK 0.03 : `jmag`\n",
    "\n",
    "\n",
    "Make a function that takes one \"quaternion\" argument, `q`, and returns the \"jmag\" part:\n",
    "\n",
    "$$\n",
    "\\Large q = (a,b,c,d) \\qquad \\iff \\qquad \\text{jmag}(q) = c.\n",
    "$$\n",
    "\n",
    "According to the rules of **TASK 0**:\n",
    "\n",
    "* The function should `raise` an error if the input is not a \"quaternion\" of the correct form.\n",
    "\n",
    "#### For example:\n",
    "\n",
    "    In [0]: jmag((1,2,3,4))\n",
    "    \n",
    "    Out[0]: 3"
   ]
  },
  {
   "cell_type": "code",
   "execution_count": 10,
   "metadata": {},
   "outputs": [],
   "source": [
    "### TEST FUNCTION: test_jmag\n",
    "## DO NOT ERASE ANYTHING INITALLY IN THIS CELL ##\n",
    "\n",
    "def jmag(q):\n",
    "    \n",
    "    ## INPUT YOUR CODE BELOW THIS LINE ## \n",
    "    if quaternion_test(q) == None:\n",
    "        return q[2]\n",
    "    "
   ]
  },
  {
   "cell_type": "code",
   "execution_count": 12,
   "metadata": {},
   "outputs": [
    {
     "data": {
      "text/plain": [
       "45"
      ]
     },
     "execution_count": 12,
     "metadata": {},
     "output_type": "execute_result"
    }
   ],
   "source": [
    "### SKIP\n",
    "### TEST YOUR CODE HERE ###\n",
    "q = (23,-4.008000,45,43)\n",
    "jmag(q)\n"
   ]
  },
  {
   "cell_type": "markdown",
   "metadata": {},
   "source": [
    "<br>"
   ]
  },
  {
   "cell_type": "markdown",
   "metadata": {},
   "source": [
    "### TASK 0.04 : `kmag`\n",
    "\n",
    "\n",
    "Make a function that takes one \"quaternion\" argument, `q`, and returns the \"kmag\" part:\n",
    "\n",
    "$$\n",
    "\\Large q = (a,b,c,d) \\qquad \\iff \\qquad \\text{kmag}(q) = d.\n",
    "$$\n",
    "\n",
    "According to the rules of **TASK 0**:\n",
    "\n",
    "* The function should `raise` an error if the input is not a \"quaternion\" of the correct form.\n",
    "\n",
    "#### For example:\n",
    "\n",
    "    In [0]: kmag((1,2,3,4))\n",
    "    \n",
    "    Out[0]: 4"
   ]
  },
  {
   "cell_type": "code",
   "execution_count": 13,
   "metadata": {},
   "outputs": [],
   "source": [
    "### TEST FUNCTION: test_kmag\n",
    "## DO NOT ERASE ANYTHING INITALLY IN THIS CELL ##\n",
    "\n",
    "def kmag(q):\n",
    "    \n",
    "    ## INPUT YOUR CODE BELOW THIS LINE ## \n",
    "    if quaternion_test(q) == None:\n",
    "        return q[3]"
   ]
  },
  {
   "cell_type": "code",
   "execution_count": 14,
   "metadata": {},
   "outputs": [
    {
     "data": {
      "text/plain": [
       "43"
      ]
     },
     "execution_count": 14,
     "metadata": {},
     "output_type": "execute_result"
    }
   ],
   "source": [
    "### SKIP\n",
    "### TEST YOUR CODE HERE ###\n",
    "q = (23,-4.008000,45,43)\n",
    "kmag(q)\n"
   ]
  },
  {
   "cell_type": "markdown",
   "metadata": {},
   "source": [
    "<br>"
   ]
  },
  {
   "cell_type": "markdown",
   "metadata": {},
   "source": [
    "### TASK 0.05 : `string`\n",
    "\n",
    "Make a function that takes one \"quaternion\" argument, `q`, and returns a formatted strig output.\n",
    "\n",
    "$$\n",
    "\\Large q = (a,b,c,d) \\qquad \\iff \\qquad \\text{string}(q) \\ = \\  \\text{'(} a+ b \\text{i}+c\\text{j}+d\\text{k}\\text{)'}.\n",
    "$$\n",
    "\n",
    "\n",
    "According to the rules of **TASK 0**:\n",
    "\n",
    "* The function should `raise` an error if the input is not a \"quaternion\" of the correct form.\n",
    "\n",
    "\n",
    "* For positive $a,b,c,d$, the output should be a `string` formatted as given above.\n",
    "\n",
    "\n",
    "* If any of the coefficients $b,c,d$ are negative, then the '+' sign should be replaced with a '-' sign. \n",
    "\n",
    "\n",
    "#### For example:\n",
    "\n",
    "    In [0]: string((1,2,3,4))\n",
    "    \n",
    "    Out[0]: '(1+2i+3j+4k)'\n",
    "    \n",
    "    \n",
    "    In [1]: string((-1,2,3,4))\n",
    "    \n",
    "    Out[1]: '(-1+2i+3j+4k)'\n",
    "\n",
    "\n",
    "    In [2]: string((1,-2,3,4))\n",
    "    \n",
    "    Out[2]: '(1-2i+3j+4k)'\n",
    "    \n",
    "    \n",
    "    In [3]: string((-1.1,2.3,-3.7,4.8))\n",
    "    \n",
    "    Out[3]: '(-1.1+2.3i-3.7j+4.8k)'\n",
    "\n",
    "\n"
   ]
  },
  {
   "cell_type": "code",
   "execution_count": 85,
   "metadata": {},
   "outputs": [],
   "source": [
    "### TEST FUNCTION: test_string\n",
    "## DO NOT ERASE ANYTHING INITALLY IN THIS CELL ##\n",
    "\n",
    "def string(q):\n",
    "    \n",
    "    ## INPUT YOUR CODE BELOW THIS LINE ## \n",
    "    if quaternion_test(q) == None:\n",
    "        quart_string = '(' + str(real(q))\n",
    "        if imag(q) >= 0:\n",
    "            quart_string += '+'\n",
    "        quart_string += str(imag(q)) + 'i'\n",
    "        if jmag(q) >= 0:\n",
    "            quart_string += '+'\n",
    "        quart_string += str(jmag(q)) + 'j'\n",
    "        if kmag(q) >= 0:\n",
    "            quart_string += '+'\n",
    "        quart_string += str(kmag(q)) + 'k'\n",
    "        quart_string +=')'\n",
    "        return quart_string"
   ]
  },
  {
   "cell_type": "code",
   "execution_count": 86,
   "metadata": {},
   "outputs": [
    {
     "data": {
      "text/plain": [
       "'(-1.1+2.3i-3.7j+4.8k)'"
      ]
     },
     "execution_count": 86,
     "metadata": {},
     "output_type": "execute_result"
    }
   ],
   "source": [
    "### SKIP\n",
    "### TEST YOUR CODE HERE ###\n",
    "string((-1.1,2.3,-3.7,4.8))"
   ]
  },
  {
   "cell_type": "markdown",
   "metadata": {},
   "source": [
    "<br>"
   ]
  },
  {
   "cell_type": "markdown",
   "metadata": {},
   "source": [
    "### TASK 0.06 : `add`\n",
    "\n",
    "Make a function that takes two \"quaternion\" arguments, `q`, `r`, and returns the result of \n",
    "\n",
    "$$\n",
    "\\Large q \\ + \\ r .\n",
    "$$\n",
    "\n",
    "According to the rules of **TASK 0**:\n",
    "\n",
    "* The output should be a \"quaternion\". \n",
    "\n",
    "\n",
    "* The function should `raise` an error if one of the inputs is not a \"quaternion\" of the correct form.\n",
    "\n",
    "\n",
    "#### For example:\n",
    "\n",
    "    In [0]: add((1,2,3,4),(5,6,7,8))\n",
    "    \n",
    "    Out[0]: (6, 8, 10, 12)\n",
    "\n",
    "<br>"
   ]
  },
  {
   "cell_type": "code",
   "execution_count": 49,
   "metadata": {},
   "outputs": [],
   "source": [
    "### TEST FUNCTION: test_add\n",
    "## DO NOT ERASE ANYTHING INITALLY IN THIS CELL ##\n",
    "\n",
    "def add(q,r):\n",
    "    \n",
    "    ## INPUT YOUR CODE BELOW THIS LINE ## \n",
    "    if (quaternion_test(q) == None) and (quaternion_test(r) == None):\n",
    "        reals = real(q) + real(r)\n",
    "        imags = imag(q) + imag(r)\n",
    "        jmags = jmag(q) + jmag(r)\n",
    "        kmags = kmag(q) + kmag(r)\n",
    "        return (reals,imags,jmags,kmags)\n",
    "        \n",
    "    \n",
    "    "
   ]
  },
  {
   "cell_type": "code",
   "execution_count": 55,
   "metadata": {},
   "outputs": [
    {
     "data": {
      "text/plain": [
       "(6, -37, 3.039993, 12)"
      ]
     },
     "execution_count": 55,
     "metadata": {},
     "output_type": "execute_result"
    }
   ],
   "source": [
    "### SKIP\n",
    "### TEST YOUR CODE HERE ###\n",
    "add((1,2-45,3.04,4),(5,6,-0.000007,8))\n"
   ]
  },
  {
   "cell_type": "markdown",
   "metadata": {},
   "source": [
    "<br>"
   ]
  },
  {
   "cell_type": "markdown",
   "metadata": {},
   "source": [
    "### TASK 0.07 : `negative`\n",
    "\n",
    "Make a function that takes one \"quaternion\" argument, `q`. The function should return the result of \n",
    "\n",
    "$$\n",
    "\\Large -q  .\n",
    "$$\n",
    "\n",
    "According to the rules of **TASK 0**:\n",
    "\n",
    "* The output should be a \"quaternion\". \n",
    "\n",
    "\n",
    "* The function should `raise` an error if the input is not a \"quaternion\" of the correct form.\n",
    "\n",
    "#### For example:\n",
    "\n",
    "    In [0]: negative((1,2,3,4))\n",
    "    \n",
    "    Out[0]: (-1,-2,-3,-4)\n",
    "    \n",
    "<br>"
   ]
  },
  {
   "cell_type": "code",
   "execution_count": 62,
   "metadata": {},
   "outputs": [],
   "source": [
    "### TEST FUNCTION: test_negative\n",
    "## DO NOT ERASE ANYTHING INITALLY IN THIS CELL ##\n",
    "\n",
    "def negative(q):\n",
    "    \n",
    "    ## INPUT YOUR CODE BELOW THIS LINE ## \n",
    "    if quaternion_test(q) == None:\n",
    "        real_neg = -real(q)\n",
    "        imag_neg = -imag(q)\n",
    "        jmag_neg = -jmag(q)\n",
    "        kmag_neg = -kmag(q)\n",
    "        return (real_neg,imag_neg,jmag_neg,kmag_neg)\n",
    "    \n",
    "    "
   ]
  },
  {
   "cell_type": "code",
   "execution_count": 63,
   "metadata": {},
   "outputs": [
    {
     "data": {
      "text/plain": [
       "(-1, -2, -3, -4)"
      ]
     },
     "execution_count": 63,
     "metadata": {},
     "output_type": "execute_result"
    }
   ],
   "source": [
    "### SKIP\n",
    "### TEST YOUR CODE HERE ###\n",
    "\n",
    "negative((1,2,3,4))"
   ]
  },
  {
   "cell_type": "markdown",
   "metadata": {},
   "source": [
    "<br>"
   ]
  },
  {
   "cell_type": "markdown",
   "metadata": {},
   "source": [
    "### TASK 0.08 : `subtract`\n",
    "\n",
    "Make a function that takes two \"quaternion\" arguments, `q`, `r`, and returns the result of \n",
    "\n",
    "$$\n",
    "\\Large q \\ - \\ r  .\n",
    "$$\n",
    "\n",
    "According to the rules of **TASK 0**:\n",
    "\n",
    "* The output should be a \"quaternion\". \n",
    "\n",
    "\n",
    "* The function should `raise` an error if one of the inputs is not a \"quaternion\" of the correct form.\n",
    "\n",
    "\n",
    "#### For example:\n",
    "\n",
    "    In [0]: subtract((1,2,3,4),(5,6,7,8))\n",
    "    \n",
    "    Out[0]: (-4,-4,-4,-4)\n",
    "\n",
    "<br>"
   ]
  },
  {
   "cell_type": "code",
   "execution_count": 60,
   "metadata": {},
   "outputs": [],
   "source": [
    "### TEST FUNCTION: test_subtract\n",
    "## DO NOT ERASE ANYTHING INITALLY IN THIS CELL ##\n",
    "\n",
    "def subtract(q,r):\n",
    "    \n",
    "    ## INPUT YOUR CODE BELOW THIS LINE ## \n",
    "    if (quaternion_test(q) == None) and (quaternion_test(r) == None):\n",
    "        negative_r = negative(r)\n",
    "        return add(q,negative_r)\n",
    "    "
   ]
  },
  {
   "cell_type": "code",
   "execution_count": 61,
   "metadata": {},
   "outputs": [
    {
     "data": {
      "text/plain": [
       "(-4, -4, -4, -4)"
      ]
     },
     "execution_count": 61,
     "metadata": {},
     "output_type": "execute_result"
    }
   ],
   "source": [
    "### SKIP\n",
    "### TEST YOUR CODE HERE ###\n",
    "subtract((1,2,3,4),(5,6,7,8))\n"
   ]
  },
  {
   "cell_type": "markdown",
   "metadata": {},
   "source": [
    "<br>"
   ]
  },
  {
   "cell_type": "markdown",
   "metadata": {},
   "source": [
    "### TASK 0.09 : `multiply`\n",
    "\n",
    "Make a function that takes two \"quaternion\" arguments, `q`, `r` and returns the result of \n",
    "\n",
    "$$\n",
    "\\Large q \\ \\times \\ r  .\n",
    "$$\n",
    "\n",
    "The $\\boldsymbol{\\times}$ represents ***quaternion multiplication***. This is *not* the same as element-by-element multiplication.\n",
    "\n",
    "According to the rules of **TASK 0**:\n",
    "\n",
    "* The output should be a \"quaternion\". \n",
    "\n",
    "\n",
    "* The function should `raise` an error if one of the inputs is not a \"quaternion\" of the correct form.\n",
    "\n",
    "\n",
    "#### For example:\n",
    "\n",
    "    In [0]: multiply((1,2,3,4),(5,6,7,8))\n",
    "    \n",
    "    Out[0]: (-60,12,30,24)\n",
    "\n",
    "<br>"
   ]
  },
  {
   "cell_type": "code",
   "execution_count": 64,
   "metadata": {},
   "outputs": [],
   "source": [
    "### TEST FUNCTION: test_multiply\n",
    "## DO NOT ERASE ANYTHING INITALLY IN THIS CELL ##\n",
    "\n",
    "def multiply(q,r):\n",
    "    \n",
    "    ## INPUT YOUR CODE BELOW THIS LINE ##\n",
    "    if (quaternion_test(q) == None) and (quaternion_test(r) == None):\n",
    "        real_part = real(q)*real(r) - (imag(q)*imag(r)) - (jmag(q)*jmag(r)) - (kmag(q)*kmag(r))\n",
    "        imag_part = real(q)*imag(r) + (imag(q)*real(r)) + (jmag(q)*kmag(r)) - (kmag(q)*jmag(r))\n",
    "        jmag_part = real(q)*jmag(r) - (imag(q)*kmag(r)) + (jmag(q)*real(r)) + (kmag(q)*imag(r))\n",
    "        kmag_part = real(q)*kmag(r) + (imag(q)*jmag(r)) - (jmag(q)*imag(r)) + (kmag(q)*real(r))\n",
    "        return (real_part,imag_part,jmag_part,kmag_part)"
   ]
  },
  {
   "cell_type": "code",
   "execution_count": 65,
   "metadata": {},
   "outputs": [
    {
     "data": {
      "text/plain": [
       "(-60, 12, 30, 24)"
      ]
     },
     "execution_count": 65,
     "metadata": {},
     "output_type": "execute_result"
    }
   ],
   "source": [
    "### SKIP\n",
    "### TEST YOUR CODE HERE ###\n",
    "multiply((1,2,3,4),(5,6,7,8))\n"
   ]
  },
  {
   "cell_type": "markdown",
   "metadata": {},
   "source": [
    "<br>"
   ]
  },
  {
   "cell_type": "markdown",
   "metadata": {},
   "source": [
    "### TASK 0.10 : `conjugate`\n",
    "\n",
    "Make a function that takes one \"quaternion\" argument, `q`, and returns the result of \n",
    "\n",
    "$$\n",
    "\\Large q^{*}  . \n",
    "$$\n",
    "\n",
    "According to the rules of **TASK 0**:\n",
    "\n",
    "* The output should be a \"quaternion\". \n",
    "\n",
    "\n",
    "* The function should `raise` an error if the input is not a \"quaternion\" of the correct form.\n",
    "\n",
    "#### For example:\n",
    "\n",
    "    In [0]: conjugate((1,2,3,4))\n",
    "    \n",
    "    Out[0]: (1,-2,-3,-4)\n",
    "    \n",
    "<br>"
   ]
  },
  {
   "cell_type": "code",
   "execution_count": 66,
   "metadata": {},
   "outputs": [],
   "source": [
    "### TEST FUNCTION: test_conjugate\n",
    "## DO NOT ERASE ANYTHING INITALLY IN THIS CELL ##\n",
    "\n",
    "def conjugate(q):\n",
    "    \n",
    "    ## INPUT YOUR CODE BELOW THIS LINE ## \n",
    "    if quaternion_test(q) == None:\n",
    "        real_part = real(q)\n",
    "        imag_part = -imag(q)\n",
    "        jmag_part = -jmag(q)\n",
    "        kmag_part = -kmag(q)\n",
    "        return (real_part,imag_part,jmag_part,kmag_part)\n",
    "    \n",
    "    "
   ]
  },
  {
   "cell_type": "code",
   "execution_count": 67,
   "metadata": {},
   "outputs": [
    {
     "data": {
      "text/plain": [
       "(1, -2, -3, -4)"
      ]
     },
     "execution_count": 67,
     "metadata": {},
     "output_type": "execute_result"
    }
   ],
   "source": [
    "### SKIP\n",
    "### TEST YOUR CODE HERE ###\n",
    "\n",
    "conjugate((1,2,3,4))"
   ]
  },
  {
   "cell_type": "markdown",
   "metadata": {},
   "source": [
    "<br>"
   ]
  },
  {
   "cell_type": "markdown",
   "metadata": {},
   "source": [
    "### TASK 0.11 : `absolute_value`\n",
    "\n",
    "Make a function that takes one \"quaternion\" argument, `q`. The function should return the result of \n",
    "\n",
    "$$\n",
    "\\Large |q|  . \n",
    "$$\n",
    "\n",
    "According to the rules of **TASK 0**:\n",
    "\n",
    "* The function should `raise` an error if the input is not a \"quaternion\" of the correct form.\n",
    "\n",
    "For this TASK, the output should be a **`float`**. This is the same principle that the absolute value of a complex number is a real number. \n",
    "\n",
    "\n",
    "#### For example:\n",
    "\n",
    "    In [0]: absolute_value((1,2,3,4))\n",
    "    \n",
    "    Out[0]: 5.477225575051661\n",
    "    \n",
    "    \n",
    "    In[1]: absolute_value((2, 24, 16, 8))\n",
    "    \n",
    "    Out[1]: 30.0\n",
    "    \n",
    "<br>"
   ]
  },
  {
   "cell_type": "code",
   "execution_count": 72,
   "metadata": {},
   "outputs": [],
   "source": [
    "### TEST FUNCTION: test_absolute_value\n",
    "## DO NOT ERASE ANYTHING INITALLY IN THIS CELL ##\n",
    "\n",
    "def absolute_value(q):\n",
    "    \n",
    "    ## INPUT YOUR CODE BELOW THIS LINE ## \n",
    "    if quaternion_test(q) == None:\n",
    "        real_part = real(q)**2\n",
    "        imag_part = imag(q)**2\n",
    "        jmag_part = jmag(q)**2\n",
    "        kmag_part = kmag(q)**2\n",
    "        return float(real_part + imag_part + jmag_part + kmag_part)**(1/2)\n",
    "    "
   ]
  },
  {
   "cell_type": "code",
   "execution_count": 74,
   "metadata": {},
   "outputs": [
    {
     "data": {
      "text/plain": [
       "5.477225575051661"
      ]
     },
     "execution_count": 74,
     "metadata": {},
     "output_type": "execute_result"
    }
   ],
   "source": [
    "### SKIP\n",
    "### TEST YOUR CODE HERE ###\n",
    "\n",
    "absolute_value((1,2,3,4))"
   ]
  },
  {
   "cell_type": "markdown",
   "metadata": {},
   "source": [
    "<br>"
   ]
  },
  {
   "cell_type": "markdown",
   "metadata": {},
   "source": [
    "### TASK 0.12: `inverse`\n",
    "\n",
    "Make a function that takes one \"quaternion\" argument, `q`, and returns the result of \n",
    "\n",
    "$$\n",
    "\\Large q^{-1} . \n",
    "$$\n",
    "\n",
    "According to the rules of **TASK 0**:\n",
    "\n",
    "* The output should be a \"quaternion\". \n",
    "\n",
    "\n",
    "* The function should `raise` an error if the input is not a \"quaternion\" of the correct form.\n",
    "\n",
    "\n",
    "#### For example:\n",
    "\n",
    "    In [0]: inverse((1,2,3,4))\n",
    "    \n",
    "    Out[0]: (0.03333333333333333, -0.06666666666666667, -0.1, -0.13333333333333333)\n",
    " \n",
    "\n",
    "    In [1]: multiply((1,2,3,4),inverse((1,2,3,4)))\n",
    "    \n",
    "    Out[1]: (1.0, 0.0, 0.0, 0.0)\n",
    " \n",
    " \n",
    "    In [2]: multiply(inverse((1,2,3,4)),(1,2,3,4))\n",
    "    \n",
    "    Out[2]: (1.0, 0.0, 0.0, 0.0)\n",
    "    \n",
    "    \n",
    "<br>"
   ]
  },
  {
   "cell_type": "code",
   "execution_count": 81,
   "metadata": {},
   "outputs": [],
   "source": [
    "### TEST FUNCTION: test_inverse\n",
    "## DO NOT ERASE ANYTHING INITALLY IN THIS CELL ##\n",
    "\n",
    "def inverse(q):  \n",
    "    \n",
    "    ## INPUT YOUR CODE BELOW THIS LINE ## \n",
    "    if quaternion_test(q) == None:\n",
    "        conjugate_q = conjugate(q)\n",
    "        absolute_q = absolute_value(q)\n",
    "        try:\n",
    "            real_part = real(conjugate_q) / (absolute_q**2)\n",
    "            imag_part = imag(conjugate_q) / (absolute_q**2)\n",
    "            jmag_part = jmag(conjugate_q) / (absolute_q**2)\n",
    "            kmag_part = kmag(conjugate_q) / (absolute_q**2)\n",
    "            return (real_part,imag_part,jmag_part,kmag_part)\n",
    "        except:\n",
    "            raise ZeroDivisionError('Absolute Value is 0. Inverse is undefined')\n",
    "    \n",
    "    "
   ]
  },
  {
   "cell_type": "code",
   "execution_count": 85,
   "metadata": {},
   "outputs": [
    {
     "data": {
      "text/plain": [
       "(1.0, 0.0, 5.551115123125783e-17, 0.0)"
      ]
     },
     "execution_count": 85,
     "metadata": {},
     "output_type": "execute_result"
    }
   ],
   "source": [
    "### SKIP\n",
    "### TEST YOUR CODE HERE ###\n",
    "inverse((1,2,3,4))\n",
    "multiply(inverse((1,2,3,4)),(1,2,3,4))"
   ]
  },
  {
   "cell_type": "markdown",
   "metadata": {},
   "source": [
    "<br>"
   ]
  },
  {
   "cell_type": "markdown",
   "metadata": {},
   "source": [
    "### TASK 0.13 : `divide`\n",
    "\n",
    "Make a function that takes two \"quaternion\" arguments, `q`, `r`, and returns the result of \n",
    "\n",
    "$$\n",
    "\\Large q  \\ / \\, r  . \n",
    "$$\n",
    "\n",
    "The $\\boldsymbol{/}$ in this case represents ***quaternion division***. This is *not* the same as element-by-element division.\n",
    "\n",
    "According to the rules of **TASK 0**:\n",
    "\n",
    "* The output should be a \"quaternion\". \n",
    "\n",
    "\n",
    "* The function should `raise` an error if one of the inputs is not a \"quaternion\" of the correct form.\n",
    "\n",
    "\n",
    "#### For example:\n",
    "\n",
    "    In [0]: divide((1,2,3,4),(5,6,7,8))\n",
    "    \n",
    "    Out[0]: (0.4022988505747126, 0.04597701149425287, 0.0, 0.09195402298850575)\n",
    "    \n",
    "    \n",
    "    In [1]: divide((5,6,7,8),(1,2,3,4))\n",
    "    \n",
    "    Out[1]: (2.333333333333333, -0.2666666666666666, 0.0, -0.5333333333333333)\n",
    "    \n",
    "    \n",
    "    In [2]: divide((6, 72, 48, 24),(1,2,3,4))\n",
    "    \n",
    "    Out[2]: (13.0, -2.0, 9.0, -4.0)\n",
    "    \n",
    "\n",
    "<br>"
   ]
  },
  {
   "cell_type": "code",
   "execution_count": 86,
   "metadata": {},
   "outputs": [],
   "source": [
    "### TEST FUNCTION: test_divide\n",
    "## DO NOT ERASE ANYTHING INITALLY IN THIS CELL ##\n",
    "\n",
    "def divide(q,r):\n",
    "    \n",
    "    ## INPUT YOUR CODE BELOW THIS LINE ## \n",
    "    if (quaternion_test(q) == None) and (quaternion_test(r) == None):\n",
    "        return multiply(q,inverse(r))\n",
    "        \n",
    "    \n",
    "    "
   ]
  },
  {
   "cell_type": "code",
   "execution_count": 89,
   "metadata": {},
   "outputs": [
    {
     "data": {
      "text/plain": [
       "(2.333333333333333,\n",
       " -0.2666666666666666,\n",
       " 1.1102230246251565e-16,\n",
       " -0.5333333333333332)"
      ]
     },
     "execution_count": 89,
     "metadata": {},
     "output_type": "execute_result"
    }
   ],
   "source": [
    "### SKIP\n",
    "### TEST YOUR CODE HERE ###\n",
    "# source https://www.mathworks.com/help/aerotbx/ug/quatdivide.html\n",
    "divide((5,6,7,8),(1,2,3,4))"
   ]
  },
  {
   "cell_type": "markdown",
   "metadata": {},
   "source": [
    "<br>"
   ]
  },
  {
   "cell_type": "markdown",
   "metadata": {},
   "source": [
    "### TASK 0.14 : `power`\n",
    "\n",
    "Make a function that one \"quaternion\" argument, `q`, another **`int`** argument `n` and returns the result of, \n",
    "\n",
    "$$\\Large\n",
    "q^{n} .\n",
    "$$\n",
    "\n",
    "According to the rules of **TASK 0**:\n",
    "\n",
    "* The function should `raise` an error if `q` is not a \"quaternion\" of the correct form.\n",
    "\n",
    "* Also `raise` an error if `n` is not an `int`. But it can be either positive or negative.\n",
    "\n",
    "#### For example:\n",
    "    \n",
    "    In [0]: power((1,2,3,4),0)\n",
    "    \n",
    "    Out[0]: (1,0,0,0)\n",
    "    \n",
    "    \n",
    "    In [1]: power((1,2,3,4),3)\n",
    "    \n",
    "    Out[1]: (-86,-52,-78,-104)\n",
    "    \n",
    "    \n",
    "    In [2]: power((1,2,3,4),-3)\n",
    "    \n",
    "    Out[2]: (-0.003185185185185185,0.001925925925925926,0.0028888888888888896,0.003851851851851852)"
   ]
  },
  {
   "cell_type": "code",
   "execution_count": 134,
   "metadata": {},
   "outputs": [],
   "source": [
    "### TEST FUNCTION: test_is_equal\n",
    "## DO NOT ERASE ANYTHING INITALLY IN THIS CELL ##\n",
    "\n",
    "def power(q,n):\n",
    "    \n",
    "    ## INPUT YOUR CODE BELOW THIS LINE ## \n",
    "    if (quaternion_test(q) == None) and isinstance(n, int):   \n",
    "        \n",
    "        if n == 0:\n",
    "            return (1,0,0,0)\n",
    "        if n == 1:\n",
    "            return q\n",
    "        elif n == -1:\n",
    "            return inverse(q)\n",
    "        \n",
    "        half_power = power(q, int(n/2))\n",
    "        if (n % 2 ==0):\n",
    "            return multiply(half_power,half_power)\n",
    "        else:\n",
    "            if n > 0:\n",
    "                return multiply(q,multiply(half_power,half_power))\n",
    "            else:\n",
    "                return multiply(inverse(q),multiply(half_power,half_power))\n",
    "        \n",
    "    \n",
    "    \n",
    "    else:\n",
    "        raise TypeError('n must be an integer')\n",
    "    \n",
    "    "
   ]
  },
  {
   "cell_type": "code",
   "execution_count": 140,
   "metadata": {},
   "outputs": [
    {
     "name": "stdout",
     "output_type": "stream",
     "text": [
      "(63371028623614295217190254918808832029592181306227362321974445323937906688, 12527971123987788842996244032666910885361460033425987444428124372300988416, 18791956685981683264494366049000366328042190050138981166642186558451482624, 25055942247975577685992488065333821770722920066851974888856248744601976832)\n",
      "(8220730727642146596714286540560269312, 761974302470617246916531045829443584, 1142961453705925870374796568744165376, 1523948604941234493833062091658887168)\n"
     ]
    }
   ],
   "source": [
    "### SKIP\n",
    "### TEST YOUR CODE HERE ###\n",
    "tester = power((1,2,3,4),50)\n",
    "print(multiply(tester,tester))\n",
    "print(power((1,2,3,4),50))"
   ]
  },
  {
   "cell_type": "markdown",
   "metadata": {},
   "source": [
    "<br>"
   ]
  },
  {
   "cell_type": "markdown",
   "metadata": {},
   "source": [
    "### TASK 0.15 : `is_equal`\n",
    "\n",
    "Make a function that takes two \"quaternion\" arguments, `q`, `r`, and returns the result of \n",
    "\n",
    "$$\n",
    "\\Large \\begin{cases} \\text{True} & \\text{if} & q = r \\\\ \n",
    "                     \\text{False} & \\text{if} & q \\ne r. \n",
    "                     \\end{cases}\n",
    "$$\n",
    "\n",
    "\n",
    "According to the rules of **TASK 0**:\n",
    "\n",
    "* The function should `raise` an error if one of the inputs is not a \"quaternion\" of the correct form.\n",
    "\n",
    "The output in this case should be a **`bool`**; i.e., `True` or `False`.\n",
    "\n",
    "\n",
    "#### For example:\n",
    "\n",
    "    In [0]: is_equal((1,2,3,4),(5,6,7,8))\n",
    "    \n",
    "    Out[0]: False\n",
    "\n",
    "\n",
    "    In [1]: is_equal((1,2,3,4),(1,2,3,4))\n",
    "    \n",
    "    Out[1]: True\n",
    "    \n",
    "\n",
    "<br>"
   ]
  },
  {
   "cell_type": "code",
   "execution_count": 142,
   "metadata": {},
   "outputs": [],
   "source": [
    "### TEST FUNCTION: test_is_equal\n",
    "## DO NOT ERASE ANYTHING INITALLY IN THIS CELL ##\n",
    "\n",
    "def is_equal(q,r):\n",
    "    \n",
    "    ## INPUT YOUR CODE BELOW THIS LINE ## \n",
    "    if (quaternion_test(q) == None) and (quaternion_test(r) == None):\n",
    "        if real(q) != real(r):\n",
    "            return False\n",
    "        if imag(q) != imag(r):\n",
    "            return False\n",
    "        if jmag(q) != jmag(r):\n",
    "            return False\n",
    "        if kmag(q) != kmag(r):\n",
    "            return False\n",
    "        return True\n",
    "    \n",
    "    "
   ]
  },
  {
   "cell_type": "code",
   "execution_count": 144,
   "metadata": {},
   "outputs": [
    {
     "data": {
      "text/plain": [
       "True"
      ]
     },
     "execution_count": 144,
     "metadata": {},
     "output_type": "execute_result"
    }
   ],
   "source": [
    "### SKIP\n",
    "### TEST YOUR CODE HERE ###\n",
    "is_equal((1,2,3,4),(5,6,7,8))\n",
    "\n",
    "is_equal((1,2,3,4),(1,2,3,4))"
   ]
  },
  {
   "cell_type": "markdown",
   "metadata": {},
   "source": [
    "<br>"
   ]
  },
  {
   "cell_type": "markdown",
   "metadata": {},
   "source": [
    "### TASK 0.16 : `scalar`\n",
    "\n",
    "Make a function that takes a \"quaternion\" argument, `q`, and returns the *scalar* component \n",
    "\n",
    "$$\n",
    "\\Large q = (a,b,c,d) \\quad \\iff \\quad \\text{scalar}(q) = a\n",
    "$$\n",
    "\n",
    "\n",
    "According to the rules of **TASK 0**:\n",
    "\n",
    "* The function should `raise` an error if one of the inputs is not a \"quaternion\" of the correct form.\n",
    "\n",
    "The output in this case should be a **`float`**.\n",
    "\n",
    "\n",
    "#### For example:\n",
    "\n",
    "    In [0]: scalar((1,2,3,4))\n",
    "    \n",
    "    Out[0]: 1\n",
    "\n",
    "\n",
    "<br>"
   ]
  },
  {
   "cell_type": "code",
   "execution_count": 145,
   "metadata": {},
   "outputs": [],
   "source": [
    "### TEST FUNCTION: test_scalar\n",
    "## DO NOT ERASE ANYTHING INITALLY IN THIS CELL ##\n",
    "\n",
    "def scalar(q):\n",
    "    \n",
    "    ## INPUT YOUR CODE BELOW THIS LINE ## \n",
    "    if quaternion_test(q) == None:\n",
    "        return float(real(q))\n",
    "    "
   ]
  },
  {
   "cell_type": "code",
   "execution_count": 146,
   "metadata": {},
   "outputs": [
    {
     "data": {
      "text/plain": [
       "1.0"
      ]
     },
     "execution_count": 146,
     "metadata": {},
     "output_type": "execute_result"
    }
   ],
   "source": [
    "### SKIP\n",
    "### TEST YOUR CODE HERE ###\n",
    "scalar((1,2,3,4))\n"
   ]
  },
  {
   "cell_type": "markdown",
   "metadata": {},
   "source": [
    "<br>"
   ]
  },
  {
   "cell_type": "markdown",
   "metadata": {},
   "source": [
    "### TASK 0.17 : `vector`\n",
    "\n",
    "Make a function that takes a \"quaternion\" argument, `q`, and returns the *vector* component \n",
    "\n",
    "$$\n",
    "\\Large q = (a,b,c,d) \\quad \\iff \\quad \\text{vector}(q) = (b,c,d)\n",
    "$$\n",
    "\n",
    "\n",
    "According to the rules of **TASK 0**:\n",
    "\n",
    "* The function should `raise` an error if one of the inputs is not a \"quaternion\" of the correct form.\n",
    "\n",
    "The output in this case should be a **length-3** **`tuple`**.\n",
    "\n",
    "\n",
    "#### For example:\n",
    "\n",
    "    In [0]: vector((1,2,3,4))\n",
    "    \n",
    "    Out[0]: (2, 3, 4)\n",
    "\n",
    "\n",
    "<br>"
   ]
  },
  {
   "cell_type": "code",
   "execution_count": 147,
   "metadata": {},
   "outputs": [],
   "source": [
    "### TEST FUNCTION: test_vector\n",
    "## DO NOT ERASE ANYTHING INITALLY IN THIS CELL ##\n",
    "\n",
    "def vector(q):\n",
    "    \n",
    "    ## INPUT YOUR CODE BELOW THIS LINE ## \n",
    "    if quaternion_test(q) == None:\n",
    "        imag_part = imag(q)\n",
    "        jmag_part = jmag(q)\n",
    "        kmag_part = kmag(q)\n",
    "        return (imag_part,jmag_part,kmag_part)\n",
    "    "
   ]
  },
  {
   "cell_type": "code",
   "execution_count": 148,
   "metadata": {},
   "outputs": [
    {
     "data": {
      "text/plain": [
       "(2, 3, 4)"
      ]
     },
     "execution_count": 148,
     "metadata": {},
     "output_type": "execute_result"
    }
   ],
   "source": [
    "### SKIP\n",
    "### TEST YOUR CODE HERE ###\n",
    "vector((1,2,3,4))\n"
   ]
  },
  {
   "cell_type": "markdown",
   "metadata": {},
   "source": [
    "<br>"
   ]
  },
  {
   "cell_type": "markdown",
   "metadata": {},
   "source": [
    "### TASK 0.18 : `complex_pair`\n",
    "\n",
    "Make a function that takes a \"quaternion\" argument, `q`, and returns the *Cayley-Dickenson* representation\n",
    "\n",
    "$$\n",
    "\\Large q = (a,b,c,d) \\quad \\iff \\quad \\text{complex_pair}(q) = (a + \\sqrt{-1} b, \\, c + \\sqrt{-1} d )\n",
    "$$\n",
    "\n",
    "According to the rules of **TASK 0**:\n",
    "\n",
    "* The function should `raise` an error if one of the inputs is not a \"quaternion\" of the correct form.\n",
    "\n",
    "The output in this case should be a **lenth-2** **`tuple`** of **`complex`** numbers. You should use the built-in Python **`1j`** to represent the $\\sqrt{-1}$ in the pair.\n",
    "\n",
    "\n",
    "#### For example:\n",
    "\n",
    "    In [0]: complex_pair((1,2,3,4))\n",
    "    \n",
    "    Out[0]: ((1+2j), (3+4j))"
   ]
  },
  {
   "cell_type": "code",
   "execution_count": 151,
   "metadata": {},
   "outputs": [],
   "source": [
    "### TEST FUNCTION: test_complex_pair\n",
    "## DO NOT ERASE ANYTHING INITALLY IN THIS CELL ##\n",
    "\n",
    "def complex_pair(q):\n",
    "    \n",
    "    ## INPUT YOUR CODE BELOW THIS LINE ## \n",
    "    if (quaternion_test(q) == None):\n",
    "        real_part = real(q)\n",
    "        imag_part = imag(q)\n",
    "        jmag_part = jmag(q)\n",
    "        kmag_part = kmag(q)\n",
    "        \n",
    "        first_part = real_part + imag_part*1j\n",
    "        second_part = jmag_part + kmag_part*1j\n",
    "        \n",
    "        return (first_part, second_part)\n",
    "        \n",
    "    \n",
    "    "
   ]
  },
  {
   "cell_type": "code",
   "execution_count": 152,
   "metadata": {},
   "outputs": [
    {
     "data": {
      "text/plain": [
       "((1+2j), (3+4j))"
      ]
     },
     "execution_count": 152,
     "metadata": {},
     "output_type": "execute_result"
    }
   ],
   "source": [
    "### SKIP\n",
    "### TEST YOUR CODE HERE ###\n",
    "complex_pair((1,2,3,4))\n"
   ]
  },
  {
   "cell_type": "markdown",
   "metadata": {},
   "source": [
    "<br>"
   ]
  },
  {
   "cell_type": "markdown",
   "metadata": {},
   "source": [
    "### TASK 0.19 : `matrix`\n",
    "\n",
    "Make a function that takes a \"quaternion\" argument, `q`, and returns the *matrix* representation \n",
    "\n",
    "$$\n",
    "\\Large q = (a,b,c,d) \\quad \\iff \\quad \\text{matrix}(q) = \\left[\\begin{array}{cc} \n",
    "a + \\sqrt{-1} \\, b & c + \\sqrt{-1} \\, d \\\\\n",
    "- c + \\sqrt{-1} d & a - \\sqrt{-1} \\, b\n",
    "\\end{array} \\right]\n",
    "$$\n",
    "\n",
    "\n",
    "According to the rules of **TASK 0**:\n",
    "\n",
    "* The function should `raise` an error if one of the inputs is not a \"quaternion\" of the correct form.\n",
    "\n",
    "The output in this case should be a **shape-(2,2)** **`np.array`**. You should use the built-in Python **`1j`** to represent the $\\sqrt{-1}$ in the matrix.\n",
    "\n",
    "\n",
    "#### For example:\n",
    "\n",
    "    In [0]: matrix((1,2,3,4))\n",
    "    \n",
    "    Out[0]: array([[ 1.+2.j,  3.+4.j],\n",
    "                   [-3.+4.j,  1.-2.j]])\n",
    "    \n",
    "    \n",
    "    In [1]: matrix((1,2,3,4)).shape\n",
    "    \n",
    "    Out[1]: (2,2)\n",
    "    \n",
    "    \n",
    "    In [2]: type(matrix((1,2,3,4)))\n",
    "    \n",
    "    Out[2]: numpy.ndarray\n",
    "    \n",
    "    \n",
    "    In [3]: matrix((1,2,3,4)) @ matrix((1,2,3,4))\n",
    "    \n",
    "    Out[3]: array([[-28.+4.j,   6.+8.j],\n",
    "                   [ -6.+8.j, -28.-4.j]])\n",
    "    \n",
    "    \n",
    "<br>"
   ]
  },
  {
   "cell_type": "code",
   "execution_count": 161,
   "metadata": {},
   "outputs": [],
   "source": [
    "### TEST FUNCTION: test_matrix\n",
    "## DO NOT ERASE ANYTHING INITALLY IN THIS CELL ##\n",
    "\n",
    "import numpy as np\n",
    "\n",
    "def matrix(q):\n",
    "    \n",
    "    ## INPUT YOUR CODE BELOW THIS LINE ## \n",
    "    if quaternion_test(q) == None:\n",
    "        real_part = real(q)\n",
    "        imag_part = imag(q)\n",
    "        jmag_part = jmag(q)\n",
    "        kmag_part = kmag(q)\n",
    "        \n",
    "        a_11 = real_part + imag_part*1j\n",
    "        a_12 = jmag_part + kmag_part*1j\n",
    "        a_21 = -jmag_part + kmag_part*1j\n",
    "        a_22 = real_part - imag_part*1j\n",
    "        \n",
    "        arr = np.array([[a_11,a_12],[a_21,a_22]])\n",
    "        return arr\n",
    "    \n",
    "    "
   ]
  },
  {
   "cell_type": "code",
   "execution_count": 165,
   "metadata": {},
   "outputs": [
    {
     "data": {
      "text/plain": [
       "array([[-28.+4.j,   6.+8.j],\n",
       "       [ -6.+8.j, -28.-4.j]])"
      ]
     },
     "execution_count": 165,
     "metadata": {},
     "output_type": "execute_result"
    }
   ],
   "source": [
    "### SKIP\n",
    "### TEST YOUR CODE HERE ###\n",
    "matrix((1,2,3,4))\n",
    "matrix((1,2,3,4)).shape\n",
    "type(matrix((1,2,3,4)))\n",
    "matrix((1,2,3,4)) @ matrix((1,2,3,4))"
   ]
  },
  {
   "cell_type": "markdown",
   "metadata": {},
   "source": [
    "<br>\n",
    "\n",
    "<br>"
   ]
  },
  {
   "cell_type": "markdown",
   "metadata": {},
   "source": [
    "## TASK 1: `class Quaternion` (MATH3076/3976/4076)\n",
    "\n",
    "In this section you should collect the different algorithms you wrote for **TASK 0** and combine them into a `class` called `Quaternion`.\n",
    "\n",
    "* The objective is similar to the `class rational` and `class Polynomial` that we developed in Lecture and Tutorial.\n",
    "\n",
    "\n",
    "* You should look at those examples for help.\n",
    "\n",
    "\n",
    "* The goal is want to be able to do things like `q*r/s` to get what required something like `divide(multiply(q,r),s)` before.   \n"
   ]
  },
  {
   "cell_type": "markdown",
   "metadata": {},
   "source": [
    "### Design specification 00:\n",
    "\n",
    "You should be able to *instantiate* objects via:\n",
    "\n",
    "        q = Quaternion(a,b,c,d)\n",
    "\n",
    "<br>\n",
    "\n",
    "**For comparison with `complex`**: "
   ]
  },
  {
   "cell_type": "code",
   "execution_count": 166,
   "metadata": {},
   "outputs": [],
   "source": [
    "### SKIP\n",
    "### Example code ###\n",
    "\n",
    "c = complex(1,2)"
   ]
  },
  {
   "cell_type": "markdown",
   "metadata": {},
   "source": [
    "### Design specification 01:\n",
    "\n",
    "A `Quaternion` object, `q`, should have the following attributes:\n",
    "    \n",
    "        q.real \n",
    "    \n",
    "        q.imag\n",
    "    \n",
    "        q.jmag\n",
    "    \n",
    "        q.kmag\n",
    "    \n",
    "        q.scalar\n",
    "    \n",
    "        q.vector\n",
    "   \n",
    "        q.complex_pair\n",
    "    \n",
    "        q.matrix\n",
    "\n",
    "In each case the attributes should return the same result as the corresponding functions defined in **TASK 0**.\n",
    "\n",
    "<br>\n",
    "\n",
    "**For comparison with `complex`**: "
   ]
  },
  {
   "cell_type": "code",
   "execution_count": 167,
   "metadata": {},
   "outputs": [
    {
     "name": "stdout",
     "output_type": "stream",
     "text": [
      "1.0\n",
      "2.0\n"
     ]
    }
   ],
   "source": [
    "### SKIP\n",
    "### Example code ###\n",
    "\n",
    "print(c.real)\n",
    "print(c.imag)"
   ]
  },
  {
   "cell_type": "markdown",
   "metadata": {},
   "source": [
    "### Design specification 02:\n",
    "\n",
    "If possible, all of the above attributes should be \"read only\". This means that after you instantiate an object, its attributes are set and you cannot change them anymore. This is how it is with `complex` numbers. \n",
    "\n",
    "* If you cannot get this feature working, it's still important that you achieve Design specification 01.\n",
    "\n",
    "<br>\n",
    "\n",
    "The following example and explanation shows how to do this:\n",
    "\n",
    "**Here is a small example `class Thingz`:**"
   ]
  },
  {
   "cell_type": "code",
   "execution_count": null,
   "metadata": {},
   "outputs": [],
   "source": [
    "### SKIP\n",
    "### Example code ###\n",
    "\n",
    "class Thingz():\n",
    "    \n",
    "    def __init__(self,x,y,z):\n",
    "        \n",
    "        # \"Attributes\"\n",
    "        self.x  = x\n",
    "        self._y = y\n",
    "        self._z = z\n",
    "        \n",
    "        \n",
    "    # \"Methods\"\n",
    "    \n",
    "    def y(self):\n",
    "        return self._y\n",
    "    \n",
    "    @property\n",
    "    def z(self):\n",
    "        return self._z\n",
    "    "
   ]
  },
  {
   "cell_type": "markdown",
   "metadata": {},
   "source": [
    "**Instantiate:**"
   ]
  },
  {
   "cell_type": "code",
   "execution_count": null,
   "metadata": {},
   "outputs": [],
   "source": [
    "### SKIP\n",
    "### Example code ###\n",
    "\n",
    "thing = Thingz(1,2,3)"
   ]
  },
  {
   "cell_type": "markdown",
   "metadata": {},
   "source": [
    "**An attribute**"
   ]
  },
  {
   "cell_type": "code",
   "execution_count": null,
   "metadata": {},
   "outputs": [],
   "source": [
    "### SKIP\n",
    "### Example code ###\n",
    "\n",
    "thing.x"
   ]
  },
  {
   "cell_type": "markdown",
   "metadata": {},
   "source": [
    "**We can change this:**"
   ]
  },
  {
   "cell_type": "code",
   "execution_count": null,
   "metadata": {},
   "outputs": [],
   "source": [
    "### SKIP\n",
    "### Example code ###\n",
    "\n",
    "thing.x = 2\n",
    "\n",
    "thing.x"
   ]
  },
  {
   "cell_type": "markdown",
   "metadata": {},
   "source": [
    "**Remember our `complex` number?**"
   ]
  },
  {
   "cell_type": "code",
   "execution_count": null,
   "metadata": {},
   "outputs": [],
   "source": [
    "### SKIP\n",
    "### Example code ###\n",
    "\n",
    "c.real"
   ]
  },
  {
   "cell_type": "markdown",
   "metadata": {},
   "source": [
    "**We can't change attributes of `complex` numbers:**"
   ]
  },
  {
   "cell_type": "code",
   "execution_count": null,
   "metadata": {},
   "outputs": [],
   "source": [
    "### SKIP\n",
    "### Example code ###\n",
    "\n",
    "c.real = 2"
   ]
  },
  {
   "cell_type": "markdown",
   "metadata": {},
   "source": [
    "**Why? How?...**\n",
    "\n",
    "<br>\n",
    "\n",
    "**Here is a weirdly named attribute:**"
   ]
  },
  {
   "cell_type": "code",
   "execution_count": null,
   "metadata": {},
   "outputs": [],
   "source": [
    "### SKIP\n",
    "### Example code ###\n",
    "\n",
    "thing._y"
   ]
  },
  {
   "cell_type": "markdown",
   "metadata": {},
   "source": [
    "**Here is a method that returns that weirdly named attribute:**"
   ]
  },
  {
   "cell_type": "code",
   "execution_count": null,
   "metadata": {},
   "outputs": [],
   "source": [
    "### SKIP\n",
    "### Example code ###\n",
    "\n",
    "thing.y()"
   ]
  },
  {
   "cell_type": "markdown",
   "metadata": {},
   "source": [
    "### `@property`\n",
    "\n",
    "There are things called ***decorators*** in Python. It's a huge subject. But these are anything with the `@` that you put before a function. They add usefulness to functions in many different ways. \n",
    "\n",
    "The`@property` decorator, is used in a class when a method doesn't take any arguments and always returns what would normally be an `attribute`. The reason why this is good is because you can't assign values to the output of functions (methods). This gives the impression of \"read-only\" attributes.\n",
    "\n",
    "<br>\n",
    "\n",
    "**Here is a \"method\" that returns a hidden attribute\"**"
   ]
  },
  {
   "cell_type": "code",
   "execution_count": null,
   "metadata": {},
   "outputs": [],
   "source": [
    "### SKIP\n",
    "### Example code ###\n",
    "\n",
    "thing.z"
   ]
  },
  {
   "cell_type": "markdown",
   "metadata": {},
   "source": [
    "**What happens when we try to chage this?**"
   ]
  },
  {
   "cell_type": "code",
   "execution_count": null,
   "metadata": {},
   "outputs": [],
   "source": [
    "### SKIP\n",
    "### Example code ###\n",
    "\n",
    "thing.z = 4"
   ]
  },
  {
   "cell_type": "markdown",
   "metadata": {},
   "source": [
    "**You should use the `@property` decorator with methods to make \"read-only\" attributes.**\n",
    "\n",
    "<br>"
   ]
  },
  {
   "cell_type": "markdown",
   "metadata": {},
   "source": [
    "### Design specification 03:\n",
    "\n",
    "For a `Quaternion`, `q`, you should be able to give the following **unary** inputs:\n",
    "\n",
    "    In [0]: str(q)\n",
    "\n",
    "This should produce a string output in the same format as required in **TASK 0**.\n",
    "\n",
    "    In [1]: q\n",
    "    \n",
    "This should produce the same output as the string output. This is what happens for `complex` numbers. \n",
    "\n",
    "    In [2]: +q\n",
    "    \n",
    "This should return a `Quaternion` object that is the same as `q`.\n",
    "\n",
    "    In [3]: -q\n",
    "    \n",
    "This should return a `Quaternion` object that is the negative of `q`."
   ]
  },
  {
   "cell_type": "markdown",
   "metadata": {},
   "source": [
    "### Design specification 04:\n",
    "\n",
    "For any two `Quaternion` objects, `q`, and `r`, you should be able to compute any combination of **binary** operations\n",
    "\n",
    "    In [0]: q+r\n",
    "    \n",
    "    In [1]: q-r\n",
    "    \n",
    "    In [2]: q*r \n",
    "    \n",
    "    In [3]: q/r\n",
    "    \n",
    "    In [4]: q==r\n",
    "    \n",
    "    \n",
    "For cases 0-3, the output should be a `Quaternion` object. For the last case, the output should be a `bool`.\n",
    "\n",
    "    \n",
    "### *Also:* \n",
    "\n",
    "\n",
    "* You should be able to exchange *either* `q` or `r` for a `float`, `int`, or `complex` number and have the calculation give the correct answer. In each case, you can convert the other type to a `Quaternion`.\n",
    "\n",
    "\n",
    "* The Python `1j` should convert to `Quaternion(0,1,0,0)`.\n",
    "\n",
    "\n",
    "#### For Example:\n",
    "\n",
    "    In [0]: Quaternion(1,2,3,4) - 1\n",
    "    \n",
    "    Out[0]: (0+2i+3j+4k)\n",
    "    \n",
    "    \n",
    "    In [1]: 7*Quaternion(1,2,3,4)\n",
    "    \n",
    "    Out[1]: (7+14i+21j+28k)\n",
    "    \n",
    "    \n",
    "    In [2]: 30/Quaternion(1,2,3,4)\n",
    "    \n",
    "    Out[2]: (1.0-2.0i-3.0j-4.0k)\n",
    "    \n",
    "    \n",
    "    In [3]: Quaternion(1,2,3,4) - (1+2j)\n",
    "    \n",
    "    Out[3]: (0.0+0.0i+3j+4k)\n",
    "    \n",
    "    \n",
    "    In [4]: Quaternion(1+2j,3+4j)/(1+2j)\n",
    "    \n",
    "    Out[4]: (1.0+0.0i-1.0j+2.0k)\n",
    "    \n",
    "    \n",
    "    In [5]: Quaternion(17,0,0,0) == 17\n",
    "    \n",
    "    Out[5]: True\n",
    "    "
   ]
  },
  {
   "cell_type": "markdown",
   "metadata": {},
   "source": [
    "### Design specification 05:\n",
    "\n",
    "For any `Quaternion` object, `q`, you should produce the correct output according to **TASK 0** for \n",
    "\n",
    "    In [0]: q.conjugate()\n",
    "    \n",
    "    In [1]: q**n\n",
    "    \n",
    "    In [2]: abs(q)\n",
    "    \n",
    "    \n",
    "For cases 0-1, you should return a `Quaternion` object. For case 2, you should return a `float`.\n",
    "\n",
    "\n",
    "#### For Example:\n",
    "\n",
    "    In [0]: Quaternion(1,2,3,4).conjugate()\n",
    "    \n",
    "    Out[0]: (1-2i-3j-4k)\n",
    "    \n",
    "    In [1]: Quaternion(1,2,3,4)**3\n",
    "    \n",
    "    Out[1]: (-86-52i-78j-104k)\n",
    "    \n",
    "    In [2]: abs(Quaternion(1,2,3,4))\n",
    "    \n",
    "    Out[2]: 5.477225575051661"
   ]
  },
  {
   "cell_type": "markdown",
   "metadata": {},
   "source": [
    "### Design specification 06:\n",
    "\n",
    "Make your `Quaternion` objects work with respect to `np.array` objects. \n",
    "\n",
    "#### For Example:\n",
    "\n",
    "    In [0} q = Quaternion(1,2,3,4)\n",
    "           r = Quaternion(5,6,7,8)\n",
    "           t = Quaternion(9,10,11,12)\n",
    "           s = Quaternion(-3,-7,-4,8)\n",
    "\n",
    "           A = np.array([[q,r],[s,t]])\n",
    "\n",
    "           print((A @ A))\n",
    "    \n",
    "    Out[0]: [[(-37+39i-139j+49k) (-248+112i+156j+152k)]\n",
    "             [(-18-10i-202j+56k) (-293+39i+261j+207k)]]"
   ]
  },
  {
   "cell_type": "markdown",
   "metadata": {},
   "source": [
    "## Adapt the following code to meet the above specifications:\n",
    "\n",
    "\n",
    "<br>\n",
    "\n",
    "* The code in **TASK 1** should be completely independents from the code in **TASK 0**. Other than `import numpy` **TASK 1** should be completely self contained.\n",
    "\n",
    "\n",
    "\n",
    "* In some cases you can meet some of the specifications without meeting the others. You should try to get as much working as possible.\n",
    "\n",
    "\n",
    "\n",
    "* To make something things easier to standardise, I've setup the `__init__` statement for you. \n",
    "\n",
    "\n",
    "\n",
    "* The way things are setup now, real and complex inputs will convert to Quaternion in a consistent way.\n",
    "\n",
    "\n",
    "\n",
    "* I'm internally encoding a Quaternion in a `tuple`. You can use this, or change the format. But the output must be as specified above no matter how you do it. \n",
    "\n",
    "\n",
    "\n",
    "* I've also included a `__getitem__` method that you can use to *slice* a Quaternion in the following way:\n",
    "\n",
    "<br>\n",
    "      \n",
    "      In [0]: q = Quaternion(1,2,3,4);\n",
    "      \n",
    "      \n",
    "      In [1]: q[0]\n",
    "      \n",
    "      Out[1]: 1\n",
    "      \n",
    "      \n",
    "      In [2]: q[2:]\n",
    "      \n",
    "      Out[2]: (3,4)\n",
    "      \n",
    "\n",
    "You can use this internally if you think it's useful."
   ]
  },
  {
   "cell_type": "code",
   "execution_count": 2,
   "metadata": {},
   "outputs": [],
   "source": [
    "### TEST FUNCTION: test_Quaternion\n",
    "## DO NOT ERASE ANYTHING INITALLY IN THIS CELL ##\n",
    "\n",
    "import numpy as np\n",
    "\n",
    "class Quaternion():\n",
    "    \n",
    "    def __init__(self,a=0,b=0,c=0,d=0):\n",
    "        \n",
    "        if (type(a) == complex) or (type(b) == complex):\n",
    "            a,b,c,d = a.real, a.imag , b.real, b.imag\n",
    "        \n",
    "        if type(a) == Quaternion:\n",
    "            a,b,c,d = a._q\n",
    "            \n",
    "        self._q = (a,b,c,d)\n",
    "        \n",
    "    \n",
    "    \n",
    "    # self[item]\n",
    "    def __getitem__(self,item):\n",
    "        return self._q[(item)]\n",
    "    \n",
    "    \n",
    "    ## INPUT YOUR CODE BELOW THIS LINE ## \n",
    "    \n",
    "    ## PROPERTIES\n",
    "    @property\n",
    "    def real(self):\n",
    "        if self.quaternion_test() == None:\n",
    "            return self._q[0]\n",
    "    \n",
    "    @property\n",
    "    def imag(self):\n",
    "        if self.quaternion_test() == None:\n",
    "            return self._q[1]\n",
    "        \n",
    "    @property\n",
    "    def jmag(self):\n",
    "        if self.quaternion_test() == None:\n",
    "            return self._q[2]\n",
    "    \n",
    "    @property\n",
    "    def kmag(self):\n",
    "        if self.quaternion_test() == None:\n",
    "            return self._q[3]\n",
    "        \n",
    "    @property\n",
    "    def scalar(self):\n",
    "        if self.quaternion_test() == None:\n",
    "            return float(self.real)\n",
    "        \n",
    "    @property\n",
    "    def vector(self):\n",
    "        if self.quaternion_test() == None:\n",
    "            return (self.imag,self.jmag,self.kmag)\n",
    "        \n",
    "    @property\n",
    "    def complex_pair(self):\n",
    "        if self.quaternion_test() == None:\n",
    "            first = self.real + self.imag*1j\n",
    "            second = self.jmag + self.kmag*1j\n",
    "            return (first, second)\n",
    "        \n",
    "    @property\n",
    "    def matrix(self):\n",
    "        if self.quaternion_test() == None:\n",
    "            a_11 = self.real + self.imag*1j\n",
    "            a_12 = self.jmag + self.kmag*1j\n",
    "            a_21 = -self.jmag + self.kmag*1j\n",
    "            a_22 = self.real - self.imag*1j\n",
    "            arr = np.array([[a_11,a_12],[a_21,a_22]])\n",
    "            return arr\n",
    "    \n",
    "    ## TASK 0 METHODS\n",
    "    def quaternion_test(self): \n",
    "\n",
    "        ## INPUT YOUR CODE BELOW THIS LINE ## \n",
    "        # check for tuple\n",
    "        if not isinstance(self._q, tuple):\n",
    "            raise TypeError('Input is not tuple.')\n",
    "        # check for length\n",
    "        if len(self._q) != 4:\n",
    "            raise TypeError('Input is not length 4.')\n",
    "\n",
    "        # check elements are real numbers\n",
    "        for element in self._q:\n",
    "            if (not isinstance(element, float)) and (not isinstance(element, int)):\n",
    "                raise TypeError('Element not a real number.')\n",
    "\n",
    "        return None\n",
    "    \n",
    "    def convert_to_quartenion(self,other):\n",
    "        if isinstance(other,int):\n",
    "            quart_other = Quaternion(other,0,0,0)\n",
    "            return quart_other\n",
    "        \n",
    "        if isinstance(other,float):\n",
    "            quart_other = Quaternion(other,0,0,0)\n",
    "            return quart_other\n",
    "        \n",
    "        if isinstance(other, complex):\n",
    "            quart_other = Quaternion(other.real,other.imag,0,0)\n",
    "            return quart_other\n",
    "        \n",
    "        if isinstance(other, Quaternion):\n",
    "            return other\n",
    "    \n",
    "    def negative(self):\n",
    "        if self.quaternion_test() == None:\n",
    "            return Quaternion(-self.real,-self.imag,-self.jmag,-self.kmag)\n",
    "        \n",
    "    \n",
    "    def conjugate(self):\n",
    "        if self.quaternion_test() == None:\n",
    "            return Quaternion(self.real,-self.imag,-self.jmag,-self.kmag)\n",
    "        \n",
    "    def absolute_value(self):\n",
    "        if self.quaternion_test() == None:\n",
    "            real_part = self.real**2\n",
    "            imag_part = self.imag**2\n",
    "            jmag_part = self.jmag**2\n",
    "            kmag_part = self.kmag**2\n",
    "            return float(real_part + imag_part + jmag_part + kmag_part)**(1/2)\n",
    "\n",
    "    def inverse(self):  \n",
    "        if self.quaternion_test() == None:\n",
    "            conjugate_q = self.conjugate()\n",
    "            absolute_q = self.absolute_value()\n",
    "            try:\n",
    "                real_part = conjugate_q.real / (absolute_q**2)\n",
    "                imag_part = conjugate_q.imag / (absolute_q**2)\n",
    "                jmag_part = conjugate_q.jmag / (absolute_q**2)\n",
    "                kmag_part = conjugate_q.kmag / (absolute_q**2)\n",
    "                return Quaternion(real_part,imag_part,jmag_part,kmag_part)\n",
    "            except:\n",
    "                raise ZeroDivisionError('Absolute Value is 0. Inverse is undefined') \n",
    "    \n",
    "    def to_matrix(self):\n",
    "        if self.quaternion_test() == None:\n",
    "            a_11 = self.real + self.imag*1j\n",
    "            a_12 = self.jmag + self.kmag*1j\n",
    "            a_21 = -self.jmag + self.kmag*1j\n",
    "            a_22 = self.real - self.imag*1j\n",
    "            arr = np.array([[a_11,a_12],[a_21,a_22]])\n",
    "            return arr\n",
    "    \n",
    "    ## OVERRIDE METHODS\n",
    "    \n",
    "    # str(self)\n",
    "    def __str__(self):\n",
    "        if self.quaternion_test() == None:\n",
    "            quart_string = '(' + str(self.real)\n",
    "            if self.imag >= 0:\n",
    "                quart_string += '+'\n",
    "            quart_string += str(self.imag) + 'i'\n",
    "            if self.jmag >= 0:\n",
    "                quart_string += '+'\n",
    "            quart_string += str(self.jmag) + 'j'\n",
    "            if self.kmag >= 0:\n",
    "                quart_string += '+'\n",
    "            quart_string += str(self.kmag) + 'k'\n",
    "            quart_string +=')'\n",
    "            return quart_string\n",
    "    # self\n",
    "    def __repr__(self):\n",
    "        return self.__str__()\n",
    "    \n",
    "    # +self\n",
    "    def __pos__(self):\n",
    "        return self\n",
    "    \n",
    "    # -self\n",
    "    def __neg__(self):\n",
    "        return self.negative()\n",
    "    \n",
    "    # self + other\n",
    "    def __add__(self,other):\n",
    "        other = self.convert_to_quartenion(other)\n",
    "        if (self.quaternion_test() == None) and (other.quaternion_test() == None):\n",
    "            reals = self.real + other.real\n",
    "            imags = self.imag + other.imag\n",
    "            jmags = self.jmag + other.jmag\n",
    "            kmags = self.kmag + other.kmag\n",
    "            return Quaternion(reals,imags,jmags,kmags)\n",
    "    \n",
    "    # self - other\n",
    "    def __sub__(self,other):\n",
    "        other = self.convert_to_quartenion(other)\n",
    "        if (self.quaternion_test() == None) and (other.quaternion_test() == None):\n",
    "            return self.__add__(other.negative())\n",
    "        \n",
    "    # self * other\n",
    "    def __mul__(self,other):\n",
    "        other = self.convert_to_quartenion(other)\n",
    "        if (self.quaternion_test() == None) and (other.quaternion_test() == None):\n",
    "            real_part = self.real*other.real - (self.imag*other.imag) - \\\n",
    "                            (self.jmag*other.jmag) - (self.kmag*other.kmag)\n",
    "            imag_part = self.real*other.imag + (self.imag*other.real) + \\\n",
    "                            (self.jmag*other.kmag) - (self.kmag*other.jmag)\n",
    "            jmag_part = self.real*other.jmag - (self.imag*other.kmag) + \\\n",
    "                            (self.jmag*other.real) + (self.kmag*other.imag)\n",
    "            kmag_part = self.real*other.kmag + (self.imag*other.jmag) - \\\n",
    "                            (self.jmag*other.imag) + (self.kmag*other.real)\n",
    "            return Quaternion(real_part,imag_part,jmag_part,kmag_part)\n",
    "        \n",
    "    # self / other\n",
    "    def __truediv__(self,other):\n",
    "        other = self.convert_to_quartenion(other)\n",
    "        if (self.quaternion_test() == None) and (other.quaternion_test() == None):\n",
    "            return self.__mul__(other.inverse())\n",
    "        \n",
    "    # self == other\n",
    "    def __eq__(self,other):\n",
    "        other = self.convert_to_quartenion(other)\n",
    "        if (self.quaternion_test() == None) and (other.quaternion_test() == None):\n",
    "            if self.real != other.real:\n",
    "                return False\n",
    "            if self.imag != other.imag:\n",
    "                return False\n",
    "            if self.jmag != other.jmag:\n",
    "                return False\n",
    "            if self.kmag != other.kmag:\n",
    "                return False\n",
    "            return True\n",
    "        \n",
    "    # self != other\n",
    "    def __neq__(self,other):\n",
    "        other = self.convert_to_quartenion(other)\n",
    "        if (self.quaternion_test() == None) and (other.quaternion_test() == None):\n",
    "            return not self.__eq__(other)\n",
    "        \n",
    "    # other + self\n",
    "    def __radd__(self,other): return self.__add__(other)\n",
    "    \n",
    "    # other - self\n",
    "    def __rsub__(self,other): return self.negative().__add__(other)\n",
    "    \n",
    "    # other * self\n",
    "    def __rmul__(self,other):\n",
    "        \n",
    "        if isinstance(other,int):\n",
    "            quart_other = Quaternion(other,0,0,0)\n",
    "            return quart_other.__mul__(self)\n",
    "        \n",
    "        if isinstance(other,float):\n",
    "            quart_other = Quaternion(other,0,0,0)\n",
    "            return quart_other.__mul__(self)\n",
    "        \n",
    "        if isinstance(other, complex):\n",
    "            quart_other = Quaternion(other.real,other.imag,0,0)\n",
    "            return quart_other.__mul__(self)\n",
    "        \n",
    "        if isinstance(other, Quaternion):\n",
    "            return other.__mul__(self)\n",
    "        \n",
    "    # other / self\n",
    "    def __rtruediv__(self,other):\n",
    "        \n",
    "        if isinstance(other,int):\n",
    "            quart_other = Quaternion(other,0,0,0)\n",
    "            return quart_other.__truediv__(self)\n",
    "        \n",
    "        if isinstance(other,float):\n",
    "            quart_other = Quaternion(other,0,0,0)\n",
    "            return quart_other.__truediv__(self)\n",
    "        \n",
    "        if isinstance(other, complex):\n",
    "            quart_other = Quaternion(other.real,other.imag,0,0)\n",
    "            return quart_other.__truediv__(self)\n",
    "        \n",
    "        if isinstance(other, Quaternion):\n",
    "            return other.__truediv__(self)\n",
    "        \n",
    "    # other == self\n",
    "    def __req__(self,other): return self.__eq__(other)\n",
    "    \n",
    "    # other != self\n",
    "    def __rne__(self,other): return self.__eq__(other)\n",
    "    \n",
    "    # self ** n\n",
    "    def __pow__(self,n):\n",
    "        if (self.quaternion_test() == None) and isinstance(n, int):   \n",
    "            \n",
    "            if n == 0:\n",
    "                return Quaternion(1,0,0,0)\n",
    "            if n == 1:\n",
    "                return self\n",
    "            elif n == -1:\n",
    "                return self.inverse()\n",
    "\n",
    "            half_power = self.__pow__(int(n/2))\n",
    "            if (n % 2 ==0):\n",
    "                return half_power.__mul__(half_power)\n",
    "            else:\n",
    "                if n > 0:\n",
    "                    return self.__mul__(half_power.__mul__(half_power))\n",
    "                else:\n",
    "                    return self.inverse().__mul__(half_power.__mul__(half_power))\n",
    "        else:\n",
    "            raise TypeError('n must be an integer')\n",
    "            \n",
    "    # abs(self)\n",
    "    def __abs__(self):\n",
    "        return self.absolute_value()\n",
    "    \n",
    "    # self @ other\n",
    "    def __matmul__(self,other):\n",
    "        self = self.convert_to_quartenion(self)\n",
    "        other = self.convert_to_quartenion(other)\n",
    "        A = self.to_matrix()\n",
    "        B = other.to_matrix()\n",
    "        return A @ B \n",
    "    \n",
    "    # other @ self\n",
    "    def __rmatmul__(self,other):\n",
    "        if isinstance(other,int):\n",
    "            other = Quaternion(other,0,0,0)        \n",
    "        if isinstance(other,float):\n",
    "            other = Quaternion(other,0,0,0)        \n",
    "        if isinstance(other, complex):\n",
    "            other = Quaternion(other.real,other.imag,0,0)\n",
    "        \n",
    "        if isinstance(other,Quaternion):  \n",
    "            print(\"here\")\n",
    "            A = other.to_matrix()\n",
    "            B = self.to_matrix()\n",
    "            return A @ B \n",
    "        \n",
    "        if isinstance(other,np.dtype.array):  \n",
    "            print(\"works\")\n",
    "            A = other\n",
    "            B = self.to_matrix()\n",
    "            return A @ B \n",
    "        \n",
    "        "
   ]
  },
  {
   "cell_type": "code",
   "execution_count": 3,
   "metadata": {},
   "outputs": [
    {
     "name": "stdout",
     "output_type": "stream",
     "text": [
      "[[(-37+39i-139j+49k) (-248+112i+156j+152k)]\n",
      " [(-18-10i-202j+56k) (-293+39i+261j+207k)]]\n",
      "q(1-2i-3j-4k)\n",
      "test_q1.000 -2.000i -3.000j -4.000k\n"
     ]
    },
    {
     "data": {
      "text/plain": [
       "array([[False, False],\n",
       "       [False, False]])"
      ]
     },
     "execution_count": 3,
     "metadata": {},
     "output_type": "execute_result"
    }
   ],
   "source": [
    "### SKIP\n",
    "### TEST YOUR CODE HERE ###\n",
    "\n",
    "### I've started class Quaternion with the following functionality:\n",
    "\n",
    "# q = Quaternion(1,2,3,4)\n",
    "\n",
    "# for i in range(4):\n",
    "#     print(q[i])\n",
    "\n",
    "# print()\n",
    "\n",
    "# r = Quaternion(1+3j)\n",
    "\n",
    "# for i in range(4):\n",
    "#     print(r[i])\n",
    "\n",
    "# print()\n",
    "\n",
    "# q = Quaternion(1,2,3,4)\n",
    "\n",
    "# p = Quaternion(5,6,7,8)\n",
    "\n",
    "# print(\"Real ::\" + str(q.real))\n",
    "# print(\"imag ::\" + str(q.imag))\n",
    "# print(\"jmag ::\" + str(q.jmag))\n",
    "# print(\"kmag ::\" + str(q.kmag))\n",
    "\n",
    "# print(\"scalar ::\" + str(q.scalar))\n",
    "# print(\"vector ::\" + str(q.vector))\n",
    "# print(\"complex_pair ::\" + str(q.complex_pair))\n",
    "# print(\"matrix ::\" + str(q.matrix))\n",
    "\n",
    "# print(q)\n",
    "# print(-q)\n",
    "\n",
    "# print(q*p)\n",
    "\n",
    "# print(p/q)\n",
    "\n",
    "# print(p != q)\n",
    "\n",
    "# p = 1\n",
    "# print(q*p)\n",
    "Quaternion(1,2,3,4) - 1\n",
    "7*Quaternion(1,2,3,4)\n",
    "Quaternion(1,2,3,4) - (1+2j)\n",
    "17 == Quaternion(17,0,0,0)\n",
    "- (1+2j) + Quaternion(1,2,3,4) \n",
    "Quaternion(1,2,3,4)/30\n",
    "\n",
    "q = Quaternion(1,2,3,4)\n",
    "\n",
    "q.conjugate()**3\n",
    "abs(q)\n",
    "\n",
    "q = Quaternion(1,2,3,4)\n",
    "r = Quaternion(5,6,7,8)\n",
    "t = Quaternion(9,10,11,12)\n",
    "s = Quaternion(-3,-7,-4,8)\n",
    "\n",
    "A = np.array([[q,r],[s,t]])\n",
    "\n",
    "print((A @ A))\n",
    "\n",
    "from pyquaternion import Quaternion as test_quart\n",
    "q = Quaternion(1,2,3,4)\n",
    "q_test = test_quart(1,2,3,4)\n",
    "\n",
    "print(\"q\" + str(q.conjugate()))\n",
    "print(\"test_q\" + str(q_test.conjugate))\n",
    "\n",
    "a = Quaternion(1,2,3,4)\n",
    "b = Quaternion(5,6,7,8)\n",
    "c = Quaternion(9,10,11,12)\n",
    "d = Quaternion(-3,-7,-4,8)\n",
    "\n",
    "B = np.array([[a,b],[c,d]])\n",
    "\n",
    "B == Quaternion(10,10,10,10)"
   ]
  },
  {
   "cell_type": "markdown",
   "metadata": {},
   "source": [
    "<br>"
   ]
  },
  {
   "cell_type": "markdown",
   "metadata": {},
   "source": [
    "## The Octonions: $\\boldsymbol{\\mathbb{O}}$\n",
    "\n",
    "* We've see the complex numbers can be thought of as pairs of real numbers. \n",
    "\n",
    "* We've also seen that quaternions can be thought of as pairs of complex numbers. \n",
    "\n",
    "What happens if we consider pairs of quaternions?\n",
    "\n",
    "<br>\n",
    "\n",
    "### Multiplication\n",
    "\n",
    "We can use the Cayley-Dickenson  multiplication rule for all three constructions.\n",
    "\n",
    "Define:\n",
    "\n",
    "$$\\Large\n",
    "o = (q,r) \n",
    "$$\n",
    "\n",
    "Then:\n",
    "\n",
    "$$\\Large\n",
    "o_{1} o_{2} = (q_{1},r_{1}) \\times (q_{2},r_{2}) \\ = \\ (q_{1} q_{2} - r_{2}^{*} r_{1}, r_{2} q_{1} + r_{1} q_{2}^{*} )\n",
    "$$\n",
    "\n",
    "There are a few important things to say about this definition:\n",
    "\n",
    "* Notice in the case where $q_{i}$ and $r_{i}$ are quaternions, then $r_{2} q_{1} \\ne  q_{1} r_{2}$, at least not always. This means we have to be careful to use the above definition carefully. \n",
    "\n",
    "\n",
    "* If $q_{i}$ and $r_{i}$ represent complex numbers, and $o_{1}$ and $o_{2}$ represent quaternions, then the order doesn't matter, but the conjugation does matter. \n",
    "\n",
    "\n",
    "* If $q_{i}$ and $r_{i}$ represent real numbers, and $o_{1}$ and $o_{2}$ represent complex numbers, then neither the order nor the conjugation matters. We have the usual rule for multiplying complex numbers. \n",
    "\n",
    "<br>\n",
    "\n",
    "### Conjugate\n",
    "\n",
    "The general form of conjugate is:\n",
    "\n",
    "$$\\Large\n",
    "o^{*} = (q^{*},-r) \n",
    "$$\n",
    "\n",
    "This definition relies on knowing how to take $q^{*}$. \n",
    "\n",
    "\n",
    "<br>\n",
    "\n",
    "### Norm\n",
    "\n",
    "It's simple to show that \n",
    "\n",
    "$$\\Large\n",
    "o o^{*} \\ = \\ o^{*} o \\ = \\ |q|^{2} + |r|^{2} \\ \\ge \\ 0.\n",
    "$$\n",
    "\n",
    "<br>\n",
    "\n",
    "### Inverse\n",
    "\n",
    "Like the complex numbers and quaternions, we can define the inverse \n",
    "\n",
    "$$\\Large\n",
    "o^{-1} \\ = \\ \\frac{o^{*}}{|o|^{2}} \\quad \\iff \\quad o o^{-1} \\ = \\ o^{-1} o  \\ = \\ 1.\n",
    "$$\n",
    "\n",
    "\n",
    "The important thing about the Octonions is that we can ***divide uniquely***. \n",
    "\n",
    "\n",
    "### Division \n",
    "\n",
    "$$\\Large\n",
    "o\\,/p \\ = \\ s \\quad \\iff \\quad o \\ = \\ s p \\quad \\text{uniquely}.\n",
    "$$\n",
    "\n",
    "The fact that this is *unique* is the important part. There are other algebras that have inverses, but not unique division. \n",
    "\n",
    "***The Octonions are the largest normed division algebra over the reals.***\n",
    "\n",
    "\n",
    "### Non-commutative *and* non-associative\n",
    "\n",
    "* Like the quaternions, the Octonions are **not commutative.**\n",
    "\n",
    "\n",
    "* *Unlike* the quaternions are **not associative.** This means \n",
    "\n",
    "\n",
    "$$\\Large\n",
    "\\text{There exist } \\quad o(ps) \\ne (op) s \n",
    "$$\n",
    "\n",
    "\n",
    "Recall that floating-point addition *is* commutative, but not always associative. Non-associative things are considered a bit weird. This is usually because they don't have matrix representations; matrix multiplication is associative. But also remember *subtraction* is not associative. So maybe it's not that weird.\n",
    "\n",
    "\n",
    "\n"
   ]
  },
  {
   "cell_type": "markdown",
   "metadata": {},
   "source": [
    "## TASK 2: `class Octonion` (MATH3976/4076)\n",
    "\n",
    "For **TASK 2**, make a `class Octonion` that computes everything that `class Quaternion` does, with the following changes.\n",
    "\n",
    "Assume (for example): \n",
    "\n",
    "    o = Octonion(1,2,3,4,5,6,7,8)\n",
    "\n",
    "* Strings should be formatted the same as the equivalent **length-8** **`tuple`**. For example:\n",
    "\n",
    "        In [0]: str(o)\n",
    "        \n",
    "        Out[0]: '(1,2,3,4,5,6,7,8)'\n",
    "\n",
    "\n",
    "* There are no longer the artistes `.real`, `.imag`, `.jmag`, `.kmag`, `scalar`, `vector`, `matrix`. \n",
    "\n",
    "\n",
    "* You will access elements purely by *slicing* and returning a tuple of the results. For example:\n",
    "\n",
    "       In [0]: o[0]\n",
    "       \n",
    "       Out[0]: 1\n",
    "       \n",
    "       \n",
    "       In [1]: o[1:4]\n",
    "       \n",
    "       Out[1]: (2, 3, 4)\n",
    "       \n",
    "       \n",
    "       In [2]: o[:]\n",
    "       \n",
    "       Out[2]: (1,2,3,4,5,6,7,8)\n",
    "       \n",
    "       \n",
    "* You will include a read-only attribute `Quaternion_pair` that behaves similarly as `complex_pair` for `Quaternion`. For example\n",
    "\n",
    "        In [0]: o.Quaternion_pair\n",
    "        \n",
    "        Out[0]: ((1+2i+3j+4k),(5+6i+7j+8k))\n",
    "\n",
    "\n",
    "* As before, I've included the `__init__` statement. This should help guide your implementation. "
   ]
  },
  {
   "cell_type": "code",
   "execution_count": null,
   "metadata": {},
   "outputs": [],
   "source": [
    "### TEST FUNCTION: test_Octonion\n",
    "## DO NOT ERASE ANYTHING INITALLY IN THIS CELL ##\n",
    "\n",
    "class Octonion():\n",
    "    \n",
    "    def __init__(self,a=0,b=0,c=0,d=0,e=0,f=0,g=0,h=0):\n",
    "        \n",
    "        if (type(a) == Quaternion) or (type(b) == Quaternion):\n",
    "            a,b,c,d,e,f,g,h = a[:] + b[:]\n",
    "        \n",
    "        if type(a) == Octonion:\n",
    "            a,b,c,d,e,f,g,h = a._o[:]\n",
    "        \n",
    "        self._o = (a,b,c,d,e,f,g,h)\n",
    "    \n",
    "    \n",
    "    def __getitem__(self,item):\n",
    "        return self._o[(item)]\n",
    "    \n",
    "    \n",
    "    ## INPUT YOUR CODE BELOW THIS LINE ## \n",
    "    \n",
    "    "
   ]
  },
  {
   "cell_type": "code",
   "execution_count": null,
   "metadata": {},
   "outputs": [],
   "source": [
    "### SKIP\n",
    "### TEST YOUR CODE HERE ###\n",
    "\n",
    "### I've started class Quaternion with the following functionality:\n",
    "\n",
    "o = Octonion(1,2,3,4,5,6,7,8)\n",
    "\n",
    "for i in range(8):\n",
    "    print(o[i])"
   ]
  },
  {
   "cell_type": "markdown",
   "metadata": {},
   "source": [
    "<br>"
   ]
  },
  {
   "cell_type": "markdown",
   "metadata": {},
   "source": [
    "# END ASSIGNMENT"
   ]
  },
  {
   "cell_type": "code",
   "execution_count": null,
   "metadata": {},
   "outputs": [],
   "source": []
  }
 ],
 "metadata": {
  "kernelspec": {
   "display_name": "Python (testenv)",
   "language": "python",
   "name": "myenv"
  },
  "language_info": {
   "codemirror_mode": {
    "name": "ipython",
    "version": 3
   },
   "file_extension": ".py",
   "mimetype": "text/x-python",
   "name": "python",
   "nbconvert_exporter": "python",
   "pygments_lexer": "ipython3",
   "version": "3.6.5"
  }
 },
 "nbformat": 4,
 "nbformat_minor": 4
}
