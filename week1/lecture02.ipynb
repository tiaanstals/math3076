{
 "cells": [
  {
   "cell_type": "markdown",
   "metadata": {},
   "source": [
    "# Lecture 02: Building programs and abstraction in Python"
   ]
  },
  {
   "cell_type": "markdown",
   "metadata": {},
   "source": [
    "##  Programming styles \n",
    "\n",
    "Today we will consider different ways to construct a program in Python (or many languages), and the different implications, pros/cons of each kind.\n",
    "\n",
    "Working from concrete to abstract, we will consider the following three approaches. \n",
    "\n",
    "### Procedural programming\n",
    "\n",
    "* Step-by-step instructions\n",
    "* Structured conditionals (e.g., `if/else`), and loops (i.e., `for`)\n",
    "\n",
    "### Functional programming\n",
    "\n",
    "* Procedures that mimic mathematical functions. \n",
    "* Outputs follow from inputs with no *side effects*. BTW: side effects are not always bad!\n",
    "\n",
    "### Object-oriented programming\n",
    "\n",
    "* Collections of data *and* functions to operate on that data.\n",
    "* Programs as hierarchies of classes\n",
    "    "
   ]
  },
  {
   "cell_type": "markdown",
   "metadata": {},
   "source": [
    "We've already seen examples of all three of these approaches. \n",
    "\n",
    "Procedural programming is basically the same thing as a \"cook book\"\n",
    "\n",
    "Our functions, `square`, and `poly` are simple examples of functional style. \n",
    "\n",
    "Our quick intro to complex numbers have elements of object-oriented style."
   ]
  },
  {
   "cell_type": "code",
   "execution_count": null,
   "metadata": {},
   "outputs": [],
   "source": [
    "# An object\n",
    "c = 3.1 + 0.2*1j\n",
    "\n",
    "print(c)\n",
    "\n",
    "# Two attributes\n",
    "print(c.real)\n",
    "print(c.imag)\n",
    "\n",
    "# A method\n",
    "print(c.conjugate())"
   ]
  },
  {
   "cell_type": "markdown",
   "metadata": {},
   "source": [
    "The `conjugate()` method came with a `.` after the object. This is because it is ***attached with the object***. The function belongs to `c`, not that `c` goes into the function. There is an *additional* way to put more things into the function; with the `( )`. But this is for *external data*. In this case there is nothing else to consider so we leave the `( )` empty."
   ]
  },
  {
   "cell_type": "markdown",
   "metadata": {},
   "source": [
    "#### Class\n",
    "\n",
    "* An extensible *template* for the definition and use of a collection of data and functions that act on that data, and possible outside data.\n",
    "\n",
    "For example: If you are a government, you might want a Class called `Taxpayer`\n",
    "\n",
    "#### Object:\n",
    "    \n",
    "* A particular *instance* of a *class*. This means a \"variable\" that contains multiple components that can consists not of data, and functions. \n",
    "\n",
    "A particular instance of the Class `Taxpayer` would be a person who pays taxes. \n",
    "\n",
    "#### Attribute:\n",
    "    \n",
    "*  A defining property of an object. \n",
    "\n",
    "Examples of this could be `Name`,  `Taxpayer_ID`, `Annual_Income`, etc. \n",
    "\n",
    "#### Methods\n",
    "\n",
    "* A function that acts on the input data, as well as possibly attributes. \n",
    "\n",
    "\n",
    "For example, `Compute_Tax_Payment()`.\n",
    "\n",
    "\n",
    "Some classes in Python are already defined for us. By we can make new classes. We'll do this later in the semester. \n"
   ]
  },
  {
   "cell_type": "markdown",
   "metadata": {},
   "source": [
    "### Complex numbers\n",
    "\n",
    "A complex number is an ***object*** ( e.g., `3.1 + 0.2j` ). \n",
    "\n",
    "It has ***attributes*** (eg `.real`, `.imag` ) that are bits of smaller data attached to the large data object.\n",
    "\n",
    "It has ***methods*** (eg `.conjugate()` ) that are functions that are attached to the data and can act on the data.\n",
    "\n",
    "The difference between the `()` at the end of method and attributes explains a lot about classes and objects. \n",
    "\n",
    "In fact, we will see later that even things we think of as \"basic Python\" (eg `print()`) are actually `methods` acting on the thing you put in the function. The reason for this is that \n",
    "\n",
    "    \n",
    "    \n",
    "<h1><center>In Python everything is an object!</center></h1>\n",
    "\n",
    "We'll discuss this more as we go. You'll see that everything makes sense if you remember how binded environments work. \n",
    "\n",
    "<h1><center>In Python everything is on a list of names!</center></h1>"
   ]
  },
  {
   "cell_type": "markdown",
   "metadata": {},
   "source": [
    "We will talk about object-oriented approaches next week. Today, we are going to see some difference between procedural and functional style. "
   ]
  },
  {
   "cell_type": "markdown",
   "metadata": {},
   "source": [
    "## Tuples: more ( ) vs [ ]"
   ]
  },
  {
   "cell_type": "markdown",
   "metadata": {},
   "source": [
    "Before we go any further, there is another common Python data type that we didn't cover last time. Ie, a ***tuple***."
   ]
  },
  {
   "cell_type": "markdown",
   "metadata": {},
   "source": [
    "We already know about lists, and that they can contain any kind of data types. E.g.,"
   ]
  },
  {
   "cell_type": "code",
   "execution_count": null,
   "metadata": {},
   "outputs": [],
   "source": [
    "lis = [1,'two',3.0 + 0.*1j]"
   ]
  },
  {
   "cell_type": "markdown",
   "metadata": {},
   "source": [
    "A tuple behaves in a very similar way. You use $( \\ )$ rather than $[ \\ ]$."
   ]
  },
  {
   "cell_type": "code",
   "execution_count": null,
   "metadata": {},
   "outputs": [],
   "source": [
    "tup = (1,'two',3.0 + 0.*1j)"
   ]
  },
  {
   "cell_type": "code",
   "execution_count": null,
   "metadata": {},
   "outputs": [],
   "source": [
    "print(lis)\n",
    "print(tup)"
   ]
  },
  {
   "cell_type": "markdown",
   "metadata": {},
   "source": [
    "You can **\"get items\"** for both:"
   ]
  },
  {
   "cell_type": "code",
   "execution_count": null,
   "metadata": {},
   "outputs": [],
   "source": [
    "lis[0] == tup[0]"
   ]
  },
  {
   "cell_type": "markdown",
   "metadata": {},
   "source": [
    "We'll see later that the `thing[0]` are both methods acting on the List and Tupple classes respectively."
   ]
  },
  {
   "cell_type": "markdown",
   "metadata": {},
   "source": [
    "You can change the entries in a list in the following way:"
   ]
  },
  {
   "cell_type": "code",
   "execution_count": null,
   "metadata": {},
   "outputs": [],
   "source": [
    "print('original list:',lis)\n",
    "lis[0] = 5\n",
    "print('     new list:',lis)"
   ]
  },
  {
   "cell_type": "markdown",
   "metadata": {},
   "source": [
    "Not with a tuple"
   ]
  },
  {
   "cell_type": "code",
   "execution_count": null,
   "metadata": {},
   "outputs": [],
   "source": [
    "tup[0] = 5"
   ]
  },
  {
   "cell_type": "markdown",
   "metadata": {},
   "source": [
    "### Immutability \n",
    "\n",
    "At tuple is like a list, but we say that it is ***immutable***. Once you define it, you can't alter it. You could totally redefine the variable name. But this isn't the same as altering the tuple.\n",
    "\n",
    "We will find out that this is very useful sometimes. For example, you don't want to change the index of a tensor to something the tensor can't have. More on this as we go."
   ]
  },
  {
   "cell_type": "markdown",
   "metadata": {},
   "source": [
    "There is a small way to cheat if you really want. Like a list, a tuple can contain any simple data type. Including tuples and lists."
   ]
  },
  {
   "cell_type": "code",
   "execution_count": null,
   "metadata": {},
   "outputs": [],
   "source": [
    "tup = (1,(2,3),[4,5,6])\n",
    "print(tup[0])\n",
    "print(tup[1])\n",
    "print(tup[2])"
   ]
  },
  {
   "cell_type": "markdown",
   "metadata": {},
   "source": [
    "Because tup[2] is a list, we can change it like a list."
   ]
  },
  {
   "cell_type": "code",
   "execution_count": null,
   "metadata": {},
   "outputs": [],
   "source": [
    "tup[2][0]=17\n",
    "print(tup[2])"
   ]
  },
  {
   "cell_type": "markdown",
   "metadata": {},
   "source": [
    "We can change individual elements of lists. And this list is in a tuple. "
   ]
  },
  {
   "cell_type": "markdown",
   "metadata": {},
   "source": [
    "But now look at what we've done:"
   ]
  },
  {
   "cell_type": "code",
   "execution_count": null,
   "metadata": {},
   "outputs": [],
   "source": [
    "print(tup)"
   ]
  },
  {
   "cell_type": "markdown",
   "metadata": {},
   "source": [
    "Even thought it's possible to do this, **don't actually do it.** It's bad programming practice because it's not clear what's happening. I'm only doing this to show more about how things behave."
   ]
  },
  {
   "cell_type": "markdown",
   "metadata": {},
   "source": [
    "## PROGRAM EXAMPLES: "
   ]
  },
  {
   "cell_type": "markdown",
   "metadata": {},
   "source": [
    "## 0: How to get from 1 $\\to $ 100 ? Using only +1, and square operations?"
   ]
  },
  {
   "cell_type": "code",
   "execution_count": null,
   "metadata": {},
   "outputs": [],
   "source": [
    "def increment(n):\n",
    "    return n+1"
   ]
  },
  {
   "cell_type": "code",
   "execution_count": null,
   "metadata": {},
   "outputs": [],
   "source": [
    "increment(3)"
   ]
  },
  {
   "cell_type": "code",
   "execution_count": null,
   "metadata": {},
   "outputs": [],
   "source": [
    "def square(n):\n",
    "    return n*n"
   ]
  },
  {
   "cell_type": "code",
   "execution_count": null,
   "metadata": {},
   "outputs": [],
   "source": [
    "square(3)"
   ]
  },
  {
   "cell_type": "markdown",
   "metadata": {},
   "source": [
    "## Procedural way --> Breadth-first search\n",
    "\n",
    "It works by building up a binary tree and stopping when it finds the goal.\n",
    "\n",
    "                    0:                Start\n",
    "                                    /       \\\n",
    "                                   /         \\\n",
    "                                  /           \\\n",
    "                    1:           I             S\n",
    "                                / \\           / \\\n",
    "                               /   \\         /   \\\n",
    "                    2:        I     S       I     S\n",
    "                             /     / \\     / \\   / \\\n",
    "                    3:      I     I   S   I   S I   S \n",
    "                    \n",
    "The tree is a binary tree because there are only two functions `increment` (`I`) and `square` (`S`). A third function (e.g. `cube`) would make it a trinary tree, and so on. \n",
    "\n",
    "We are going to make what is called a ***Breadth-first search***. This means we explore all (2) nodes at one level before moving to the next level. \n",
    "\n",
    "A ***Depth-first search*** would go all the way to the end using before backtracking and starting another path to all the way to the end. "
   ]
  },
  {
   "cell_type": "code",
   "execution_count": null,
   "metadata": {},
   "outputs": [],
   "source": [
    "def find_sequence(initial,goal):\n",
    "    \"\"\"Reports back the shortest sequence of increment and square that gives goal starting initial\n",
    "    \n",
    "    \n",
    "    Parameters\n",
    "    ----------\n",
    "    initial: int\n",
    "    goal:    int\n",
    "    \n",
    "    \"\"\"\n",
    "    \n",
    "    # Make a list of tuples, each containing (string, int)\n",
    "    candidates = [(str(initial),initial)]   \n",
    "    \n",
    "    # Loop over all the integers between your start and your goal.\n",
    "    for i in range(1,goal-initial+1):\n",
    "        \n",
    "        # An empty list\n",
    "        new_candidates = []\n",
    "        \n",
    "        # Go through each tuple in candidates,\n",
    "        # For each tuple, \n",
    "        # put the string into a variable called 'action'\n",
    "        # put the integer into a variable called 'result'\n",
    "        for (action,result) in candidates:\n",
    "            \n",
    "            # a = either of the strings  : ' increment' or ' square'\n",
    "            # r = either of the functions: increment' or square\n",
    "            # Remember the functions are in our enviroment (aka namespace), so we can use them.\n",
    "            # If we had more functions to try (eg, cube), we could put them in the list here.\n",
    "            for (a,r) in [(' increment',increment),(' square',square)]:\n",
    "                \n",
    "                # put a new tuple on the back of the new_candidates list\n",
    "                # The string 'adds' the word of the function to the list of words\n",
    "                # The integer is the current function applied to the previous result.\n",
    "                new_candidates.append((action+a,r(result)))\n",
    "                \n",
    "                # Show how we are doing so far.\n",
    "                print(i,': ', new_candidates[-1])\n",
    "                \n",
    "                # Check if the latest is the right answer\n",
    "                if new_candidates[-1][1] == goal:\n",
    "                    \n",
    "                    # report back the asnwer\n",
    "                    return new_candidates[-1]\n",
    "        \n",
    "        # otherwise the list of candidates becomse where we are now. \n",
    "        candidates = new_candidates"
   ]
  },
  {
   "cell_type": "code",
   "execution_count": null,
   "metadata": {},
   "outputs": [],
   "source": [
    "answer = find_sequence(1,100)"
   ]
  },
  {
   "cell_type": "markdown",
   "metadata": {},
   "source": [
    "***It works:***\n",
    "\n",
    "$$\n",
    "\\large 1 + 1 + 1  =   3, \\quad \\quad 3 * 3  =  9, \\quad \\quad 9+1  =  10, \\quad  \\quad 10*10  =  100\n",
    "$$"
   ]
  },
  {
   "cell_type": "code",
   "execution_count": null,
   "metadata": {},
   "outputs": [],
   "source": [
    "((1 + 1 + 1)**2 + 1)**2 == 100"
   ]
  },
  {
   "cell_type": "markdown",
   "metadata": {},
   "source": [
    "## Functional way\n",
    "\n",
    "### Applying functions to functions \n",
    "\n",
    "In this case we are going to build up a collection of primitive helper functions. These functions will not solve the problem directly. But the scheme that does solve the problem will use them.\n",
    "\n",
    "The first helper function is going to take a *list of functions* and *apply* them all to an argument. \n",
    "\n",
    "Suppose \n",
    "\n",
    "$$\n",
    "\\large f \\ : \\ \\mathbb{Z} \\ \\to \\ \\mathbb{Z}, \\quad \\text{and} \\quad \\large g \\ : \\ \\mathbb{Z} \\ \\to \\ \\mathbb{Z}\n",
    "$$\n",
    "\n",
    "That is, both $f$ and $g$ map the integers to the integers (for example). Then (for example) we can make the list of functions \n",
    "\n",
    "$$\n",
    "\\large L \\ = \\ \\left[\\, f, f, g, f, g, g \\, \\right]\n",
    "$$\n",
    "\n",
    "Then for an integer $n$ \n",
    "\n",
    "$$\n",
    "\\large \\text{Apply}(\\left[\\, f, f, g, f, g, g \\, \\right],n) \\ = \\ \\text{Apply}(\\left[\\, f, g, f, g, g \\, \\right],f(n))\n",
    "$$\n",
    "\n",
    "Carrying this all the way to the end, give\n",
    "\n",
    "$$\n",
    "\\large \\text{Apply}(\\left[\\, f, f, g, f, g, g \\, \\right],n) \\ = \\ \\text{Apply}(\\left[\\, \\, \\right],g(g(f(g(f(f(n))))) )\n",
    "$$\n",
    "\n",
    "If we assume that \n",
    "\n",
    "$$\n",
    "\\large \\text{Apply}(\\left[\\, \\, \\right], n ) \\ = \\ n \\quad \\text{for all} \\quad n\n",
    "$$\n",
    "\n",
    "Then \n",
    "\n",
    "$$\n",
    "\\large \\text{Apply}(\\left[\\, f, f, g, f, g, g \\, \\right],n) \\ = \\ g(g(f(g(f(f(n))))) \n",
    "$$\n",
    "\n",
    "Written another way,\n",
    "\n",
    "$$\n",
    "\\large \\text{Apply}(\\left[\\, f, f, g, f, g, g \\, \\right],n) \\ = \\ g^{2} \\circ f \\circ g \\circ f^{2} \\circ n\n",
    "$$\n"
   ]
  },
  {
   "cell_type": "code",
   "execution_count": null,
   "metadata": {},
   "outputs": [],
   "source": [
    "def apply(op_list,arg):\n",
    "    \"\"\"Applies a list of functions to a single argument\n",
    "    \n",
    "    Parameters\n",
    "    ----------\n",
    "    op_list: a list of function in the environment\n",
    "    arg:     a variable that each function in op_list understands\n",
    "    \n",
    "    \"\"\"\n",
    "    \n",
    "    # no function of x = x\n",
    "    if len(op_list) == 0:\n",
    "        return arg\n",
    "    else:\n",
    "        # apply calls it self! It is RECURSIVE\n",
    "        # Be careful, this can get crazy. \n",
    "        # Take the right-most element in the list, \n",
    "        # evaluate it at the argument, and drop the used function from the list. \n",
    "        return apply(op_list[1:],op_list[0](arg)) "
   ]
  },
  {
   "cell_type": "markdown",
   "metadata": {},
   "source": [
    "The environment knows what increment and square are now"
   ]
  },
  {
   "cell_type": "code",
   "execution_count": null,
   "metadata": {},
   "outputs": [],
   "source": [
    "increment"
   ]
  },
  {
   "cell_type": "markdown",
   "metadata": {},
   "source": [
    "`< function __main__.increment >` is Python's way of *binding* something in the `__main__` environment to the name `increment`.\n",
    "\n"
   ]
  },
  {
   "cell_type": "code",
   "execution_count": null,
   "metadata": {},
   "outputs": [],
   "source": [
    "square"
   ]
  },
  {
   "cell_type": "markdown",
   "metadata": {},
   "source": [
    "We can pass anything in the environment to functions. Including functions!"
   ]
  },
  {
   "cell_type": "markdown",
   "metadata": {},
   "source": [
    "Applying nothing to a number better give back the number."
   ]
  },
  {
   "cell_type": "code",
   "execution_count": null,
   "metadata": {},
   "outputs": [],
   "source": [
    "apply([],9)"
   ]
  },
  {
   "cell_type": "markdown",
   "metadata": {},
   "source": [
    "These should behave like you expect:"
   ]
  },
  {
   "cell_type": "code",
   "execution_count": null,
   "metadata": {},
   "outputs": [],
   "source": [
    "apply([increment],9)"
   ]
  },
  {
   "cell_type": "code",
   "execution_count": null,
   "metadata": {},
   "outputs": [],
   "source": [
    "apply([square],9)"
   ]
  },
  {
   "cell_type": "code",
   "execution_count": null,
   "metadata": {},
   "outputs": [],
   "source": [
    "apply([square,increment],9) == (9**2) + 1 == 82"
   ]
  },
  {
   "cell_type": "code",
   "execution_count": null,
   "metadata": {},
   "outputs": [],
   "source": [
    "apply([increment,square],9) == (9+1)**2 == 100"
   ]
  },
  {
   "cell_type": "markdown",
   "metadata": {},
   "source": [
    "*Order matters*"
   ]
  },
  {
   "cell_type": "code",
   "execution_count": null,
   "metadata": {},
   "outputs": [],
   "source": [
    "print(apply([increment],square(9)))\n",
    "print(apply( [square],increment(9)))"
   ]
  },
  {
   "cell_type": "code",
   "execution_count": null,
   "metadata": {},
   "outputs": [],
   "source": [
    "print(apply([increment],apply(   [square],9)))\n",
    "print(apply(   [square],apply([increment],9)))"
   ]
  },
  {
   "cell_type": "markdown",
   "metadata": {},
   "source": [
    "### List comprehension\n",
    "\n",
    "The following `for` loop syntax is called a **\"comprehension\"**. It's useful for cleaning up some complicated expressions. "
   ]
  },
  {
   "cell_type": "code",
   "execution_count": null,
   "metadata": {},
   "outputs": [],
   "source": [
    "A = [1,2,3]\n",
    "\n",
    "B = [a**2 for a in A]\n",
    "\n",
    "print(A)\n",
    "print(B)"
   ]
  },
  {
   "cell_type": "markdown",
   "metadata": {},
   "source": [
    "Now we just need to build up the list of functions needed to get us to our goal. "
   ]
  },
  {
   "cell_type": "markdown",
   "metadata": {},
   "source": [
    "To do this one step at a time, we need a function that adds complexity "
   ]
  },
  {
   "cell_type": "code",
   "execution_count": null,
   "metadata": {},
   "outputs": [],
   "source": [
    "def add_level(op_list,function_list):\n",
    "    # Make a new list where each element in function_list is appended to op_list\n",
    "    return [x+[y] for y in function_list for x in op_list]"
   ]
  },
  {
   "cell_type": "markdown",
   "metadata": {},
   "source": [
    "How does `add_level` function work?"
   ]
  },
  {
   "cell_type": "code",
   "execution_count": null,
   "metadata": {},
   "outputs": [],
   "source": [
    "add_level([[increment]],[increment,square])"
   ]
  },
  {
   "cell_type": "markdown",
   "metadata": {},
   "source": [
    "What?"
   ]
  },
  {
   "cell_type": "markdown",
   "metadata": {},
   "source": [
    "`add_level` works with any lists"
   ]
  },
  {
   "cell_type": "code",
   "execution_count": null,
   "metadata": {},
   "outputs": [],
   "source": [
    "add_level([['a','b'],['c','d']],['1','2'])"
   ]
  },
  {
   "cell_type": "markdown",
   "metadata": {},
   "source": [
    "And more levels on top of that..."
   ]
  },
  {
   "cell_type": "code",
   "execution_count": null,
   "metadata": {},
   "outputs": [],
   "source": [
    "add_level(add_level([['a','b'],['c','d']],['1','2']),['3','4'])"
   ]
  },
  {
   "cell_type": "code",
   "execution_count": null,
   "metadata": {},
   "outputs": [],
   "source": [
    "L0 = [ [ increment ] ]\n",
    "L1 = [ [ increment, increment ], \n",
    "       [ increment, square    ] ]\n",
    "\n",
    "add_level(L0,[increment,square]) == L1"
   ]
  },
  {
   "cell_type": "code",
   "execution_count": null,
   "metadata": {},
   "outputs": [],
   "source": [
    "L2 = [ [ increment, increment, increment ], \n",
    "       [ increment, square,    increment ],\n",
    "       [ increment, increment, square    ],\n",
    "       [ increment, square,    square    ] ]\n",
    "\n",
    "add_level(L1,[increment,square]) == L2"
   ]
  },
  {
   "cell_type": "markdown",
   "metadata": {},
   "source": [
    "You should be able to see the pattern."
   ]
  },
  {
   "cell_type": "markdown",
   "metadata": {},
   "source": [
    "Now we just need to combine the two modules `apply` and `add_level`."
   ]
  },
  {
   "cell_type": "code",
   "execution_count": null,
   "metadata": {},
   "outputs": [],
   "source": [
    "def find_sequence(initial,goal):\n",
    "    \"\"\"Reports back the shortest sequence of increment and square that gives goal starting initial\n",
    "    \n",
    "    \n",
    "    Parameters\n",
    "    ----------\n",
    "    initial: int\n",
    "    goal:    int\n",
    "    \n",
    "    \"\"\"\n",
    "    \n",
    "    # a list with one element, which is the empty list.\n",
    "    op_list = [[]]\n",
    "    \n",
    "    # Loop over all the integers between your start and your goal.\n",
    "    for i in range(1,goal-initial+1):\n",
    "        \n",
    "        # op_list --> [ op_list + increment, op_list + square ]\n",
    "        op_list = add_level(op_list,[increment,square])\n",
    "        \n",
    "        # loop over the list of function lists in op_list\n",
    "        for seq in op_list:\n",
    "            \n",
    "            # apply each function list to the starting value \n",
    "            # and see if you get to the goal.\n",
    "            # If so stop\n",
    "            if apply(seq,initial) == goal:\n",
    "                return seq"
   ]
  },
  {
   "cell_type": "code",
   "execution_count": null,
   "metadata": {},
   "outputs": [],
   "source": [
    "answer = find_sequence(1,100)"
   ]
  },
  {
   "cell_type": "code",
   "execution_count": null,
   "metadata": {},
   "outputs": [],
   "source": [
    "print(answer)\n",
    "answer == [ increment, increment, square, increment, square ]"
   ]
  },
  {
   "cell_type": "code",
   "execution_count": null,
   "metadata": {},
   "outputs": [],
   "source": [
    "apply(answer,1)"
   ]
  },
  {
   "cell_type": "code",
   "execution_count": null,
   "metadata": {},
   "outputs": [],
   "source": [
    "apply(answer,4)"
   ]
  },
  {
   "cell_type": "markdown",
   "metadata": {},
   "source": [
    "You can always make **\"helper functions\"** to clean things up"
   ]
  },
  {
   "cell_type": "code",
   "execution_count": null,
   "metadata": {},
   "outputs": [],
   "source": [
    "def translate(answer):\n",
    "    \"\"\"Tells you what function are in your list in a more readable format\n",
    "    \n",
    "    Parameters\n",
    "    ----------\n",
    "    answer: list of functions that are either increment or square\n",
    "    \n",
    "    \"\"\"\n",
    "    \n",
    "    # An empty string\n",
    "    L = ''\n",
    "    \n",
    "    # loop over function in answer\n",
    "    for f in answer:\n",
    "        if f == increment: \n",
    "            L = L + ' increment'\n",
    "        if f == square:\n",
    "            L = L + ' square'\n",
    "    \n",
    "    print(L)"
   ]
  },
  {
   "cell_type": "code",
   "execution_count": null,
   "metadata": {},
   "outputs": [],
   "source": [
    "translate(answer)"
   ]
  },
  {
   "cell_type": "markdown",
   "metadata": {},
   "source": [
    "But it only works for `increment` and `square`."
   ]
  },
  {
   "cell_type": "code",
   "execution_count": null,
   "metadata": {},
   "outputs": [],
   "source": [
    "translate(answer + [apply])"
   ]
  },
  {
   "cell_type": "markdown",
   "metadata": {},
   "source": [
    "There is an even better way to do it:"
   ]
  },
  {
   "cell_type": "code",
   "execution_count": null,
   "metadata": {},
   "outputs": [],
   "source": [
    "def translate(answer):\n",
    "    \"\"\"Tells you what function are in your list in a more readable format\n",
    "    \n",
    "    Parameters\n",
    "    ----------\n",
    "    answer: list of *any* functions\n",
    "    \n",
    "    \"\"\"\n",
    "    \n",
    "    # An empty string\n",
    "    L = ''\n",
    "    \n",
    "    # loop over function in answer\n",
    "    for f in answer:\n",
    "        L = L + ' ' + f.__name__ # Every function has an attribute called \"__name__\".\n",
    "       \n",
    "    print(L)"
   ]
  },
  {
   "cell_type": "code",
   "execution_count": null,
   "metadata": {},
   "outputs": [],
   "source": [
    "translate(answer + [apply, translate])"
   ]
  },
  {
   "cell_type": "markdown",
   "metadata": {},
   "source": [
    "The better way uses **object oriented** techniques that we'll discuss more soon."
   ]
  },
  {
   "cell_type": "markdown",
   "metadata": {},
   "source": [
    "## 1. How to exponentiate? "
   ]
  },
  {
   "cell_type": "markdown",
   "metadata": {},
   "source": [
    "Python already has built-in exponentiation; i.e., `b**n` = $b^{n}$"
   ]
  },
  {
   "cell_type": "code",
   "execution_count": null,
   "metadata": {},
   "outputs": [],
   "source": [
    "3**4 == 3*3*3*3"
   ]
  },
  {
   "cell_type": "markdown",
   "metadata": {},
   "source": [
    "We are only using this particular operation because it has nice mathematical properties that we can leverage in code."
   ]
  },
  {
   "cell_type": "markdown",
   "metadata": {},
   "source": [
    "Let's start with the most straightforward (**procedural**) way of doing it:\n",
    "\n",
    "This relies on the simple definition that \n",
    "\n",
    "$$\n",
    "\\large a^{n} \\ = \\ a \\times \\ldots \\times a \\quad \\quad (n \\text{ times}) \n",
    "$$\n",
    "\n",
    "And *by definition*\n",
    "\n",
    "$$\n",
    "\\large a^{0} \\ = \\ 1.\n",
    "$$"
   ]
  },
  {
   "cell_type": "code",
   "execution_count": null,
   "metadata": {},
   "outputs": [],
   "source": [
    "def simple_exp(a,n):\n",
    "    if n == 0:\n",
    "        return 1\n",
    "    else:\n",
    "        p = 1\n",
    "        for i in range(n):\n",
    "            p *= a # this is the same as saying p = p*a\n",
    "        return p"
   ]
  },
  {
   "cell_type": "markdown",
   "metadata": {},
   "source": [
    "**BTW**, this function does *exaclty* the same thing as the following. Think if you can see why?"
   ]
  },
  {
   "cell_type": "code",
   "execution_count": null,
   "metadata": {},
   "outputs": [],
   "source": [
    "def simple_exp(a,n):\n",
    "    if n == 0: return 1\n",
    "\n",
    "    p = 1\n",
    "    for i in range(n): p *= a \n",
    "        \n",
    "    return p"
   ]
  },
  {
   "cell_type": "markdown",
   "metadata": {},
   "source": [
    "## In-place operations \n",
    "\n",
    "`p *= a` means something special in Python. It is shorthand for `p = p * a`. It is very nice shorthand ( along with `+=`, `-=`, and `/=` )."
   ]
  },
  {
   "cell_type": "code",
   "execution_count": null,
   "metadata": {},
   "outputs": [],
   "source": [
    "p = 2\n",
    "print(p)\n",
    "p = p * 3\n",
    "print(p)"
   ]
  },
  {
   "cell_type": "code",
   "execution_count": null,
   "metadata": {},
   "outputs": [],
   "source": [
    "p = 2\n",
    "print(p)\n",
    "p *= 3\n",
    "print(p)"
   ]
  },
  {
   "cell_type": "markdown",
   "metadata": {},
   "source": [
    "### The = sign in computers vs in math\n",
    "\n",
    "This also illustrates a very important concept in programming. The equals sign doesn't the same thing as in mathematics. \n",
    "\n",
    "In mathematics, A = B means A and B are the same thing. They are *equal* 24 hours a day, 7 days a week. Always equal. \n",
    "\n",
    "In programming, A = B means take the value of B and make A have that same value. It is more something like\n",
    "\n",
    "$$\\large A \\ \\leftarrow B$$\n",
    "\n",
    "And this is exactly how some books on programming write it when describing the structure of algorithms. \n",
    "\n",
    "**Back to our regularly scheduled program...**\n"
   ]
  },
  {
   "cell_type": "markdown",
   "metadata": {},
   "source": [
    "`simple_exp` might be good enough. Because it works:"
   ]
  },
  {
   "cell_type": "code",
   "execution_count": null,
   "metadata": {},
   "outputs": [],
   "source": [
    "print(simple_exp(3,30)) \n",
    "simple_exp(3,30) == 3**30"
   ]
  },
  {
   "cell_type": "markdown",
   "metadata": {},
   "source": [
    "But there are other (**functional**) ways:\n",
    "\n",
    "This method now uses the mathematical fact that \n",
    "\n",
    "$$\n",
    "\\large a^{n} \\ = \\ a \\times \\left( a^{n-1} \\right).\n",
    "$$"
   ]
  },
  {
   "cell_type": "code",
   "execution_count": null,
   "metadata": {},
   "outputs": [],
   "source": [
    "def recursive_exp(a,n):\n",
    "    if n == 0:\n",
    "        return 1\n",
    "    else:\n",
    "        return a*recursive_exp(a,n-1)"
   ]
  },
  {
   "cell_type": "markdown",
   "metadata": {},
   "source": [
    "This also works:"
   ]
  },
  {
   "cell_type": "code",
   "execution_count": null,
   "metadata": {},
   "outputs": [],
   "source": [
    "recursive_exp(3,30) == simple_exp(3,30)"
   ]
  },
  {
   "cell_type": "markdown",
   "metadata": {},
   "source": [
    "What is the function doing?"
   ]
  },
  {
   "cell_type": "markdown",
   "metadata": {},
   "source": [
    "    call recursive_exp(3,8)\n",
    "        call recursive_exp(3,7)\n",
    "            call recursive_exp(3,6)\n",
    "                call recursive_exp(3,5)\n",
    "                    call recursive_exp(3,4)\n",
    "                        call recursive_exp(3,3)\n",
    "                            call recursive_exp(3,2)\n",
    "                                call recursive_exp(3,1)\n",
    "                                    call recursive_exp(3,0)\n",
    "                                        return 1\n",
    "                                    return 3\n",
    "                                return 9\n",
    "                            return 27\n",
    "                        retrun 81\n",
    "                    return 243\n",
    "                return 243\n",
    "            return 729\n",
    "        return 2187\n",
    "    return 6561"
   ]
  },
  {
   "cell_type": "code",
   "execution_count": null,
   "metadata": {},
   "outputs": [],
   "source": [
    "print(3**8)\n",
    "print(recursive_exp(3,8))"
   ]
  },
  {
   "cell_type": "markdown",
   "metadata": {},
   "source": [
    "## Use math if you can.\n",
    "\n",
    "A really nice feature of recursive programming is that it a lot of mathematical structures are built the same way.\n",
    "\n",
    "$$\\large Fish + Fish + Fish + Fish + Fish + Fish = 6\\, Fish.$$\n",
    "\n",
    "versus\n",
    "\n",
    "$$\\large 5 Fish + Fish = 6\\, Fish$$\n",
    "\n",
    "versus\n",
    "\n",
    "$$ \\large 2 \\times (3\\, Fish) = 6\\, Fish $$\n",
    "\n",
    "How does this apply here?\n",
    "\n",
    "<h1><center>We want to make code *express* math!</center></h1>"
   ]
  },
  {
   "cell_type": "markdown",
   "metadata": {},
   "source": [
    "### Module operator = remainder operator\n",
    "\n",
    "First consider Python the module operator %"
   ]
  },
  {
   "cell_type": "code",
   "execution_count": null,
   "metadata": {},
   "outputs": [],
   "source": [
    "for i in range(10):\n",
    "    print((i,i%2,i%3,i%4,i%5))"
   ]
  },
  {
   "cell_type": "markdown",
   "metadata": {},
   "source": [
    "### floor-divide\n",
    "\n",
    "n%a is the **remainder** for n/a\n",
    "\n",
    "The module operator goes hand-in-hand with the **floor-divide** operator //"
   ]
  },
  {
   "cell_type": "code",
   "execution_count": null,
   "metadata": {},
   "outputs": [],
   "source": [
    "for i in range(10):\n",
    "    print((i,i//2,i//3,i//4,i//5))"
   ]
  },
  {
   "cell_type": "markdown",
   "metadata": {},
   "source": [
    "n//a just divides n by a and throws aways the non-integer part.\n",
    "\n",
    "For any positive integers (n,a),\n",
    "\n",
    "    a*(n//a) + n % a  = n\n",
    "\n",
    "These opeartors are very useful in many situations."
   ]
  },
  {
   "cell_type": "code",
   "execution_count": null,
   "metadata": {},
   "outputs": [],
   "source": [
    "for i in range(10):\n",
    "    print((i==2*(i//2)+i%2,i==3*(i//3)+i%3,i==4*(i//4)+i%4,i==5*(i//5)+i%5))"
   ]
  },
  {
   "cell_type": "markdown",
   "metadata": {},
   "source": [
    "Now we can check to see if a number is divisible by 2. And use a mathematical property of exponentiation.\n",
    "\n",
    "$$ \n",
    "\\large\n",
    "a^{\\,n} = (\\, a \\times a\\,)^{\\,n\\,/\\,2} , \\quad \\mathrm{if} \\quad n = \\mathrm{even}.\n",
    "$$\n",
    "\n",
    "Or\n",
    "\n",
    "$$ \n",
    "\\large\n",
    "a^{\\,n} =   \\left( a^{\\,n\\,/\\,2} \\right)  \\times \\left( a^{\\,n\\,/\\,2} \\right) , \\quad \\mathrm{if} \\quad n = \\mathrm{even}.\n",
    "$$"
   ]
  },
  {
   "cell_type": "code",
   "execution_count": null,
   "metadata": {},
   "outputs": [],
   "source": [
    "def fast_exp(a,n):\n",
    "    if n == 0:\n",
    "        return 1\n",
    "    elif n%2==1:\n",
    "        return a*fast_exp(a,n-1)\n",
    "    else:\n",
    "        b = fast_exp(a,n//2)\n",
    "        return b*b"
   ]
  },
  {
   "cell_type": "markdown",
   "metadata": {},
   "source": [
    "It still works:"
   ]
  },
  {
   "cell_type": "code",
   "execution_count": null,
   "metadata": {},
   "outputs": [],
   "source": [
    "print(fast_exp(3,30)==recursive_exp(3,30))\n",
    "print(fast_exp(3,30)==simple_exp(3,30))"
   ]
  },
  {
   "cell_type": "markdown",
   "metadata": {},
   "source": [
    "        call fast_exp(3,30)\n",
    "            call fast_exp(3,15)\n",
    "                call fast_exp(3,14)\n",
    "                    call fast_exp(3,7)\n",
    "                        call fast_exp(3,6)\n",
    "                            call fast_exp(3,3)\n",
    "                                call fast_exp(3,2)\n",
    "                                    call fast_exp(3,1)\n",
    "                                        call fast_exp(3,0)\n",
    "                                        return 1\n",
    "                                    return 3\n",
    "                                return 9\n",
    "                            return 27\n",
    "                        retrun 729\n",
    "                    return 2187\n",
    "                return 4782969  \n",
    "            return 14348907\n",
    "        return 205891132094649"
   ]
  },
  {
   "cell_type": "markdown",
   "metadata": {},
   "source": [
    "This is the same number of recursive call if we had called `recursive_exp(3,8)` and about 30% the number than \n",
    "if we had called `recursive_exp(3,30)`\n",
    "\n",
    "For large `n`, `fast_exp(a,n)` requires about $log(n)$ the number of calls as `recursive_exp(a,n)`. This can be a huge savings in general.  \n",
    "\n",
    "## Divide and Conquer\n",
    "\n",
    "This is a very simple example of what's known as a ***Divide and Conquer*** algorithm. They show up in a lot of places. Recursive functional programming makes it simple it implement.\n",
    "\n",
    "This is the idea that a program is *expressive*."
   ]
  },
  {
   "cell_type": "markdown",
   "metadata": {},
   "source": [
    "## Expressiveness.\n",
    "\n",
    "One of the best reasons Python is a good language is that it is ***expressive***. That means that it is easy to *express*, or ***encode*** complicated ideas relatively  easily. In `recursive_exp` we used the mathematical structure of the thing we were trying to calculate to save us works. We could express this easily in the form of a recursive function call.\n",
    "\n",
    "Sometimes that expressiveness is almost spooky..."
   ]
  },
  {
   "cell_type": "markdown",
   "metadata": {},
   "source": [
    "## 2: Tower of Hanoi"
   ]
  },
  {
   "cell_type": "markdown",
   "metadata": {},
   "source": [
    "You can learn a lot about this game, and it's rules on wikipedia:\n",
    "\n",
    "<https://en.wikipedia.org/wiki/Tower_of_Hanoi>\n",
    "\n",
    "<img src=\"https://upload.wikimedia.org/wikipedia/commons/0/07/Tower_of_Hanoi.jpeg\" width=\"400\" height=\"300\" />"
   ]
  },
  {
   "cell_type": "markdown",
   "metadata": {},
   "source": [
    "The point of this problem is that we don't know how to solve it. But we can solve it is we can get one step away from a problem one unit smaller. That is what this recursive function does.\n",
    "\n",
    "\n",
    "The following program works: "
   ]
  },
  {
   "cell_type": "code",
   "execution_count": null,
   "metadata": {},
   "outputs": [],
   "source": [
    "def Hanoi(n,A,B,C):     \n",
    "    if n==1:\n",
    "        print(A + ' --> ' + B)\n",
    "    else:\n",
    "        Hanoi(n-1,A,C,B)\n",
    "        Hanoi(1,A,B,C)\n",
    "        Hanoi(n-1,C,B,A)"
   ]
  },
  {
   "cell_type": "markdown",
   "metadata": {},
   "source": [
    "I wrote the above just so you can see how simple something can be: *7 lines*. But to provide some more context, here is the same program fully commented, and with some other bells and whistles:"
   ]
  },
  {
   "cell_type": "code",
   "execution_count": null,
   "metadata": {},
   "outputs": [],
   "source": [
    "def Hanoi(n,A,B,C,k=0):     \n",
    "    \"\"\"solves the Tower of Hanoi problem. \n",
    "    \n",
    "    The recursive scheme finds the moves to take \n",
    "    n disks from A to B using C as an auxiliary hold area.\n",
    "    \n",
    "    Parameters\n",
    "    ----------\n",
    "    n: int number of disks\n",
    "    A: string with name of the starting posts.\n",
    "    B: string with name of the finishing post.\n",
    "    C: string with name of the auxiliary post.\n",
    "    k : optional argument giving the previous number of moves.\n",
    "    \"\"\"\n",
    "    \n",
    "    if n==1:\n",
    "        k += 1 # in-place update k = k + 1 \n",
    "        print('%5i : %s --> %s' %(k,A,B))\n",
    "    else:\n",
    "        \n",
    "        # move n-1 disks from A to C, using B as the auxiliary\n",
    "        k = Hanoi(n-1,A,C,B,k=k)\n",
    "        \n",
    "        # move 1 disk from A to B using C as the auxiliary.\n",
    "        k = Hanoi(1,A,B,C,k=k)\n",
    "        \n",
    "        # move n-1 disks from C to B, using A as the auxiliary\n",
    "        k = Hanoi(n-1,C,B,A,k=k)\n",
    "    \n",
    "    return k # new number of moves."
   ]
  },
  {
   "cell_type": "markdown",
   "metadata": {},
   "source": [
    "Most people could probably find the following solutions by hand:"
   ]
  },
  {
   "cell_type": "code",
   "execution_count": null,
   "metadata": {},
   "outputs": [],
   "source": [
    "k = Hanoi(1,'a','b','c')"
   ]
  },
  {
   "cell_type": "code",
   "execution_count": null,
   "metadata": {},
   "outputs": [],
   "source": [
    "k = Hanoi(2,'a','b','c')"
   ]
  },
  {
   "cell_type": "code",
   "execution_count": null,
   "metadata": {},
   "outputs": [],
   "source": [
    "k = Hanoi(3,'a','b','c')"
   ]
  },
  {
   "cell_type": "markdown",
   "metadata": {},
   "source": [
    "Some people might be willing to find these solutions of this by hand."
   ]
  },
  {
   "cell_type": "code",
   "execution_count": null,
   "metadata": {},
   "outputs": [],
   "source": [
    "k = Hanoi(4,'a','b','c')"
   ]
  },
  {
   "cell_type": "code",
   "execution_count": null,
   "metadata": {},
   "outputs": [],
   "source": [
    "k = Hanoi(5,'a','b','c')"
   ]
  },
  {
   "cell_type": "markdown",
   "metadata": {},
   "source": [
    "I doubt many people would want to try this. "
   ]
  },
  {
   "cell_type": "code",
   "execution_count": null,
   "metadata": {},
   "outputs": [],
   "source": [
    "k=Hanoi(10,'a','b','c')"
   ]
  },
  {
   "cell_type": "markdown",
   "metadata": {},
   "source": [
    "Here is an alternative ***procedural method***:"
   ]
  },
  {
   "cell_type": "code",
   "execution_count": null,
   "metadata": {},
   "outputs": [],
   "source": [
    "def post(n,i):\n",
    "    if i==0: return 'a'\n",
    "    if (i+(n%2))%2==1 : return 'b'\n",
    "    return 'c'\n",
    "    \n",
    "def fancy_bitwise_operations(k): return (k & k - 1) % 3, ((k | k - 1) + 1) % 3\n",
    "\n",
    "def Hanoi_moves(n): \n",
    "    for k in range(1,2**n): \n",
    "        i,j = fancy_bitwise_operations(k)\n",
    "        print(\"%5i : %s --> %s\" %(k,post(n, i ),post(n,j)))"
   ]
  },
  {
   "cell_type": "code",
   "execution_count": null,
   "metadata": {},
   "outputs": [],
   "source": [
    "Hanoi_moves(4)"
   ]
  },
  {
   "cell_type": "markdown",
   "metadata": {},
   "source": [
    "They give the same answer."
   ]
  },
  {
   "cell_type": "code",
   "execution_count": null,
   "metadata": {},
   "outputs": [],
   "source": [
    "k = Hanoi(4,'a','b','c')"
   ]
  },
  {
   "cell_type": "markdown",
   "metadata": {},
   "source": [
    "How the Procedural Hanoi program works is not essential. It uses fancy bit-wise operations (i.e., `&` , `|` ). Understanding it relates to the deeper mathematical properties of the Hanoi game. But the point is that *in this instance* we were able to take a ***recursive*** function and turn it into one that computes a given step without know the previous steps.\n",
    "\n",
    "* We can always translate a procedural function into a recursive function. \n",
    "\n",
    "\n",
    "* We cannot always do the reverse. \n",
    "\n",
    "\n",
    "* We cannot know for sure if we can translate a recursive function into a procedural without basically finding it.\n",
    "    \n",
    "Therefore \n",
    "    \n",
    "$$\\large \\text{Recursive} \\quad > \\quad \\text{Procedural}. $$\n",
    "\n",
    "But we don't know how much bigger.\n",
    "    \n",
    "I highly recommend reading the following overview of the subject of incompleteness in mathematics by \n",
    "Gregory Chaitin\n",
    "\n",
    "https://arxiv.org/abs/math/0411091\n",
    "\n",
    "I've also posted this in the Extras section on ed. "
   ]
  },
  {
   "cell_type": "markdown",
   "metadata": {},
   "source": [
    "### Ackermann function\n",
    "\n",
    "This is a crazy function that cannon ***in principle*** be converted to a non-recursive function \n",
    "\n",
    "$$\n",
    "\\large A(m,n) \\ = \\ \\begin{cases} n+1  & \\text{if} \\quad m = 0 \\\\ \n",
    "                                  A(m-1,1) & \\text{if} \\quad m > 0 \\quad \\text{and} \\quad n=0 \\\\ \n",
    "                                  A(m-1,A(m,n-1)) & \\text{if} \\quad m > 0 \\quad \\text{and} \\quad n>0\\end{cases}\n",
    "$$\n",
    "\n",
    "This is a **CRAZY FUNCTION**; $A(4, 2)$ is an integer with 19,729 decimal digits!\n",
    "\n",
    "It turns out that all of the function like the Ackermann function are probably not functions we need in real life. But it's interesting to know how this all works. And sometimes to pretend that a procedural function really is a recursive one."
   ]
  },
  {
   "cell_type": "markdown",
   "metadata": {},
   "source": [
    "### Kolmogorov complexity, algorithmic entropy\n",
    "\n",
    "* Defining the complexity of something as the length of the shortest computer program that generates it.\n",
    "\n",
    "\n",
    "* The basic idea behind all of science is that the Universe has low algorithmic entropy.\n",
    "\n",
    "\n",
    "### Demoscene\n",
    "\n",
    "\"*The demoscene is an international computer art subculture focused on producing demos: self-contained, sometimes extremely small, computer programs that produce audio-visual presentations. The purpose of a demo is to show off programming, visual art, and musical skills. Demos and other demoscene productions are shared at festivals known as demoparties, voted on by those who attend, and released online.*'\n",
    "\n",
    "**For example:**\n",
    "\n",
    "https://www.youtube.com/watch?v=DAyQeX8a-Bw&t=0s&list=PL9HVvEQXdWVb_Nakad9URLWoP6sngpWj1&index=8\n",
    "\n",
    "***Everything in these videos (including the music) has to be generated by less the 4K bytes***\n",
    "\n"
   ]
  },
  {
   "cell_type": "code",
   "execution_count": null,
   "metadata": {},
   "outputs": [],
   "source": []
  }
 ],
 "metadata": {
  "kernelspec": {
   "display_name": "Python (testenv)",
   "language": "python",
   "name": "myenv"
  },
  "language_info": {
   "codemirror_mode": {
    "name": "ipython",
    "version": 3
   },
   "file_extension": ".py",
   "mimetype": "text/x-python",
   "name": "python",
   "nbconvert_exporter": "python",
   "pygments_lexer": "ipython3",
   "version": "3.6.5"
  }
 },
 "nbformat": 4,
 "nbformat_minor": 2
}
