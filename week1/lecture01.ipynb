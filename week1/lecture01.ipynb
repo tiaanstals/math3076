{
 "cells": [
  {
   "cell_type": "markdown",
   "metadata": {},
   "source": [
    "# Lecture 01: Python Basics"
   ]
  },
  {
   "cell_type": "markdown",
   "metadata": {},
   "source": [
    "# MAKE SURE YOU KNOW HOW TO DRIVE THE NOTEBOOK.\n",
    "\n",
    "\n",
    "### *We are going to use Jupyter notebooks for everything in this course.*\n",
    "\n",
    "It's pretty straightforward to learn how to use them. If you ever wonder how I made some kind of text, you can click on the cell to see what it is.\n",
    "\n",
    "\n",
    "Jupyter notebooks have an interesting history. It was recently spelled out in a great article in the Atlantic Magazine. Called:\n",
    "\n",
    "### \"The scientific paper is obsolete\"\n",
    "\n",
    "\n",
    "https://www.theatlantic.com/science/archive/2018/04/the-scientific-paper-is-obsolete/556676/\n",
    "\n",
    "\n",
    "This is an intentionally provocative title. It's probably not 100% right. But it's far from wrong. I highly recommend reading. \n"
   ]
  },
  {
   "cell_type": "markdown",
   "metadata": {},
   "source": [
    "**PUSH** $\\ $ ***\"SHIFT ENTER\"*** $\\ $ **TO EVALUATE A CELL**"
   ]
  },
  {
   "cell_type": "code",
   "execution_count": null,
   "metadata": {},
   "outputs": [],
   "source": [
    "### Markdown basics:\n",
    "\n",
    "The markdown language is very simple to use.  Convert this cell from \"Code\" to \"Markdown\"\n",
    "\n",
    "You can enter in-line equations using dollar signs and LaTex math commands. For example:  $e^{i \\pi } + 1 = 0$\n",
    "\n",
    "You can enter centered equations with double-dollar signs. For example: \n",
    "    \n",
    "$$\\large (x-1) \\sum_{k=1}^{n} x^{-k} \\ = \\ 1 - x^{-n} $$\n",
    "    \n",
    "You may not know it yet, but this formula is very important for decimal and binary representations of numbers.  \n",
    "\n",
    "<br>"
   ]
  },
  {
   "cell_type": "markdown",
   "metadata": {},
   "source": [
    "**NOTICE THE DROPDOWN BOX THAT SAYS \"CODE\", \"MARKDOWN\", ETC? MAKE SURE THIS IS SET TO THE RIGHT OPTION, OR NOTHING WILL WORK VERY WELL.** \n",
    "\n",
    "<br>"
   ]
  },
  {
   "cell_type": "markdown",
   "metadata": {},
   "source": [
    "## State Machines\n",
    "\n",
    "Python interpreter works like a \"State Machine\". It has a current state, gets instructions, moves to the next state, etc.\n",
    "\n",
    "&nbsp;&nbsp;&nbsp;&nbsp;&nbsp;&nbsp; Initialise $\\to$ \n",
    "\n",
    "&nbsp;&nbsp;&nbsp;&nbsp;&nbsp;&nbsp; Prompt user for input $\\to$ \n",
    "\n",
    "&nbsp;&nbsp;&nbsp;&nbsp;&nbsp;&nbsp; Read what user types $\\to$\n",
    "\n",
    "&nbsp;&nbsp;&nbsp;&nbsp;&nbsp;&nbsp; Interpret as expression $\\to$\n",
    "\n",
    "&nbsp;&nbsp;&nbsp;&nbsp;&nbsp;&nbsp; Print results $\\to$\n",
    "\n",
    "&nbsp;&nbsp;&nbsp;&nbsp;&nbsp;&nbsp; Prompt user for input...\n",
    "\n",
    "\n",
    "State Machines are very powerful because \n",
    "\n",
    "$$ \n",
    "\\large  \\text{State Machine} \\  +  \\ \\text{State Machine} \\ = \\ \\text{State Machine}\n",
    "$$\n",
    "\n",
    "Ie, if you feed the output of a State Machine into another State Machine, you get a new State Machine (assuming the second Machine knows what to do with the output of the first).\n",
    "\n",
    "\n",
    "We're going to use and expand this idea a lot. Hopefully you'll start to appreciate how powerful of an idea it is. But first we are going to explore some simple examples to get a feeling for the way Python works. \n",
    "<br>"
   ]
  },
  {
   "cell_type": "markdown",
   "metadata": {},
   "source": [
    "## NOW FOR SOME EXAMPLES: "
   ]
  },
  {
   "cell_type": "markdown",
   "metadata": {},
   "source": [
    "An 'integer'"
   ]
  },
  {
   "cell_type": "code",
   "execution_count": null,
   "metadata": {},
   "outputs": [],
   "source": [
    "2"
   ]
  },
  {
   "cell_type": "markdown",
   "metadata": {},
   "source": [
    "A 'float'"
   ]
  },
  {
   "cell_type": "code",
   "execution_count": null,
   "metadata": {},
   "outputs": [],
   "source": [
    "2.1"
   ]
  },
  {
   "cell_type": "markdown",
   "metadata": {},
   "source": [
    "You'll only see the output from the *last* thing in a cell."
   ]
  },
  {
   "cell_type": "code",
   "execution_count": null,
   "metadata": {},
   "outputs": [],
   "source": [
    "2\n",
    "2.1"
   ]
  },
  {
   "cell_type": "markdown",
   "metadata": {},
   "source": [
    "A semicolon on the last line will suppress the output"
   ]
  },
  {
   "cell_type": "code",
   "execution_count": null,
   "metadata": {},
   "outputs": [],
   "source": [
    "2\n",
    "2.1;"
   ]
  },
  {
   "cell_type": "markdown",
   "metadata": {},
   "source": [
    "But you explicitly ask for more:"
   ]
  },
  {
   "cell_type": "code",
   "execution_count": null,
   "metadata": {},
   "outputs": [],
   "source": [
    "print(2)\n",
    "print(2.1);"
   ]
  },
  {
   "cell_type": "markdown",
   "metadata": {},
   "source": [
    "**Note:** The way you print things is one of the big difference between Python2 and Python3. We will use all Python3 in this course."
   ]
  },
  {
   "cell_type": "markdown",
   "metadata": {},
   "source": [
    "Here are some \"magic words\" to show the float with 15 digits"
   ]
  },
  {
   "cell_type": "code",
   "execution_count": 1,
   "metadata": {},
   "outputs": [
    {
     "name": "stdout",
     "output_type": "stream",
     "text": [
      "2.100000000000000\n"
     ]
    }
   ],
   "source": [
    "print('%.15f' %(2.1))"
   ]
  },
  {
   "cell_type": "markdown",
   "metadata": {},
   "source": [
    "Magic words can show the float with 16 digits. Notice that 2.1 $\\ne$ 21/10"
   ]
  },
  {
   "cell_type": "code",
   "execution_count": 2,
   "metadata": {},
   "outputs": [
    {
     "name": "stdout",
     "output_type": "stream",
     "text": [
      "2.1000000000000001\n"
     ]
    }
   ],
   "source": [
    "print('%.16f' %(2.1))"
   ]
  },
  {
   "cell_type": "markdown",
   "metadata": {},
   "source": [
    "Only numbers that are finitely represented in binary will avoid roundoff errors."
   ]
  },
  {
   "cell_type": "code",
   "execution_count": 4,
   "metadata": {},
   "outputs": [
    {
     "name": "stdout",
     "output_type": "stream",
     "text": [
      "0.00195312500000000000\n"
     ]
    }
   ],
   "source": [
    "print('%.20f' %(1/512))"
   ]
  },
  {
   "cell_type": "markdown",
   "metadata": {},
   "source": [
    "Try to say hello"
   ]
  },
  {
   "cell_type": "code",
   "execution_count": 6,
   "metadata": {},
   "outputs": [
    {
     "ename": "NameError",
     "evalue": "name 'hello' is not defined",
     "output_type": "error",
     "traceback": [
      "\u001b[0;31m---------------------------------------------------------------------------\u001b[0m",
      "\u001b[0;31mNameError\u001b[0m                                 Traceback (most recent call last)",
      "\u001b[0;32m<ipython-input-6-f572d396fae9>\u001b[0m in \u001b[0;36m<module>\u001b[0;34m\u001b[0m\n\u001b[0;32m----> 1\u001b[0;31m \u001b[0mhello\u001b[0m\u001b[0;34m\u001b[0m\u001b[0;34m\u001b[0m\u001b[0m\n\u001b[0m",
      "\u001b[0;31mNameError\u001b[0m: name 'hello' is not defined"
     ]
    }
   ],
   "source": [
    "hello"
   ]
  },
  {
   "cell_type": "markdown",
   "metadata": {},
   "source": [
    "What happened?"
   ]
  },
  {
   "cell_type": "markdown",
   "metadata": {},
   "source": [
    "Say 'hello' using a 'string'"
   ]
  },
  {
   "cell_type": "code",
   "execution_count": 5,
   "metadata": {},
   "outputs": [
    {
     "data": {
      "text/plain": [
       "'hello'"
      ]
     },
     "execution_count": 5,
     "metadata": {},
     "output_type": "execute_result"
    }
   ],
   "source": [
    "'hello'"
   ]
  },
  {
   "cell_type": "markdown",
   "metadata": {},
   "source": [
    "## Compositional systems"
   ]
  },
  {
   "cell_type": "markdown",
   "metadata": {},
   "source": [
    "We can *combine* expressions. This seems very simple at first, but it is the basis for all the complexity we can create with computers.\n",
    "\n",
    "**EXAMPLES:**"
   ]
  },
  {
   "cell_type": "markdown",
   "metadata": {},
   "source": [
    "Combine integers"
   ]
  },
  {
   "cell_type": "code",
   "execution_count": null,
   "metadata": {},
   "outputs": [],
   "source": [
    "1+2"
   ]
  },
  {
   "cell_type": "markdown",
   "metadata": {},
   "source": [
    "Combine strings"
   ]
  },
  {
   "cell_type": "code",
   "execution_count": null,
   "metadata": {},
   "outputs": [],
   "source": [
    "'Hello' + ' ' + 'world!'"
   ]
  },
  {
   "cell_type": "code",
   "execution_count": null,
   "metadata": {},
   "outputs": [],
   "source": [
    "'Hello'  + ' world!'"
   ]
  },
  {
   "cell_type": "markdown",
   "metadata": {},
   "source": [
    "Try to combine a string and an int"
   ]
  },
  {
   "cell_type": "code",
   "execution_count": null,
   "metadata": {},
   "outputs": [],
   "source": [
    "'hello' + 2"
   ]
  },
  {
   "cell_type": "code",
   "execution_count": null,
   "metadata": {},
   "outputs": [],
   "source": [
    "'hello' + '2'"
   ]
  },
  {
   "cell_type": "markdown",
   "metadata": {},
   "source": [
    "What happens if the string also happens to be a mathematical expression?"
   ]
  },
  {
   "cell_type": "code",
   "execution_count": null,
   "metadata": {},
   "outputs": [],
   "source": [
    "'1' + '2'"
   ]
  },
  {
   "cell_type": "code",
   "execution_count": null,
   "metadata": {},
   "outputs": [],
   "source": [
    "'1+2'"
   ]
  },
  {
   "cell_type": "markdown",
   "metadata": {},
   "source": [
    "We can sometime *evaluate* the sting:"
   ]
  },
  {
   "cell_type": "code",
   "execution_count": null,
   "metadata": {},
   "outputs": [],
   "source": [
    "eval('1' + '2')"
   ]
  },
  {
   "cell_type": "code",
   "execution_count": null,
   "metadata": {},
   "outputs": [],
   "source": [
    "eval('1+2') == '3'"
   ]
  },
  {
   "cell_type": "markdown",
   "metadata": {},
   "source": [
    "Combine an int and a float"
   ]
  },
  {
   "cell_type": "code",
   "execution_count": null,
   "metadata": {},
   "outputs": [],
   "source": [
    "3 + 2.1"
   ]
  },
  {
   "cell_type": "markdown",
   "metadata": {},
   "source": [
    "Python will try to combine things in sensible ways if it can. This is *not* the most \"rigorous\" to do it. Some languages would convert the answer to a integer; because of significant figures reasons. But Python does it this way, and it's very handy.\n",
    "\n",
    "\n",
    "What is the number more specifically?"
   ]
  },
  {
   "cell_type": "code",
   "execution_count": null,
   "metadata": {},
   "outputs": [],
   "source": [
    "print('%.16f' % ( 3 +  2.1 ) )"
   ]
  },
  {
   "cell_type": "markdown",
   "metadata": {},
   "source": [
    "It isn't exact because the answer is not exact in the binary representation of  numbers. It is exact in decimal, but computers don't use decimal."
   ]
  },
  {
   "cell_type": "markdown",
   "metadata": {},
   "source": [
    "## Associativity\n",
    "\n",
    "#### Here we have our first connection with deeper mathematics. \n",
    "\n",
    "You only ever get exact answers in **binary**. We'll say exactly what this means later. But this implies something important about numerical computations \n",
    "\n",
    "* **Floating-point addition is not *associative***.\n",
    "\n",
    "That means \n",
    "\n",
    "$$\n",
    "\\large a + (b + c) \\ \\ne \\ (a+b)+c\n",
    "$$\n",
    "\n",
    "You have probably seen algebraic structures that are not ***commutative*** $ab \\ne ba$; like matrices. But it's not as common to find examples that are associative. The *octonions* are the first time you find them in a division algebra. \n",
    "\n",
    "The *cross-product* is the first time that people usually find a non-associative thing\n",
    "\n",
    "$$\n",
    "\\large (x \\times x) \\times y \\ = \\ 0 \\ \\ne \\ x \\times (x \\times y) \\ = \\ - y\n",
    "$$\n",
    "\n",
    "The cross-product is not associative in a big way. \n",
    "\n",
    "Actually, I lied about cross products being the easiest example... ***Subtraction is not associative***\n",
    "\n",
    "$$\n",
    "\\large (3-1) - 4 \\ \\ne \\  3 - (1-4).\n",
    "$$\n",
    "\n",
    "But you're used to that.\n",
    "\n",
    "Computer addition is not ***usually*** a disaster. But it's an important fact to keep in mind. Sometimes there can be disasters; we'll talk about those more later. "
   ]
  },
  {
   "cell_type": "markdown",
   "metadata": {},
   "source": [
    "We'll get into function definitions soon, but for now we can use a function to look a the ***Associator***\n",
    "\n",
    "$$\n",
    "\\large [a,b,c] \\ = \\ (\\, (a+b)+c \\,) - (\\, a+(b+c) \\,)\n",
    "$$\n"
   ]
  },
  {
   "cell_type": "code",
   "execution_count": 8,
   "metadata": {},
   "outputs": [],
   "source": [
    "def associator(a,b,c): print('%.50f...' % ( ((a+b) + c) - (a + (b+c)) ) )"
   ]
  },
  {
   "cell_type": "code",
   "execution_count": 9,
   "metadata": {},
   "outputs": [
    {
     "name": "stdout",
     "output_type": "stream",
     "text": [
      "0.00000000000000088817841970012523233890533447265625...\n"
     ]
    }
   ],
   "source": [
    "a= 1.11\n",
    "b= 2.21\n",
    "c= 3.23\n",
    "associator(a,b,c)"
   ]
  },
  {
   "cell_type": "markdown",
   "metadata": {},
   "source": [
    "There are packages that you can use that will help make this less of an issue. We will discuss the details of floating-point math in the next couple lectures."
   ]
  },
  {
   "cell_type": "markdown",
   "metadata": {},
   "source": [
    "But it's not as about what is going on as you might first think: $1.11 \\to 4.11$"
   ]
  },
  {
   "cell_type": "code",
   "execution_count": 10,
   "metadata": {},
   "outputs": [
    {
     "name": "stdout",
     "output_type": "stream",
     "text": [
      "0.00000000000000000000000000000000000000000000000000...\n"
     ]
    }
   ],
   "source": [
    "a= 4.11\n",
    "b= 2.21\n",
    "c= 3.23\n",
    "associator(a,b,c)"
   ]
  },
  {
   "cell_type": "markdown",
   "metadata": {},
   "source": [
    "### Back to compositional systems\n",
    "\n",
    "Sums and sentences (eg 'Hello world!') are examples of ***compositional systems***"
   ]
  },
  {
   "cell_type": "code",
   "execution_count": 11,
   "metadata": {},
   "outputs": [
    {
     "data": {
      "text/plain": [
       "True"
      ]
     },
     "execution_count": 11,
     "metadata": {},
     "output_type": "execute_result"
    }
   ],
   "source": [
    "113*127 == 14351"
   ]
  },
  {
   "cell_type": "code",
   "execution_count": 12,
   "metadata": {},
   "outputs": [
    {
     "data": {
      "text/plain": [
       "False"
      ]
     },
     "execution_count": 12,
     "metadata": {},
     "output_type": "execute_result"
    }
   ],
   "source": [
    "113*127 != 14351"
   ]
  },
  {
   "cell_type": "markdown",
   "metadata": {},
   "source": [
    "int * int = int"
   ]
  },
  {
   "cell_type": "code",
   "execution_count": 13,
   "metadata": {},
   "outputs": [
    {
     "data": {
      "text/plain": [
       "True"
      ]
     },
     "execution_count": 13,
     "metadata": {},
     "output_type": "execute_result"
    }
   ],
   "source": [
    "(113*127) - 4 == 14347"
   ]
  },
  {
   "cell_type": "markdown",
   "metadata": {},
   "source": [
    "( int * int ) - int = int - int = int\n",
    "\n",
    "If two things combine into some 'simpler thing', that also happens to be the same thing, then you can *replace* the more complicated thing with the simpler thing and trust everything still works."
   ]
  },
  {
   "cell_type": "markdown",
   "metadata": {},
   "source": [
    "The same is true of natural language. \n",
    "\n",
    "**Kanagroos** *live in* **Australia.**\n",
    "\n",
    "**Pythons and kanagroos** *live in* **Australia.**\n",
    "\n",
    "**Pythons and kanagroos** *live and hunt for food in* **Australia.**\n",
    "\n",
    "**Pythons and kanagroos** *live and hunt for food in* **Australia and New Guinea.**\n",
    "\n",
    "**NOUN + NOUN** + *VERB + VERB* + **NOUN + NOUN** = **NOUN** + *VERB* + **NOUN**\n",
    "\n",
    "<br>"
   ]
  },
  {
   "cell_type": "markdown",
   "metadata": {
    "collapsed": true
   },
   "source": [
    "Programming languages give you ways to make your own combinations.  Suppose you find yourself doing something over and over again.  You can give that thing a name and a definition, and then just use the name without worrying about how it's actually being done anymore. \n",
    "\n",
    "**For example**"
   ]
  },
  {
   "cell_type": "code",
   "execution_count": null,
   "metadata": {},
   "outputs": [],
   "source": [
    "1*1"
   ]
  },
  {
   "cell_type": "code",
   "execution_count": null,
   "metadata": {},
   "outputs": [],
   "source": [
    "2*2"
   ]
  },
  {
   "cell_type": "code",
   "execution_count": null,
   "metadata": {},
   "outputs": [],
   "source": [
    "(2+1)*(2+1)"
   ]
  },
  {
   "cell_type": "code",
   "execution_count": null,
   "metadata": {},
   "outputs": [],
   "source": [
    "(11*17+4)*(11*17+4)"
   ]
  },
  {
   "cell_type": "markdown",
   "metadata": {},
   "source": [
    "<h1 align=\"left\">Bertrand Russell:</h1>\n",
    "\n",
    "<img src=\"https://upload.wikimedia.org/wikipedia/commons/5/5f/Bertrand_Russell_1957.jpg\" style=\"float: center\" width=\"250\"  />\n",
    "\n",
    "<br>\n",
    "\n",
    "<h2><left> \"Although this may seem a paradox, all exact science is dominated by the idea of approximation.... <left></h2>\n",
    "<h2><left>    When a man tells you that he knows the exact truth about anything, you are safe in inferring that he is an inexact man.”<left></h2>  \n",
    "\n",
    "\n",
    "\n",
    "<br> \n",
    "\n",
    "## There is a very important exception to this notion...\n",
    "\n"
   ]
  },
  {
   "cell_type": "markdown",
   "metadata": {},
   "source": [
    "If we find ourselves repeating things again and again, it might be better to devise a system. This simple principle forms the basis of all mathematics. Here is my favourite YouTube video about mathematics. In my mind everything else follows from this:  "
   ]
  },
  {
   "cell_type": "code",
   "execution_count": null,
   "metadata": {},
   "outputs": [],
   "source": [
    "from IPython.display import HTML\n",
    "HTML('<iframe width=\"784\" height=\"441\" \\\n",
    "src=\"https://www.youtube.com/embed/\\\n",
    "hgZwSRpfouQ?rel=0&amp;controls=0&amp;showinfo=0\" \\\n",
    "frameborder=\"0\" allowfullscreen></iframe>')"
   ]
  },
  {
   "cell_type": "markdown",
   "metadata": {},
   "source": [
    "Think all you can about this and you'll be surprised how this really is ***everything*** in mathematics. ***Naming things to avoid confusion.***"
   ]
  },
  {
   "cell_type": "markdown",
   "metadata": {},
   "source": [
    "## Function definitions"
   ]
  },
  {
   "cell_type": "code",
   "execution_count": null,
   "metadata": {},
   "outputs": [],
   "source": [
    "def square(n):\n",
    "    s = n*n\n",
    "    return s"
   ]
  },
  {
   "cell_type": "markdown",
   "metadata": {},
   "source": [
    "Notice the Python syntax for a function: \n",
    "\n",
    "    def function_name(arguments) (colon) :\n",
    "\n",
    "    (4 spaces) intermediate computations \n",
    "\n",
    "    (4 spaces) return answer\n",
    "\n",
    "**The white space is essential!**"
   ]
  },
  {
   "cell_type": "markdown",
   "metadata": {},
   "source": [
    "For simple functions you can do things in one line:"
   ]
  },
  {
   "cell_type": "code",
   "execution_count": null,
   "metadata": {},
   "outputs": [],
   "source": [
    "def square(n): return n*n"
   ]
  },
  {
   "cell_type": "code",
   "execution_count": null,
   "metadata": {},
   "outputs": [],
   "source": [
    "square(7.4)"
   ]
  },
  {
   "cell_type": "code",
   "execution_count": null,
   "metadata": {},
   "outputs": [],
   "source": [
    "square(11*17+4) == 36481"
   ]
  },
  {
   "cell_type": "markdown",
   "metadata": {},
   "source": [
    "Now that the Python ***environment*** knows about square, we can use it just as easily as +, -, $*$, etc.\n",
    "\n",
    "Here is what Python thinks `square` looks like:"
   ]
  },
  {
   "cell_type": "code",
   "execution_count": null,
   "metadata": {},
   "outputs": [],
   "source": [
    "square"
   ]
  },
  {
   "cell_type": "markdown",
   "metadata": {},
   "source": [
    "Because Python knows what it is, we can use it in other functions"
   ]
  },
  {
   "cell_type": "code",
   "execution_count": null,
   "metadata": {},
   "outputs": [],
   "source": [
    "def sum_two_squares(n,m):\n",
    "    return square(n) + square(m)"
   ]
  },
  {
   "cell_type": "code",
   "execution_count": null,
   "metadata": {},
   "outputs": [],
   "source": [
    "sum_two_squares(3,4)"
   ]
  },
  {
   "cell_type": "code",
   "execution_count": null,
   "metadata": {},
   "outputs": [],
   "source": [
    "sum_two_squares(3,4) == square(5)"
   ]
  },
  {
   "cell_type": "markdown",
   "metadata": {},
   "source": [
    "What if we define another function into the environment?"
   ]
  },
  {
   "cell_type": "code",
   "execution_count": null,
   "metadata": {},
   "outputs": [],
   "source": [
    "def sum_two_cubes(n,m):\n",
    "    return cube(n) + cube(m)"
   ]
  },
  {
   "cell_type": "markdown",
   "metadata": {},
   "source": [
    "No complaining. But what happens if we try to run it?"
   ]
  },
  {
   "cell_type": "code",
   "execution_count": null,
   "metadata": {},
   "outputs": [],
   "source": [
    "sum_two_cubes(3,4)"
   ]
  },
  {
   "cell_type": "markdown",
   "metadata": {},
   "source": [
    "**READ THE ERROR MESSAGES CAREFULLY!** They tend to be really useful in Python. It tells you the first thing that the interpreter didn't understand. This is usually enough to tell you what to fix. \n",
    "\n",
    "In above example the `cube` function wasn't defined, even though `sum_two_cubes` is defined."
   ]
  },
  {
   "cell_type": "markdown",
   "metadata": {},
   "source": [
    "## Hierarchical programming"
   ]
  },
  {
   "cell_type": "markdown",
   "metadata": {},
   "source": [
    "The above is an example of building **hierarchical control structures**. For example, combining two or more functions into a new function."
   ]
  },
  {
   "cell_type": "markdown",
   "metadata": {},
   "source": [
    "We can also build **hierarchical data structures**."
   ]
  },
  {
   "cell_type": "markdown",
   "metadata": {},
   "source": [
    "*Lists* are a very important data structure in Python. The list is probably the simplest example that isn't a primitive data type, i.e., float, int, string. \n",
    "\n",
    "**For example**"
   ]
  },
  {
   "cell_type": "markdown",
   "metadata": {},
   "source": [
    "A **list** of integers"
   ]
  },
  {
   "cell_type": "code",
   "execution_count": null,
   "metadata": {},
   "outputs": [],
   "source": [
    "[1,2,3,4]"
   ]
  },
  {
   "cell_type": "markdown",
   "metadata": {},
   "source": [
    "We put square brackets $\\ [ \\ \\   ]\\ $  around *lists*."
   ]
  },
  {
   "cell_type": "markdown",
   "metadata": {},
   "source": [
    "A list can be *heterogeneous*"
   ]
  },
  {
   "cell_type": "code",
   "execution_count": null,
   "metadata": {},
   "outputs": [],
   "source": [
    "[2,'even prime',0.618033988749895,square]"
   ]
  },
  {
   "cell_type": "markdown",
   "metadata": {},
   "source": [
    "List of lists come up all the time"
   ]
  },
  {
   "cell_type": "code",
   "execution_count": null,
   "metadata": {},
   "outputs": [],
   "source": [
    "[[1,2,3],[4,5,6],[7,8,9]]"
   ]
  },
  {
   "cell_type": "markdown",
   "metadata": {},
   "source": [
    "`len()` is a native Python function that tells you the *length* of things like lists. "
   ]
  },
  {
   "cell_type": "code",
   "execution_count": null,
   "metadata": {},
   "outputs": [],
   "source": [
    "print(len([1,2,3]))"
   ]
  },
  {
   "cell_type": "markdown",
   "metadata": {},
   "source": [
    "What about?"
   ]
  },
  {
   "cell_type": "code",
   "execution_count": null,
   "metadata": {},
   "outputs": [],
   "source": [
    "print( len( [[1,2,3], [4,5,6], [7,8,9]] ))"
   ]
  },
  {
   "cell_type": "markdown",
   "metadata": {},
   "source": [
    "We can compose list, but maybe not in the way you might first think."
   ]
  },
  {
   "cell_type": "code",
   "execution_count": null,
   "metadata": {},
   "outputs": [],
   "source": [
    "[1,2,3] + [4,5,6]"
   ]
  },
  {
   "cell_type": "code",
   "execution_count": null,
   "metadata": {},
   "outputs": [],
   "source": [
    "[1,2,3] + [1,2,3]"
   ]
  },
  {
   "cell_type": "markdown",
   "metadata": {},
   "source": [
    "This can be useful in ways you might not first expect. Think of a shopping list."
   ]
  },
  {
   "cell_type": "code",
   "execution_count": null,
   "metadata": {},
   "outputs": [],
   "source": [
    "[1,2,3] + [4,5,6,7,8,9,10,11]"
   ]
  },
  {
   "cell_type": "markdown",
   "metadata": {},
   "source": [
    "With **functions**, we gave names to **control structures**. \n",
    "\n",
    "With **variables**, we can give names to **data structures**.\n",
    "\n",
    "**For example:**"
   ]
  },
  {
   "cell_type": "markdown",
   "metadata": {},
   "source": [
    "An *integer*"
   ]
  },
  {
   "cell_type": "code",
   "execution_count": null,
   "metadata": {},
   "outputs": [],
   "source": [
    "n = 1"
   ]
  },
  {
   "cell_type": "markdown",
   "metadata": {},
   "source": [
    "A *float* "
   ]
  },
  {
   "cell_type": "code",
   "execution_count": null,
   "metadata": {},
   "outputs": [],
   "source": [
    "x = 0.618033988749895 + n "
   ]
  },
  {
   "cell_type": "markdown",
   "metadata": {},
   "source": [
    "A simple function of a variable"
   ]
  },
  {
   "cell_type": "code",
   "execution_count": null,
   "metadata": {},
   "outputs": [],
   "source": [
    "1/x "
   ]
  },
  {
   "cell_type": "markdown",
   "metadata": {},
   "source": [
    "Notice anything special?"
   ]
  },
  {
   "cell_type": "markdown",
   "metadata": {},
   "source": [
    "We can give names to lists"
   ]
  },
  {
   "cell_type": "code",
   "execution_count": null,
   "metadata": {},
   "outputs": [],
   "source": [
    "L = [[1,2,3], [4,5,6], [7,8,9]]"
   ]
  },
  {
   "cell_type": "markdown",
   "metadata": {},
   "source": [
    "Python has was of making lists talk. The brackets after a variable name is called `get_item`. It gets different thing depending on the context. In the case of lists:"
   ]
  },
  {
   "cell_type": "code",
   "execution_count": null,
   "metadata": {},
   "outputs": [],
   "source": [
    "L[1]"
   ]
  },
  {
   "cell_type": "code",
   "execution_count": null,
   "metadata": {},
   "outputs": [],
   "source": [
    "L[2]"
   ]
  },
  {
   "cell_type": "code",
   "execution_count": null,
   "metadata": {},
   "outputs": [],
   "source": [
    "L[3]"
   ]
  },
  {
   "cell_type": "markdown",
   "metadata": {},
   "source": [
    "What happened?"
   ]
  },
  {
   "cell_type": "code",
   "execution_count": null,
   "metadata": {},
   "outputs": [],
   "source": [
    "L[0]"
   ]
  },
  {
   "cell_type": "code",
   "execution_count": null,
   "metadata": {},
   "outputs": [],
   "source": [
    "L[0][0]"
   ]
  },
  {
   "cell_type": "code",
   "execution_count": null,
   "metadata": {},
   "outputs": [],
   "source": [
    "L[0][1]"
   ]
  },
  {
   "cell_type": "code",
   "execution_count": null,
   "metadata": {},
   "outputs": [],
   "source": [
    "L[0][2]"
   ]
  },
  {
   "cell_type": "code",
   "execution_count": null,
   "metadata": {},
   "outputs": [],
   "source": [
    "L[0][-1]"
   ]
  },
  {
   "cell_type": "code",
   "execution_count": null,
   "metadata": {},
   "outputs": [],
   "source": [
    "L[-1]"
   ]
  },
  {
   "cell_type": "code",
   "execution_count": null,
   "metadata": {},
   "outputs": [],
   "source": [
    "L[-2]"
   ]
  },
  {
   "cell_type": "code",
   "execution_count": null,
   "metadata": {},
   "outputs": [],
   "source": [
    "L[-3] == L[0]"
   ]
  },
  {
   "cell_type": "markdown",
   "metadata": {},
   "source": [
    "Positive indices start counting from 0 and go forward. Negative indices start counting from -1 and go backward. Getting the last element in a list (without knowing the length of the list) is very useful."
   ]
  },
  {
   "cell_type": "markdown",
   "metadata": {},
   "source": [
    "It's turtles all the way down..."
   ]
  },
  {
   "cell_type": "code",
   "execution_count": null,
   "metadata": {},
   "outputs": [],
   "source": [
    "Q = ['turtle',['turtle',['turtle',['turtle','turtle']]]]\n",
    "print(Q)\n",
    "print(Q[0])\n",
    "print(Q[1])\n",
    "print(Q[1][0])\n",
    "print(Q[1][1])\n",
    "print(Q[1][1][0])\n",
    "print(Q[1][1][1])\n",
    "print(Q[1][1][1][0])\n",
    "print(Q[1][1][1][1])"
   ]
  },
  {
   "cell_type": "markdown",
   "metadata": {},
   "source": [
    "## Q:  What is the Python interpreter actually doing with all the variables and functions?\n",
    "\n",
    "## A: The binding environment."
   ]
  },
  {
   "cell_type": "markdown",
   "metadata": {},
   "source": [
    "Python is using a giant data structure called a ***binding environment***, aka, just an *environment*. This data structure is very simple, and forms the basis for a huge amount of things that computers do. UNIX operating systems basically work the same way.  "
   ]
  },
  {
   "cell_type": "markdown",
   "metadata": {},
   "source": [
    "Python uses a big table of names and values. The names are *binded* to the value. Hence the name binding environment.\n",
    "\n",
    "**For example:**\n",
    "\n",
    "$$ \n",
    " \\begin{aligned}\n",
    " \\mathrm{n} \\quad & \\to \\quad  1 \\\\\n",
    " \\mathrm{x} \\quad & \\to \\quad  1.618033988749895 \\\\\n",
    " \\mathrm{L} \\quad & \\to \\quad  [\\,[1,2,3],\\ [4,5,6],\\ [7,8,9]\\,] \\\\\n",
    " + \\quad & \\to \\quad  \\mathrm{a\\ function\\ that\\ knows\\ how\\ to\\ make\\ plus}\\\\\n",
    " *  \\quad  & \\to  \\quad \\mathrm{a\\ function\\ that\\ knows\\ how\\ to\\ make\\ times}\\\\\n",
    " \\mathrm{square}  \\quad  & \\to \\quad  \\mathrm{everything\\ inside\\ our\\ function\\ called \\ square}\\\\\n",
    " \\mathrm{sum\\_two\\_squares} \\quad  & \\to \\quad \\mathrm{everything\\ inside\\ our\\ function\\ called \\ sum\\_two\\_squares}\\\\\n",
    " & \\ldots \\\\\n",
    " & \\ldots \\\\\n",
    " & \\ldots \\\\\n",
    " \\mathrm{lots \\ and \\ lots \\ more} \\\\\n",
    " & \\ldots \\\\\n",
    " & \\ldots \\\\\n",
    " \\end{aligned}\n",
    " $$\n",
    "\n",
    "<br>\n",
    "\n",
    "### The interpreter = the bouncer\n",
    "\n",
    "It works a lot like the bouncer and guest list at a party. \n",
    "\n",
    "* The interpreter (bouncer) looks at the environment (guest list). \n",
    "\n",
    "* If it finds a name on the list, it does whatever that name is binded to and prints the result. \n",
    "\n",
    "* If it doesn't find the name on the list, it complains. And that all!\n",
    "\n",
    "<br>\n",
    "\n",
    "<img src=\"https://upload.wikimedia.org/wikipedia/commons/8/83/UnterschiedzwischendirundMIR.jpg\" style=\"float: center\" width=\"400\"  />\n",
    "\n",
    "\n",
    "\n",
    "<br>\n",
    "\n",
    "* The reason it's so powerful is that the right-hand side of a binding can be ***an entirely new environment***. \n",
    "\n",
    "* And that new environment can contain further environments. \n",
    "\n",
    "* And those daughter environment can point back at the original environment. \n",
    "\n",
    "* Hopefully you get the idea.\n",
    "\n",
    "#### For example, \n",
    "\n",
    "$$``\\mathrm{everything\\quad inside\\quad our\\quad function\\quad called \\quad square}\\ ''$$\n",
    "\n",
    "$$ \\mathrm{needs} $$\n",
    "\n",
    "$$\\quad * \\quad  \\mathrm{ ( \\  from \\quad our  \\quad original  \\quad environment \\ ) }$$ \n",
    "\n",
    "Everything works long as the interpreter can get to something it knows at the bottom."
   ]
  },
  {
   "cell_type": "markdown",
   "metadata": {},
   "source": [
    "Well, you might say: \"Well, that seems really simple! Just a list of names and values. I thought computer science was hard, like math. Why don't you do it some fancy way?\"\n",
    "\n",
    "Well, the best minds have thought about this for decades. And the answer to the question is \"*Because the fancy way doesn't exist!*\" This is really all there is.\n",
    "\n",
    "Of course, this is somewhat of a fib. Languages like C/C++ and FORTRAN don't work with this kind of model. They work by putting things in preassigned locations \"*addresses*\". Whenever you ask for something in C you are asking for the thing that is located at a given spot in memory. It's a minor difference, but make programming much more annoying. "
   ]
  },
  {
   "cell_type": "markdown",
   "metadata": {},
   "source": [
    "#### But be careful! \n",
    "\n",
    "Binding B to A\n",
    "\n",
    "And then binding C to B can sometimes bind C to A\n",
    "\n",
    "$$\n",
    "C \\ \\to \\ B \\ \\to A\n",
    "$$\n",
    "\n",
    "The works mostly as you might expect:"
   ]
  },
  {
   "cell_type": "code",
   "execution_count": null,
   "metadata": {},
   "outputs": [],
   "source": [
    "n = 1\n",
    "m = n\n",
    "print(\"n =\",n)\n",
    "print(\"m =\",m)"
   ]
  },
  {
   "cell_type": "markdown",
   "metadata": {},
   "source": [
    "Change m"
   ]
  },
  {
   "cell_type": "code",
   "execution_count": null,
   "metadata": {},
   "outputs": [],
   "source": [
    "m = 7\n",
    "\n",
    "print(\"n =\",n)\n",
    "print(\"m =\",m)"
   ]
  },
  {
   "cell_type": "markdown",
   "metadata": {},
   "source": [
    "This works with constants. What about lists?"
   ]
  },
  {
   "cell_type": "code",
   "execution_count": null,
   "metadata": {},
   "outputs": [],
   "source": [
    "n = [1,2]\n",
    "m = n\n",
    "print(\"n =\",n)\n",
    "print(\"m =\",m)"
   ]
  },
  {
   "cell_type": "markdown",
   "metadata": {},
   "source": [
    "Everything is cool if you change the whole m list."
   ]
  },
  {
   "cell_type": "code",
   "execution_count": null,
   "metadata": {},
   "outputs": [],
   "source": [
    "m = [3,2]\n",
    "print(\"n =\",n)\n",
    "print(\"m =\",m)"
   ]
  },
  {
   "cell_type": "markdown",
   "metadata": {},
   "source": [
    "But not if you change only part of `m`. "
   ]
  },
  {
   "cell_type": "code",
   "execution_count": null,
   "metadata": {},
   "outputs": [],
   "source": [
    "n = [1,2]\n",
    "m = n\n",
    "print(\"n =\",n)\n",
    "print(\"m =\",m)"
   ]
  },
  {
   "cell_type": "code",
   "execution_count": null,
   "metadata": {},
   "outputs": [],
   "source": [
    "m[0] = 3\n",
    "print(\"n =\",n)\n",
    "print(\"m =\",m)"
   ]
  },
  {
   "cell_type": "markdown",
   "metadata": {},
   "source": [
    "It's like *\"Spooky action at a distance*\". The lists were binded to each other, and changing `m` passes along the reference to `n`. It's not something to worry about too much. This example is for two reasons.\n",
    "\n",
    "* Showing how things reference other things shows you how the environment works; and this is powerful\n",
    "\n",
    "* Pass-by-reference mistakes are a large source of bugs. It's better to be aware of things. "
   ]
  },
  {
   "cell_type": "markdown",
   "metadata": {},
   "source": [
    "## Data hiding"
   ]
  },
  {
   "cell_type": "markdown",
   "metadata": {},
   "source": [
    "Environments allow efficient **data hiding**.  Recall that n=1 is something in the current environment. We can still make a function that takes an argument called n, and nothing should go wrong. "
   ]
  },
  {
   "cell_type": "markdown",
   "metadata": {},
   "source": [
    "Remember, n, is a both a variable in the current name space, and an argument in a function. Check and see:"
   ]
  },
  {
   "cell_type": "code",
   "execution_count": null,
   "metadata": {},
   "outputs": [],
   "source": [
    "n"
   ]
  },
  {
   "cell_type": "code",
   "execution_count": null,
   "metadata": {},
   "outputs": [],
   "source": [
    "def f(n): return 2*n"
   ]
  },
  {
   "cell_type": "code",
   "execution_count": null,
   "metadata": {},
   "outputs": [],
   "source": [
    "f(2)"
   ]
  },
  {
   "cell_type": "markdown",
   "metadata": {},
   "source": [
    "Let's add a few more variables to our environment. "
   ]
  },
  {
   "cell_type": "code",
   "execution_count": null,
   "metadata": {},
   "outputs": [],
   "source": [
    "a = 7.2e6\n",
    "b = 1.2e-3\n",
    "c = 3.1 + 0.2*1j\n",
    "print(a)\n",
    "print(b)\n",
    "print(c)"
   ]
  },
  {
   "cell_type": "markdown",
   "metadata": {},
   "source": [
    "We can take the real and imaginary parts of c in the following way"
   ]
  },
  {
   "cell_type": "code",
   "execution_count": null,
   "metadata": {},
   "outputs": [],
   "source": [
    "c.real"
   ]
  },
  {
   "cell_type": "code",
   "execution_count": null,
   "metadata": {},
   "outputs": [],
   "source": [
    "c.imag"
   ]
  },
  {
   "cell_type": "markdown",
   "metadata": {},
   "source": [
    "We'll learn more about the `.something` operation that appears after variable."
   ]
  },
  {
   "cell_type": "markdown",
   "metadata": {},
   "source": [
    "Notice that I slipped in some scientific notation. Ie, \n",
    "\n",
    "$$ \\mathrm{a\\,e\\,n} \\ \\equiv \\ \\mathrm{a}\\times10^{\\mathrm{n}} $$\n",
    "\n",
    "`a` can be an `int` or `float`, `n` must be an `int`.\n",
    "\n",
    "I also slipped in some complex numbers.  The symbol \n",
    "\n",
    "$$ 1\\mathrm{j} \\ \\equiv \\ \\sqrt{-1} $$\n",
    "\n",
    "is Python's way of saying $i$.\n",
    "\n",
    "We can add and multiply all these different numbers with each other. Python will cast the result to the most conservative thing it can.\n",
    "\n",
    "    int + int = int * int = int\n",
    "\n",
    "    float + float = float * float = float\n",
    "\n",
    "    complex + complex = complex * complex = complex\n",
    "\n",
    "    int + float = int * float = float \n",
    "\n",
    "    int + complex = int * complex = complex \n",
    "\n",
    "    float + complex = float * complex = complex \n",
    "\n",
    "You can think of this as a kind of \"right of way\" for data types.\n",
    "\n",
    "**For example:**"
   ]
  },
  {
   "cell_type": "code",
   "execution_count": null,
   "metadata": {},
   "outputs": [],
   "source": [
    "print(1 + b)\n",
    "print(a + b)\n",
    "print(1 + c)\n",
    "print(-3 + b)\n",
    "print(c*c)"
   ]
  },
  {
   "cell_type": "markdown",
   "metadata": {},
   "source": [
    "Even though n, a, b, and c are all in our current environment (aka *name space*), we can make a function that uses some of these values but not others.\n",
    "\n",
    "**For example:**"
   ]
  },
  {
   "cell_type": "markdown",
   "metadata": {},
   "source": [
    "Here is a function that doesn't conflict with n, a, b, or c. "
   ]
  },
  {
   "cell_type": "code",
   "execution_count": null,
   "metadata": {},
   "outputs": [],
   "source": [
    "def poly(n):\n",
    "    \"\"\"You can put a 'doc string' in a function in this way. \n",
    "    You can put info about the function and what it does. \n",
    "    In this case it computes a cubic polynomial; with the following... \n",
    "    \n",
    "    Parameters\n",
    "    ----------\n",
    "    n : int, float, or complex \"\"\"\n",
    "    \n",
    "    a, b, c = 6, 2, 3 \n",
    "    \n",
    "    # You can put comments in a function with the #hastag\n",
    "    # In this function you might notice I definied three parameters, a, b, c.\n",
    "    # You can put them all on one line in the way I did it.\n",
    "    # Or you could put them all on multiple lines. \n",
    "    \n",
    "    # Defining a, b, c in this function won't hurt the other a, b, c, \n",
    "    # becuase this is a different enviroment. \n",
    "    \n",
    "    #The following code will redefine the internal parameters. But only internally.\n",
    "    \n",
    "    print(\"Original values: (a,b,c) = (%f, %f, %f)\"  %(a,b,c))\n",
    "    \n",
    "    a = 1/a\n",
    "    b = 1/b\n",
    "    c = 1/c\n",
    "    \n",
    "    print(\" Working values: (a,b,c) = (%f, %f, %f)\"  %(a,b,c))\n",
    "    \n",
    "    # While, it's wastefull in this case. It let's you see different ways of doing the same thing. \n",
    "    # We normally would have defined things simply as\n",
    "    # a, b, c = 1/6, 1/2, 1/3.\n",
    "    \n",
    "    return a*n + b*square(n) + c*n*square(n)"
   ]
  },
  {
   "cell_type": "markdown",
   "metadata": {},
   "source": [
    "You can't 'see' the internal comments of a function. But you can read the doc string in the following way"
   ]
  },
  {
   "cell_type": "code",
   "execution_count": null,
   "metadata": {},
   "outputs": [],
   "source": [
    "?poly"
   ]
  },
  {
   "cell_type": "markdown",
   "metadata": {},
   "source": [
    "Native Python functions also have docstrings"
   ]
  },
  {
   "cell_type": "code",
   "execution_count": null,
   "metadata": {},
   "outputs": [],
   "source": [
    "?len"
   ]
  },
  {
   "cell_type": "markdown",
   "metadata": {},
   "source": [
    "The function should work. It's a terrible design, but it at least works as it should"
   ]
  },
  {
   "cell_type": "code",
   "execution_count": null,
   "metadata": {},
   "outputs": [],
   "source": [
    "poly(9)"
   ]
  },
  {
   "cell_type": "code",
   "execution_count": null,
   "metadata": {},
   "outputs": [],
   "source": [
    "print(\"Your vaules: (a,b,c) = (%f, %f)\"  %(a,b,))"
   ]
  },
  {
   "cell_type": "code",
   "execution_count": null,
   "metadata": {},
   "outputs": [],
   "source": [
    "poly(9) == 9/6 + 9*9/2 + 9*9*9/3 == 285."
   ]
  },
  {
   "cell_type": "markdown",
   "metadata": {},
   "source": [
    "The function `poly` doesn't know about our environments `n, a, b, c`. Every environment will use the first names it finds for something."
   ]
  },
  {
   "cell_type": "markdown",
   "metadata": {},
   "source": [
    "Here is a function that knows more about our variables."
   ]
  },
  {
   "cell_type": "code",
   "execution_count": null,
   "metadata": {},
   "outputs": [],
   "source": [
    "print(a)"
   ]
  },
  {
   "cell_type": "code",
   "execution_count": null,
   "metadata": {},
   "outputs": [],
   "source": [
    "def multi_environment_poly(n):\n",
    "    # These are locally defined variables. \n",
    "    # The function will need to know 'a' from somewhere else.\n",
    "    b, c = 1/2, 1/3\n",
    "    return a*n + b*square(n) + c*n*square(n)"
   ]
  },
  {
   "cell_type": "code",
   "execution_count": null,
   "metadata": {},
   "outputs": [],
   "source": [
    "multi_environment_poly(9)"
   ]
  },
  {
   "cell_type": "markdown",
   "metadata": {},
   "source": [
    "You can get a sense that it's using `a = 7.2e6` because the output is much larger. "
   ]
  },
  {
   "cell_type": "code",
   "execution_count": null,
   "metadata": {},
   "outputs": [],
   "source": [
    "multi_environment_poly(9) == a*9 + 9*9/2 + 9*9*9/3"
   ]
  },
  {
   "cell_type": "markdown",
   "metadata": {},
   "source": [
    "When the function `multi_environment_poly` didn't find the value `a` in it's own environment, it went looking for it one environment up, and it found our larger value."
   ]
  },
  {
   "cell_type": "markdown",
   "metadata": {
    "collapsed": true
   },
   "source": [
    "It's can be unsafe for function to rely on variables defined in this way. It would be much better in most cases to *pass* the 'a' variable to the function."
   ]
  },
  {
   "cell_type": "code",
   "execution_count": null,
   "metadata": {},
   "outputs": [],
   "source": [
    "def pass_me_an_a_poly(a,n):\n",
    "    # These are locally defined variables. \n",
    "    # The function will get 'a' when you call it.\n",
    "    b, c = 1/2, 1/3\n",
    "    return a*n + b*square(n) + c*n*square(n)"
   ]
  },
  {
   "cell_type": "markdown",
   "metadata": {},
   "source": [
    "Because `a` is in the enviroment it will use the current value anytime it shows up"
   ]
  },
  {
   "cell_type": "code",
   "execution_count": null,
   "metadata": {},
   "outputs": [],
   "source": [
    "pass_me_an_a_poly(a,9)"
   ]
  },
  {
   "cell_type": "markdown",
   "metadata": {},
   "source": [
    "But now we can use a different values if we need:"
   ]
  },
  {
   "cell_type": "code",
   "execution_count": null,
   "metadata": {},
   "outputs": [],
   "source": [
    "pass_me_an_a_poly(10,9) == 10*9 + 9*9/2 + 9*9*9/3"
   ]
  },
  {
   "cell_type": "markdown",
   "metadata": {},
   "source": [
    "## It's all in the name\n",
    "\n",
    "In the 15th century, they didn't really have surnames the way we do today. Leonardo da Vinci didn't think about his last name as \"da Vinci\". And to what ever degree he did think of this as his name, no one ever called him just 'da Vinci', the way people sometimes do today. \n",
    "\n",
    "Vinci was where he was from. It was his *environment*. His name was Leonardo and that was that. But if anyone became confused, he could include where he was from to make it clear. \n",
    "\n",
    "There is also another (older) famous Leonardo: Leonardo de Pisa. We know him as Fibonacci. But this was a name made up in the 19th century. I mention this because we are going to talk a lot about Fibonacci numbers and sequences a little later in the course.\n",
    "\n",
    "Like people, there are only so many good names to go around. It's better to keep reuse names and keep track of everything by their environment. Of course, families are just different kinds of environments. Just not ones that are tied 100% to a geographic location.\n",
    "\n",
    "<br>\n",
    "\n",
    "## You can figure out who-is-who\n",
    "\n",
    "<br>\n",
    "\n",
    "<img src=\"https://upload.wikimedia.org/wikipedia/commons/f/f7/Francesco_Melzi_-_Portrait_of_Leonardo_-_WGA14795.jpg\" style=\"float: left\" width=\"250\"  />\n",
    "\n",
    "<img src=\"https://upload.wikimedia.org/wikipedia/commons/8/8e/Leonardo_da_Pisa.jpg\" style=\"float: left\" width=\"230\"  />\n",
    "\n",
    "<img src=\"http://nick.mtvnimages.com/nick-assets/shows/images/ninja-turtles/panels/characters/character-leonardo.png\" style=\"float: right\" width=\"230\"  />\n",
    "\n",
    "<img src=\"https://upload.wikimedia.org/wikipedia/commons/3/3f/Leonardo_DiCaprio_visited_Goddard_Saturday_to_discuss_Earth_science_with_Piers_Sellers_%2826105091624%29_cropped.jpg\" style=\"float: right\" width=\"230\"  />\n",
    "\n"
   ]
  },
  {
   "cell_type": "code",
   "execution_count": null,
   "metadata": {},
   "outputs": [],
   "source": []
  },
  {
   "cell_type": "code",
   "execution_count": null,
   "metadata": {},
   "outputs": [],
   "source": []
  }
 ],
 "metadata": {
  "kernelspec": {
   "display_name": "Python (testenv)",
   "language": "python",
   "name": "myenv"
  },
  "language_info": {
   "codemirror_mode": {
    "name": "ipython",
    "version": 3
   },
   "file_extension": ".py",
   "mimetype": "text/x-python",
   "name": "python",
   "nbconvert_exporter": "python",
   "pygments_lexer": "ipython3",
   "version": "3.6.5"
  }
 },
 "nbformat": 4,
 "nbformat_minor": 2
}
