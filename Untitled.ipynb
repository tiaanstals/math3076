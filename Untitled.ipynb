{
 "cells": [
  {
   "cell_type": "code",
   "execution_count": 116,
   "metadata": {},
   "outputs": [],
   "source": [
    "def isqrt(n):\n",
    "    \n",
    "    # first guess\n",
    "    x_k = (n >> n.bit_length() // 2) + 1\n",
    "    x_k_plus1 = (x_k + n // x_k) // 2  \n",
    "    while x_k_plus1 - x_k > 1:  \n",
    "        x_k = x_k_plus1  \n",
    "        x_k_plus1 = (x_k + n // x_k) // 2  \n",
    "\n",
    "    return x_k_plus1  "
   ]
  },
  {
   "cell_type": "code",
   "execution_count": null,
   "metadata": {},
   "outputs": [],
   "source": []
  },
  {
   "cell_type": "code",
   "execution_count": null,
   "metadata": {},
   "outputs": [],
   "source": []
  },
  {
   "cell_type": "code",
   "execution_count": 4,
   "metadata": {},
   "outputs": [],
   "source": [
    "def is_prime(n):\n",
    "    if n == 2 or n == 3: return True\n",
    "    if n < 2 or n%2 == 0: return False\n",
    "    if n < 9: return True\n",
    "    if n%3 == 0: return False\n",
    "    r = int(n**0.5)\n",
    "    # since all primes > 3 are of the form 6n ± 1\n",
    "    # start with f=5 (which is prime)\n",
    "    # and test f, f+2 for being prime\n",
    "    # then loop by 6. \n",
    "    f = 5\n",
    "    while f <= r:\n",
    "        if n % f == 0: return False\n",
    "        if n % (f+2) == 0: return False\n",
    "        f += 6\n",
    "    return True    "
   ]
  },
  {
   "cell_type": "code",
   "execution_count": 11,
   "metadata": {},
   "outputs": [
    {
     "name": "stdout",
     "output_type": "stream",
     "text": [
      "False\n"
     ]
    }
   ],
   "source": [
    "prime = 5**737\n",
    "print(prime % 2 == 0)"
   ]
  },
  {
   "cell_type": "code",
   "execution_count": 12,
   "metadata": {},
   "outputs": [
    {
     "name": "stdout",
     "output_type": "stream",
     "text": [
      "138322616570451633270937047624837076674511714836518442639626013811055909120293814598495482427287924161836463427120047612317885973882848593606076944259441223271121786167476573094053142659307579767641154340165682353427266949363100586308102023309522918445072749639538132862122614519252384951203638214262640357263628910742572719540979953780228636161492618178594178019450236261957360909703710823560206318500413071509869989681368766700040663542173287029663477437773012128045468861932409954107470184681005775928497314453125\n"
     ]
    },
    {
     "ename": "OverflowError",
     "evalue": "int too large to convert to float",
     "output_type": "error",
     "traceback": [
      "\u001b[0;31m---------------------------------------------------------------------------\u001b[0m",
      "\u001b[0;31mOverflowError\u001b[0m                             Traceback (most recent call last)",
      "\u001b[0;32m<ipython-input-12-aece8138ed7a>\u001b[0m in \u001b[0;36m<module>\u001b[0;34m\u001b[0m\n\u001b[1;32m      1\u001b[0m \u001b[0mprint\u001b[0m\u001b[0;34m(\u001b[0m\u001b[0mprime\u001b[0m\u001b[0;34m)\u001b[0m\u001b[0;34m\u001b[0m\u001b[0m\n\u001b[0;32m----> 2\u001b[0;31m \u001b[0mis_prime\u001b[0m\u001b[0;34m(\u001b[0m\u001b[0mprime\u001b[0m\u001b[0;34m)\u001b[0m\u001b[0;34m\u001b[0m\u001b[0m\n\u001b[0m",
      "\u001b[0;32m<ipython-input-4-a110eeafd7ea>\u001b[0m in \u001b[0;36mis_prime\u001b[0;34m(n)\u001b[0m\n\u001b[1;32m      4\u001b[0m     \u001b[0;32mif\u001b[0m \u001b[0mn\u001b[0m \u001b[0;34m<\u001b[0m \u001b[0;36m9\u001b[0m\u001b[0;34m:\u001b[0m \u001b[0;32mreturn\u001b[0m \u001b[0;32mTrue\u001b[0m\u001b[0;34m\u001b[0m\u001b[0m\n\u001b[1;32m      5\u001b[0m     \u001b[0;32mif\u001b[0m \u001b[0mn\u001b[0m\u001b[0;34m%\u001b[0m\u001b[0;36m3\u001b[0m \u001b[0;34m==\u001b[0m \u001b[0;36m0\u001b[0m\u001b[0;34m:\u001b[0m \u001b[0;32mreturn\u001b[0m \u001b[0;32mFalse\u001b[0m\u001b[0;34m\u001b[0m\u001b[0m\n\u001b[0;32m----> 6\u001b[0;31m     \u001b[0mr\u001b[0m \u001b[0;34m=\u001b[0m \u001b[0mint\u001b[0m\u001b[0;34m(\u001b[0m\u001b[0mn\u001b[0m\u001b[0;34m**\u001b[0m\u001b[0;36m0.5\u001b[0m\u001b[0;34m)\u001b[0m\u001b[0;34m\u001b[0m\u001b[0m\n\u001b[0m\u001b[1;32m      7\u001b[0m     \u001b[0;31m# since all primes > 3 are of the form 6n ± 1\u001b[0m\u001b[0;34m\u001b[0m\u001b[0;34m\u001b[0m\u001b[0m\n\u001b[1;32m      8\u001b[0m     \u001b[0;31m# start with f=5 (which is prime)\u001b[0m\u001b[0;34m\u001b[0m\u001b[0;34m\u001b[0m\u001b[0m\n",
      "\u001b[0;31mOverflowError\u001b[0m: int too large to convert to float"
     ]
    }
   ],
   "source": [
    "print(prime)\n",
    "is_prime(prime)"
   ]
  },
  {
   "cell_type": "code",
   "execution_count": 18,
   "metadata": {},
   "outputs": [],
   "source": [
    "import numpy as np\n",
    "# worst case error rate is at most 4**-k i.e. 1/\n",
    "def miller_raben(n, k=40):\n",
    "    if n < 6: return [False, False, True, True, False, True][n]\n",
    "    elif n & 1 == 0: return False\n",
    "    \n",
    "    s, d = 0, n-1\n",
    "    while d & 1 == 0:\n",
    "        s, d = s + 1, d >> 1\n",
    "    for t in range(0,k):\n",
    "        rand = np.random.randint(2, min(np.iinfo(np.int64).max, n-1))\n",
    "        test = pow(rand, d, n)\n",
    "        if test != 1 and test + 1 != n:\n",
    "            for r in range(1, s):\n",
    "                test = pow(test, 2, n)\n",
    "                if test == 1:\n",
    "                    return false\n",
    "                elif test == n-1:\n",
    "                    t = 0\n",
    "                    break\n",
    "            if t:\n",
    "                return False\n",
    "    return True"
   ]
  },
  {
   "cell_type": "code",
   "execution_count": 19,
   "metadata": {},
   "outputs": [
    {
     "name": "stdout",
     "output_type": "stream",
     "text": [
      "101\n"
     ]
    }
   ],
   "source": [
    "prime=93213839657329031976054515818172038836623523774105689872697154917693247622829980029451668040788908725211181809851337597201409608563437265345971679073368610413055840406561040843792552994692024481851469222425197458211931294724324712789627827048674245935969271032545378619434024480793278261382089233812619594373536039500708748213794183837895542318920576871339842792103576912527335926847799156448609542853978641960175312816593326027913112059040301040391628315627950963561634693018187463160899468607801736887369622160657807971035682807882427202962354608343279300418850239296756192790142372865139429211285441073424048450127775705146399895723359994213706795056212276011589682689293944907170151812697295074810370910368364927640616013271122458157275631483360652752170783439450636709817880575224590697221778845780302472563607842563991241709147272610162048393187488806799743683552433008826081239592693041177088674361028479411366354601483846996945142501687343616821953966595279386449169946901823127651015252585593\n",
    "prime_small=81935564236625765178223073173650856827842541236589860619796657448838140436829279614642863127275244269\n",
    "print(len(str(prime_small)))"
   ]
  },
  {
   "cell_type": "code",
   "execution_count": 22,
   "metadata": {},
   "outputs": [
    {
     "data": {
      "text/plain": [
       "False"
      ]
     },
     "execution_count": 22,
     "metadata": {},
     "output_type": "execute_result"
    }
   ],
   "source": [
    "miller_raben(10000001135)"
   ]
  },
  {
   "cell_type": "code",
   "execution_count": 5,
   "metadata": {},
   "outputs": [
    {
     "ename": "NameError",
     "evalue": "name 'is_prime' is not defined",
     "output_type": "error",
     "traceback": [
      "\u001b[0;31m---------------------------------------------------------------------------\u001b[0m",
      "\u001b[0;31mNameError\u001b[0m                                 Traceback (most recent call last)",
      "\u001b[0;32m<ipython-input-5-420d4758fbed>\u001b[0m in \u001b[0;36m<module>\u001b[0;34m\u001b[0m\n\u001b[0;32m----> 1\u001b[0;31m \u001b[0mis_prime\u001b[0m\u001b[0;34m(\u001b[0m\u001b[0mprime\u001b[0m\u001b[0;34m)\u001b[0m\u001b[0;34m\u001b[0m\u001b[0m\n\u001b[0m",
      "\u001b[0;31mNameError\u001b[0m: name 'is_prime' is not defined"
     ]
    }
   ],
   "source": [
    "is_prime(prime)"
   ]
  },
  {
   "cell_type": "code",
   "execution_count": 10,
   "metadata": {},
   "outputs": [
    {
     "data": {
      "text/plain": [
       "9223372036854775807"
      ]
     },
     "execution_count": 10,
     "metadata": {},
     "output_type": "execute_result"
    }
   ],
   "source": [
    "np.iinfo(np.int64).max"
   ]
  },
  {
   "cell_type": "code",
   "execution_count": 21,
   "metadata": {},
   "outputs": [],
   "source": [
    "import numpy as np\n",
    "def fermat(n):\n",
    "    \n",
    "    def is_prime(p):\n",
    "    \n",
    "        ## INPUT YOUR CODE BELOW THIS LINE ## \n",
    "        # worst case error rate is at most 4**-k i.e. 1/4**k\n",
    "        k = 40\n",
    "        if p < 6: return [False, False, True, True, False, True][p]\n",
    "        elif p & 1 == 0: return False\n",
    "\n",
    "        s, d = 0, p-1\n",
    "        # faster than %2\n",
    "        while d & 1 == 0:\n",
    "            s, d = s + 1, d >> 1\n",
    "        for t in range(0,k):\n",
    "            # was throwing errors for large nums breaking int64\n",
    "            rand = np.random.randint(2, min(np.iinfo(np.int64).max, p-1))\n",
    "            test = pow(rand, d, p)\n",
    "            if test != 1 and test + 1 != p:\n",
    "                for r in range(1, s):\n",
    "                    test = pow(test, 2, p)\n",
    "                    if test == 1:\n",
    "                        return False\n",
    "                    elif test == p-1:\n",
    "                        t = 0\n",
    "                        break\n",
    "                if t:\n",
    "                    return False\n",
    "        return True\n",
    "    list_fermat = []\n",
    "    for p in range(0,n+1):\n",
    "        if (p & 1 != 0) and (p % 4 == 1):\n",
    "            if is_prime(p):\n",
    "                for i in range(1,p-1):\n",
    "                    for j in range(i+1,p-1):\n",
    "                        if (i**2 + j**2) > p:\n",
    "                            break\n",
    "                        elif (i**2 + j**2) == p:\n",
    "                            list_fermat.append((i,j,p))\n",
    "                            \n",
    "    return tuple(list_fermat)\n",
    "            "
   ]
  },
  {
   "cell_type": "code",
   "execution_count": 22,
   "metadata": {},
   "outputs": [
    {
     "data": {
      "text/plain": [
       "((1, 2, 5),\n",
       " (2, 3, 13),\n",
       " (1, 4, 17),\n",
       " (2, 5, 29),\n",
       " (1, 6, 37),\n",
       " (4, 5, 41),\n",
       " (2, 7, 53),\n",
       " (5, 6, 61),\n",
       " (3, 8, 73),\n",
       " (5, 8, 89),\n",
       " (4, 9, 97),\n",
       " (1, 10, 101),\n",
       " (3, 10, 109),\n",
       " (7, 8, 113),\n",
       " (4, 11, 137),\n",
       " (7, 10, 149),\n",
       " (6, 11, 157),\n",
       " (2, 13, 173),\n",
       " (9, 10, 181),\n",
       " (7, 12, 193),\n",
       " (1, 14, 197),\n",
       " (2, 15, 229),\n",
       " (8, 13, 233),\n",
       " (4, 15, 241),\n",
       " (1, 16, 257),\n",
       " (10, 13, 269),\n",
       " (9, 14, 277),\n",
       " (5, 16, 281),\n",
       " (2, 17, 293),\n",
       " (12, 13, 313),\n",
       " (11, 14, 317),\n",
       " (9, 16, 337),\n",
       " (5, 18, 349),\n",
       " (8, 17, 353),\n",
       " (7, 18, 373),\n",
       " (10, 17, 389),\n",
       " (6, 19, 397),\n",
       " (1, 20, 401),\n",
       " (3, 20, 409),\n",
       " (14, 15, 421),\n",
       " (12, 17, 433),\n",
       " (7, 20, 449),\n",
       " (4, 21, 457),\n",
       " (10, 19, 461),\n",
       " (5, 22, 509),\n",
       " (11, 20, 521),\n",
       " (10, 21, 541),\n",
       " (14, 19, 557),\n",
       " (13, 20, 569),\n",
       " (1, 24, 577),\n",
       " (8, 23, 593),\n",
       " (5, 24, 601),\n",
       " (17, 18, 613),\n",
       " (16, 19, 617),\n",
       " (4, 25, 641),\n",
       " (13, 22, 653),\n",
       " (6, 25, 661),\n",
       " (12, 23, 673),\n",
       " (1, 26, 677),\n",
       " (5, 26, 701),\n",
       " (15, 22, 709),\n",
       " (2, 27, 733),\n",
       " (9, 26, 757),\n",
       " (19, 20, 761),\n",
       " (12, 25, 769),\n",
       " (17, 22, 773),\n",
       " (11, 26, 797),\n",
       " (5, 28, 809),\n",
       " (14, 25, 821),\n",
       " (10, 27, 829),\n",
       " (18, 23, 853),\n",
       " (4, 29, 857),\n",
       " (6, 29, 877),\n",
       " (16, 25, 881),\n",
       " (20, 23, 929),\n",
       " (19, 24, 937),\n",
       " (10, 29, 941),\n",
       " (13, 28, 953),\n",
       " (4, 31, 977),\n",
       " (6, 31, 997),\n",
       " (15, 28, 1009),\n",
       " (22, 23, 1013),\n",
       " (11, 30, 1021),\n",
       " (3, 32, 1033),\n",
       " (5, 32, 1049),\n",
       " (10, 31, 1061),\n",
       " (13, 30, 1069),\n",
       " (2, 33, 1093),\n",
       " (16, 29, 1097),\n",
       " (22, 25, 1109),\n",
       " (21, 26, 1117),\n",
       " (20, 27, 1129),\n",
       " (8, 33, 1153),\n",
       " (5, 34, 1181),\n",
       " (13, 32, 1193),\n",
       " (24, 25, 1201),\n",
       " (22, 27, 1213),\n",
       " (16, 31, 1217),\n",
       " (2, 35, 1229),\n",
       " (9, 34, 1237),\n",
       " (15, 32, 1249),\n",
       " (11, 34, 1277),\n",
       " (8, 35, 1289),\n",
       " (1, 36, 1297),\n",
       " (25, 26, 1301),\n",
       " (5, 36, 1321),\n",
       " (20, 31, 1361),\n",
       " (2, 37, 1373),\n",
       " (15, 34, 1381),\n",
       " (25, 28, 1409),\n",
       " (23, 30, 1429),\n",
       " (8, 37, 1433),\n",
       " (3, 38, 1453),\n",
       " (16, 35, 1481),\n",
       " (20, 33, 1489),\n",
       " (7, 38, 1493),\n",
       " (18, 35, 1549),\n",
       " (23, 32, 1553),\n",
       " (21, 34, 1597),\n",
       " (1, 40, 1601),\n",
       " (3, 40, 1609),\n",
       " (13, 38, 1613),\n",
       " (10, 39, 1621),\n",
       " (26, 31, 1637),\n",
       " (19, 36, 1657),\n",
       " (15, 38, 1669),\n",
       " (18, 37, 1693),\n",
       " (4, 41, 1697),\n",
       " (22, 35, 1709),\n",
       " (11, 40, 1721),\n",
       " (17, 38, 1733),\n",
       " (29, 30, 1741),\n",
       " (27, 32, 1753),\n",
       " (16, 39, 1777),\n",
       " (5, 42, 1789),\n",
       " (24, 35, 1801),\n",
       " (30, 31, 1861),\n",
       " (28, 33, 1873),\n",
       " (14, 41, 1877),\n",
       " (17, 40, 1889),\n",
       " (26, 35, 1901),\n",
       " (8, 43, 1913),\n",
       " (13, 42, 1933),\n",
       " (10, 43, 1949),\n",
       " (23, 38, 1973),\n",
       " (12, 43, 1993),\n",
       " (29, 34, 1997))"
      ]
     },
     "execution_count": 22,
     "metadata": {},
     "output_type": "execute_result"
    }
   ],
   "source": [
    "fermat(2000)"
   ]
  },
  {
   "cell_type": "code",
   "execution_count": 7,
   "metadata": {},
   "outputs": [
    {
     "data": {
      "text/plain": [
       "11"
      ]
     },
     "execution_count": 7,
     "metadata": {},
     "output_type": "execute_result"
    }
   ],
   "source": [
    "len(fermat(100))"
   ]
  },
  {
   "cell_type": "code",
   "execution_count": 23,
   "metadata": {},
   "outputs": [],
   "source": [
    "def test_me(p):\n",
    "    if (p & 1 != 0):\n",
    "        print(p)"
   ]
  },
  {
   "cell_type": "code",
   "execution_count": 24,
   "metadata": {},
   "outputs": [],
   "source": [
    "test_me(2)"
   ]
  },
  {
   "cell_type": "code",
   "execution_count": 27,
   "metadata": {},
   "outputs": [
    {
     "name": "stdout",
     "output_type": "stream",
     "text": [
      "5\n"
     ]
    }
   ],
   "source": [
    "test_me(5)"
   ]
  },
  {
   "cell_type": "code",
   "execution_count": 19,
   "metadata": {},
   "outputs": [],
   "source": [
    "import numpy as np\n",
    "marks = [63,75,75,71,75,78,70,82,78,56,84,69,62,55,61,60,76,74,70,70,60,70]"
   ]
  },
  {
   "cell_type": "code",
   "execution_count": 20,
   "metadata": {},
   "outputs": [
    {
     "data": {
      "text/plain": [
       "69.72727272727273"
      ]
     },
     "execution_count": 20,
     "metadata": {},
     "output_type": "execute_result"
    }
   ],
   "source": [
    "np.average(marks)"
   ]
  },
  {
   "cell_type": "code",
   "execution_count": 21,
   "metadata": {},
   "outputs": [],
   "source": [
    "for i in range(0,19):\n",
    "    marks.append(85)"
   ]
  },
  {
   "cell_type": "code",
   "execution_count": 22,
   "metadata": {},
   "outputs": [
    {
     "data": {
      "text/plain": [
       "76.8048780487805"
      ]
     },
     "execution_count": 22,
     "metadata": {},
     "output_type": "execute_result"
    }
   ],
   "source": [
    "np.average(marks)"
   ]
  },
  {
   "cell_type": "code",
   "execution_count": null,
   "metadata": {},
   "outputs": [],
   "source": []
  }
 ],
 "metadata": {
  "kernelspec": {
   "display_name": "Python 3",
   "language": "python",
   "name": "python3"
  },
  "language_info": {
   "codemirror_mode": {
    "name": "ipython",
    "version": 3
   },
   "file_extension": ".py",
   "mimetype": "text/x-python",
   "name": "python",
   "nbconvert_exporter": "python",
   "pygments_lexer": "ipython3",
   "version": "3.6.5"
  }
 },
 "nbformat": 4,
 "nbformat_minor": 4
}
