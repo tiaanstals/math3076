{
 "cells": [
  {
   "cell_type": "markdown",
   "metadata": {},
   "source": [
    "# Tutorial 1: Numbers"
   ]
  },
  {
   "cell_type": "markdown",
   "metadata": {},
   "source": [
    "## Review from Lecture\n",
    "\n",
    "It seems obvious that real numbers $\\mathbb{R}$ are a key element of computation. But there are some subtle aspects to numbers that it's worth thinking about. We think of numbers along a line like this:\n",
    "\n",
    "<img src=\"https://upload.wikimedia.org/wikipedia/commons/thumb/d/d7/Real_number_line.svg/1000px-Real_number_line.svg.png\" width=\"800\" height=\"500\" />\n",
    "\n",
    "\n",
    "You are told that \"almost all\" of the numbers on this line are irrational. \n",
    "That means if you throw a dart at the line you should never \"hit\" a rational number. \n",
    "The irrationals fill the entire line. \n",
    "\n",
    "But there is a paradox:\n",
    "\n",
    "*No one has ever met a true irrational number in person. \n",
    "We hear a lot of name dropping. \n",
    "People say things like, \"I know $\\pi$ and $e$.\" \n",
    "They are big celebrities in some circles. \n",
    "But no one's ever really seen them in their total infinity. \n",
    "Only fleeting glimpses as they run down the street and jump into a limo.*\n",
    "\n",
    "My person view: \n",
    "Irrational numbers are a convenient fiction. \n",
    "They are \"defined\" as the completion of the rationals under limits of Cauchy sequences. \n",
    "What?\n",
    "\n",
    "Say you have a sequence of rationals (ie \"fractions\" or ratios of integers), \n",
    "$r_{0}, r_{1}, r_{2}, \\ldots, r_{n}, r_{n+1}, \\ldots$. \n",
    "And say you have a way of comparing the distance between any two numbers,\n",
    "\n",
    "$$\\large | r_{n} - r_{m} |. $$\n",
    "\n",
    "Now pick the smallest number you want, say 1/1,000,000,000, or 1/1,000,000,000,000, or $10^{-16}$. \n",
    "You can always find some (big) number $N$ so that  \n",
    "\n",
    "$$\\large | r_{n} - r_{m} |  < 10^{-16}.$$\n",
    "\n",
    "*for every possible $m,n > N$*.\n",
    "That is, past a certain point ($N$), any two terms ($r_m,r_n$) are within this distance of each other -- not just adjacent ones $r_{n+1},r_n$.\n",
    "\n",
    "And if someone had said $10^{-\\mathrm{googolplex}}$, we would have been able to find an $N$ for that too. \n",
    "Distance is nothing spooky. \n",
    "It's just subtraction that school kids do. \n",
    "\n",
    "We call this kind of sequence of rational number a ***Cauchy sequence***. \n",
    "It looks like it's going somewhere.\n",
    "But at every step of the way, it's just a bunch of rational numbers. \n",
    "\n",
    "The thing about these kinds of sequences is that there may not be a rational number at the end of it. \n",
    "The definition is to just make a bigger set of numbers that includes these limits and go on our way as if nothing was ever awkward.\n",
    "\n",
    "*The point is that real numbers are* ***algorithms***. \n",
    "At least the only ones we can ever actually talk about. \n",
    "If you can't compute it, then it doesn't exist. \n",
    "Most hypothetical \"real\" numbers that we can pretend to think about are sequences that we could never actually generate with any algorithm. \n",
    "We are stuck with the ***common-sense*** computational approach. "
   ]
  },
  {
   "cell_type": "markdown",
   "metadata": {},
   "source": [
    "### Here's an example of one such sequence."
   ]
  },
  {
   "cell_type": "markdown",
   "metadata": {},
   "source": [
    "Take $r_{0} = 1$.  At every step of the sequence, define \n",
    "\n",
    "$$\\large r_{n+1} = \\frac{r_{n}+2}{r_{n}+1}$$\n",
    "\n",
    "Nothing but a bunch of rationals all the way... It's also possible to prove that the terms get closer and closer together. "
   ]
  },
  {
   "cell_type": "markdown",
   "metadata": {},
   "source": [
    "## `inf` and `nan`\n",
    "\n",
    "\n",
    "**LECTURE'S PERSONAL NOTE:** \n",
    "\n",
    "It is my personal belief that a lot of students think of \"Take the limit as $n\\to \\infty$\" as very conceptually similar to \"plug in the value $n=\\infty$.\" \n",
    "At least my friends and I thought this way as students far into our education. \n",
    "There is good reason for this sometimes. \n",
    "I still do it when I'm in a hurry. \n",
    "And it works on paper sometimes. \n",
    "But this is the beauty of computers. \n",
    "They *will just not let you \"plug in $\\infty$\"*. \n",
    "OK, they do allow it sometimes. \n",
    "They sometimes have a number called `inf`. \n",
    "And you can use this productively sometimes. \n",
    "But you sure better know what you are doing! \n",
    "If you use `inf`, you also better get used to the idea of `nan`, which means \"not a number\". \n",
    "See the examples below.\n",
    "\n",
    "Computers make you realise that everything useful is finite. \n",
    "And the infinite is just the idea that you can keep doing something as long as you want. \n",
    "And maybe you can make a good guess where the result is going. \n",
    "But you'll *never* actually get to the end. "
   ]
  },
  {
   "cell_type": "code",
   "execution_count": null,
   "metadata": {},
   "outputs": [],
   "source": [
    "import numpy as np\n",
    "print(1/np.inf)\n",
    "print(1+np.inf)\n",
    "print(1-np.inf)\n",
    "print(np.inf*np.inf)\n",
    "print(np.inf+np.inf)\n",
    "print(np.inf/np.inf)\n",
    "print(np.inf-np.inf)\n",
    "print(1 + np.nan)\n",
    "print(np.inf*np.nan)"
   ]
  },
  {
   "cell_type": "markdown",
   "metadata": {},
   "source": [
    "`inf` can get into a calculation and things can still turn out ok. But used the wrong way, `inf` can turn to it's evil partner, `nan`. Anything `nan` touches turns to `nan`."
   ]
  },
  {
   "cell_type": "markdown",
   "metadata": {},
   "source": [
    "**BACK TO OUR REGULARLY SCHEDULED PROGRAM**"
   ]
  },
  {
   "cell_type": "markdown",
   "metadata": {},
   "source": [
    "**TASK 0**: \n",
    "Analytically determine the limiting value of the above recursive sequence $r_{n}$, where\n",
    "\n",
    "$$\\large r_{n+1} = \\frac{r_{n}+2}{r_{n}+1} \\qquad \\mathrm{and} \\qquad r_0 = 1$$\n",
    "\n",
    "The limiting value is where the sequence doesn't change anymore; \n",
    "$$\n",
    "\\large r_{n+1} = r_{n}\n",
    "$$\n",
    "Practise writing your answer using Markdown in the space below."
   ]
  },
  {
   "cell_type": "markdown",
   "metadata": {},
   "source": [
    "Markdown here:\n",
    "\n",
    "For example \n",
    "$$\n",
    "\\large \\lim_{n \\to \\infty} r_{n} \\ = \\ ??? \n",
    "$$"
   ]
  },
  {
   "cell_type": "markdown",
   "metadata": {},
   "source": [
    "**TASK 1**: Write a *recursive* function that generates the $n$th term in this sequence. Show that the terms get closer to each other. Remember: it's not a recursive function unless you see the name of the function *inside* the definition of the function."
   ]
  },
  {
   "cell_type": "code",
   "execution_count": null,
   "metadata": {},
   "outputs": [],
   "source": [
    "# Define function here\n",
    "def "
   ]
  },
  {
   "cell_type": "code",
   "execution_count": null,
   "metadata": {},
   "outputs": [],
   "source": [
    "# Test function here"
   ]
  },
  {
   "cell_type": "markdown",
   "metadata": {},
   "source": [
    "Warning: you will have to reboot the kernel if you type np.inf into your function. Why?"
   ]
  },
  {
   "cell_type": "markdown",
   "metadata": {},
   "source": [
    "**TASK 2:** The original recursion formula is 1st-order *nonlinear*. We can also use a transformation to turn it into a 2nd-order *linear* recursion formula. \n",
    "\n",
    "The sequence $r_{n}$ is a *rational number* (i.e., fraction). This means we can write $r_{n}$ as the ratio of integers. \n",
    "\n",
    "Find a sequence of integers, $i_{n}$, such that \n",
    "\n",
    "$$\\large r_{n} = 1+ \\frac{i_{n-1}}{i_{n}} \\quad ?$$\n",
    "\n",
    "That is, find coefficients $A$ and $B$ so that  \n",
    "\n",
    "$$\\large i_{n+1} = A\\, i_{n} + B\\, i_{n-1}.$$\n",
    "\n",
    "What value do you need to assume for $i_{-1}$? What about $i_{0}$? \n",
    "\n",
    "Does this sequence look similar to another (perhaps simpler) sequence you've seen in your education so far? There is a good reason for that. We'll learn more about why a little later."
   ]
  },
  {
   "cell_type": "markdown",
   "metadata": {},
   "source": [
    "**TASK 2* Markdown here:"
   ]
  },
  {
   "cell_type": "markdown",
   "metadata": {},
   "source": [
    "<br>"
   ]
  },
  {
   "cell_type": "markdown",
   "metadata": {},
   "source": [
    "**TASK 3:** write a recursive function that generates the sequence $i_{n}$. Take the ratio in TASK 2 and show the result is the same as the function output in TASK 1."
   ]
  },
  {
   "cell_type": "code",
   "execution_count": null,
   "metadata": {},
   "outputs": [],
   "source": [
    "# Define function here\n",
    "def"
   ]
  },
  {
   "cell_type": "code",
   "execution_count": null,
   "metadata": {},
   "outputs": [],
   "source": [
    "# Test function here"
   ]
  },
  {
   "cell_type": "markdown",
   "metadata": {},
   "source": [
    "<br>"
   ]
  },
  {
   "cell_type": "markdown",
   "metadata": {},
   "source": [
    "## The decimal system"
   ]
  },
  {
   "cell_type": "markdown",
   "metadata": {},
   "source": [
    "When you look at the output of your $r_{n}$ function, you'll notice that you get the answer in perfectly sensible decimal numbers. This is just one convienent way of representing sequences of rational numbers with higher and higher precision."
   ]
  },
  {
   "cell_type": "markdown",
   "metadata": {},
   "source": [
    "$$\n",
    "\\large \n",
    "x = \\lim_{D\\to \\infty}\\ \\sum_{i=-D}^{D} d_i 10^{i},\n",
    "$$\n",
    "\n",
    "with \n",
    "\n",
    "$$\n",
    "\\large d_{i} \\in \\{0,1,2,3,4,5,6,7,8,9\\}.\n",
    "$$"
   ]
  },
  {
   "cell_type": "markdown",
   "metadata": {},
   "source": [
    "Notice that I took the limit as the range of terms $[-D,+D]$ goes to $\\infty$. \n",
    "This is becuase we can't really ever get everything in one place. \n",
    "\n",
    "The Decimal system is just one more way of looking at sequences of rational numbers. \n",
    "And we know there are some drawbacks to this.  \n",
    "Numbers like $1/3$ have decimal representations that go on repeating forever. \n",
    "If you want to represent $1/3$ exactly you need to use a base-3 system. \n",
    "\n",
    "But we still need to calculate with numbers like $pi$ and $1/3$.\n",
    "But we cannot fit them in our finite computers. \n",
    "This leads to one of the two main sources of error in computations. \n"
   ]
  },
  {
   "cell_type": "markdown",
   "metadata": {},
   "source": [
    "## The binary system \n",
    "Virtually every computer uses binary to store numbers. \n",
    "A binary number system uses only two values, canonically 0 and 1, in each digit, \n",
    "as opposed to the ten we use in decimal. \n",
    "Very briefly, here is a short table showing the conversion of the first ten integers from decimal to binary:\n",
    "\n",
    "|Decimal|Binary|\n",
    "|-------|------|\n",
    "|00|0000|\n",
    "|01|0001|\n",
    "|02|0010|\n",
    "|03|0011|\n",
    "|04|0100|\n",
    "|05|0101|\n",
    "|06|0110|\n",
    "|07|0111|\n",
    "|08|1000|\n",
    "|09|1001|\n",
    "|10|1010|\n",
    "\n",
    "Each digit of the binary number is called a \"bit\" (\"binary digit\"). \n",
    "Thus, the bit is the smallest unit of computer memory. One \"byte\" is 8 bits. \n",
    "\n",
    "Just as an arbitrary number can be written in decimal, an arbitrary number can be written in binary as \n",
    "\n",
    "$$\\large x = \\lim_{B\\to\\infty}\\  \\sum_{i=-B}^{B} b_i 2^{i},$$\n",
    "\n",
    "Where now\n",
    "\n",
    "$$\\large b_{i} \\in \\{0,1\\}.$$\n"
   ]
  },
  {
   "cell_type": "markdown",
   "metadata": {},
   "source": [
    "Decimal and binary system (and all other integer-base systems) have the nice property that they are (almost) \"unique\". \n",
    "That is if any two numbers have the same binary or decimal expansions, then they are the same number.\n",
    "\n",
    "There is one important exception to this. In decimal, the number \n",
    "\n",
    "$$\\large u =  0.9999999999999999999\\ (\\mathrm{repeating})$$\n",
    "\n",
    "is not it's own number. This number is equal to $u=1$. In binary the same is true for\n",
    "\n",
    "$$\\large u = 0.11111111111111111 \\ (\\mathrm{repeating}).$$\n",
    "\n",
    "There are a lot of clever ways to prove these. We saw a hint about this in Lecture 01.  "
   ]
  },
  {
   "cell_type": "markdown",
   "metadata": {},
   "source": [
    "**TASK 04:** Use the following (finite) geometric series formula to prove $u=1$ from above:\n",
    "\n",
    "$$\\large (q-1) \\sum_{i=1}^{n} q^{-i} \\ = \\ 1 - q^{-n}$$\n"
   ]
  },
  {
   "cell_type": "markdown",
   "metadata": {},
   "source": [
    "**TASK 04** Markdown here: "
   ]
  },
  {
   "cell_type": "markdown",
   "metadata": {},
   "source": [
    "<br>"
   ]
  },
  {
   "cell_type": "markdown",
   "metadata": {},
   "source": [
    "### Experimenting with binary:\n",
    "\n",
    "`numpy` provides a function (`np.binary_repr()`) to convert *integers* into their binary representations. \n",
    "Let's practice a bit by using it. \n",
    "Try changing $n$ below. \n",
    "Try a bunch of numbers to get a feel for how binary works. \n",
    "You might try putting `np.binary_repr()` into a loop."
   ]
  },
  {
   "cell_type": "code",
   "execution_count": null,
   "metadata": {},
   "outputs": [],
   "source": [
    "import numpy as np"
   ]
  },
  {
   "cell_type": "code",
   "execution_count": null,
   "metadata": {},
   "outputs": [],
   "source": [
    "n = 602176634\n",
    "\n",
    "print(np.binary_repr(n))"
   ]
  },
  {
   "cell_type": "markdown",
   "metadata": {},
   "source": [
    "**TASK 05:** \n",
    "Insert a new cell below (it's the **+** button on the top menu bar, or press 'b' when in command mode (when the cells have a blue outline -- press Esc and you'll see. Press 'h' in command mode for all the shortcuts)). \n",
    "\n",
    "See what happens when you try to give a floating point number (e.g. 43.2) to `np.binary_repr()`. Read the output carefully. "
   ]
  },
  {
   "cell_type": "markdown",
   "metadata": {},
   "source": [
    "<br>"
   ]
  },
  {
   "cell_type": "markdown",
   "metadata": {},
   "source": [
    "## Floating Point Numbers\n",
    "\n",
    "Throughout this course, we will need to work with computer representations of real numbers: \n",
    "we'll be adding, subtracting, dividing, and multiplying them in order to solve complex problems regarding the world. \n",
    "\n",
    "For example, the observable physical universe covers a huge range of scales. One of the smallest measured quantities is the size of a proton.\n",
    "\n",
    "$$\n",
    "\\large L_{\\text{proton}} \\approx 10^{-15}\\ \\mathrm{m}\n",
    "$$\n",
    "\n",
    "In the other direction the size of the whole universe\n",
    "\n",
    "$$\n",
    "\\large L_{\\text{universe}} \\approx 10^{27}\\ \\mathrm{m}\n",
    "$$\n",
    "\n",
    "The ratio of these scales is \n",
    "\n",
    "$$\n",
    "\\large \\frac{L_{\\text{universe}}}{L_{\\text{proton}}} \\ \\approx \\ 10^{42} \\ = \\ 1\\,000\\,000\\,000\\,000\\,000\\,000\\,000\\,000\\,000\\,000\\,000\\,000\\,000\\,000\n",
    "$$\n",
    "\n",
    "This is a number that is probably impossible to comprehend. But computers can cope with numbers of this size quite easily. In fact, *we* can compute numbers of this size quite easily ***provided we don't care 100% about accuracy***.\n",
    "\n",
    "### Scientific notation.\n",
    "\n",
    "A computer could keep track of all of the above 43 digits. But this would be (A) slow and (B) unnecessary. We've already used the solution. It's that we keep track of the \n",
    "\n",
    "In order to cover quantities over a large ***dynamic range***, we typically use scientific notation in our paper-and-pencil work, and computers do very much the same thing. The only tricky part is that the number, which we like to represent in decimal form, is stored in binary. \n",
    "\n",
    "Let's analyze scientific notation. \n",
    "Take an interesting small number. \n",
    "\n",
    "\n",
    "For example, the charge of a single electron is (*exactly*) \n",
    "\n",
    "$$\n",
    "\\large q \\ \\equiv \\  - 1.602176634 \\times 10^{-19}\\,  \\text{Coulomb}\n",
    "$$\n",
    "\n",
    "This is *exact* because a group of serious people got together and *defined* the charge of the electron this way. It really defines the Coulomb unit. As an interesting historical fact, the charge is negative because Benjamin Franklin defined the convection based on a guess. A lot in physics would be easier if he'd done it the other way.\n",
    "\n",
    "We can write this schematically as \n",
    "\n",
    "$$\n",
    "\\large \n",
    "\\frac{q}{\\text{Coulomb}}\\  = \\  (-1)^S\\ M\\ \\times 10^E,\n",
    "$$\n",
    "\n",
    "where \n",
    "$$\n",
    "\\large S \\ = \\ 1 \\   = \\  \\textit{sign}\n",
    "$$\n",
    "\n",
    "and\n",
    "\n",
    "$$\n",
    "\\large M  \\ = \\ 1.602176634 \\   = \\  \\textit{mantissa} \\quad \\text{a.k.a.} \\quad \\textit{significand} \n",
    "$$\n",
    "\n",
    "<br>\n",
    "\n",
    "$$\n",
    "\\large E  \\ = \\ -19 \\   = \\  \\textit{exponent} \n",
    "$$\n",
    " \n",
    "\n",
    "\n",
    "Of course, the computer stores the number $q$ in binary, and it doesn't keep track of the units (that's your job). \n",
    "\n",
    "So this number must be converted to something the computer can understand. \n",
    "\n",
    "\n",
    "We'll use the notation $N_{10}$ to mean a number $N$ in base 10, and $N_{2}$ to mean a number in base 2. \n",
    "For example \n",
    "\n",
    "$$\n",
    "\\large 10_{10} = 1010_{2}\n",
    "$$"
   ]
  },
  {
   "cell_type": "markdown",
   "metadata": {},
   "source": [
    "## IEEE 754\n",
    "\n",
    "https://en.wikipedia.org/wiki/IEEE_floating_point\n",
    "\n",
    "There are many ways of storing floating point numbers on a computer; \n",
    "we will only describe one: IEEE 754. \n",
    "This is the most widely used standard for representing these numbers. \n",
    "An IEEE 754 number is represented in the following way:\n",
    "\n",
    "$$\n",
    "\\large x = (-1)^S\\ 1.F\\ \\times 2^{E-B},\n",
    "$$\n",
    "\n",
    "where $s$ is the sign, $F$ is the ***fractional part*** of the mantissa (note that there is 1 in front), $E$ is the exponent of the number you want to represent, and $B$ is called the **bias**.\n",
    "\n",
    "### 64-bit numbers. \n",
    "\n",
    "IEEE 754 is a *standard* that allows storing numbers the same way on different computers. On most modern computer chips the CPU has what are called 64-bit registers. This is 64 (very fast) slots that can store either a $0$ or a $1$; something like the following \n",
    "\n",
    "    |1|1|0|0|0|0|1|0|0|0|1|0|0|0|0|1|1|1|1|0|1|0|1|0|1|0|0|1|0|1|0|1\n",
    "    |0|0|1|0|0|1|0|1|0|1|1|1|1|0|0|1|1|1|1|1|1|0|1|1|1|1|1|0|0|1|0|0|\n",
    "    \n",
    "    \n",
    "Of course, the 0s and 1s are actually little \"on\" or \"off\" transistors, but it doesn't matter what they are. They could be happy or sad unicorns. We could still compute with them. \n",
    "\n",
    "If we have 64 bits to store a number, then how should we break things up? Some of the details vary from chip to chip. But the basic idea is \n",
    "\n",
    "    Sign:         1 bit\n",
    "    \n",
    "    Significand: 53 bits\n",
    "    \n",
    "    Exponent:    10 bits\n",
    "    \n",
    "    \n",
    "    \n",
    "    \n",
    "Note that the total exponent stored in memory $E$  has no sign bit and is thus **always positive**. \n",
    "This explains the need for the bias: if we want to represent actual negative exponents \n",
    "\n",
    "$$\n",
    "\\large E - B < 0  \\quad \\implies \\quad    B>0\n",
    "$$. \n",
    "\n",
    "A floating-point number standard that can't hold the charge of an electron is not very useful. "
   ]
  },
  {
   "cell_type": "markdown",
   "metadata": {},
   "source": [
    "## 32- vs 64-bit. \n",
    "\n",
    "\n",
    "More than about 15 years ago, 32-bit registers were the default for CPUs. In the old system, when people said `float` they always meant 32-bit `float`. And when they meant 64-bit, they said `double`. That is because these numbers took two registers. \n",
    "\n",
    "Now almost all modern hardware has 64-bit registers. Some computing languages still use the old naming. \n",
    "\n",
    "* **`float` in Python means means 64-bit**\n",
    "\n",
    "\n",
    "\n",
    "* **`float32` is Python is the old \"single\"**\n",
    "\n",
    "\n",
    "\n",
    "* **`float128` is now requires two registers, and could be called \"double\".**\n",
    "\n",
    "\n",
    "Some numerical routines allow `float128` and some don't. But using it is slower, and almost always not needed. "
   ]
  },
  {
   "cell_type": "markdown",
   "metadata": {},
   "source": [
    "## Experimenting with binary numbers\n",
    "\n",
    "Convert a binary digit written as a string (that is, in quotes) prefaced with '0b' to decimal integers\n",
    "\n",
    "Play around with these expression and try to figure out what's happening"
   ]
  },
  {
   "cell_type": "code",
   "execution_count": null,
   "metadata": {},
   "outputs": [],
   "source": [
    "int('0b11111111',base=2) "
   ]
  },
  {
   "cell_type": "code",
   "execution_count": null,
   "metadata": {},
   "outputs": [],
   "source": [
    "int('0b00000000',base=2)"
   ]
  },
  {
   "cell_type": "code",
   "execution_count": null,
   "metadata": {},
   "outputs": [],
   "source": [
    "int('0b11111111111111111111111111111111111111111111111111111',base=2)*2**(-53)"
   ]
  },
  {
   "cell_type": "markdown",
   "metadata": {},
   "source": [
    "**TASK 06:** Using the above information about the number of bits for each part of a 64-bit floating-point number, in the *decimal representation*, (A) calculate the range of largest (positive & negative); (B) the smallest non-zero (positive & negative) numbers you can represent; and (C) calculate the number of decimal digits of accuracy you can expect. "
   ]
  },
  {
   "cell_type": "code",
   "execution_count": null,
   "metadata": {},
   "outputs": [],
   "source": []
  },
  {
   "cell_type": "markdown",
   "metadata": {},
   "source": [
    "## Floating-point errors.\n",
    "\n",
    "There is a lot to say about this topic. Whole books have been written about it. \n",
    "\n",
    "Suppose you are solving something like the quadratic equation\n",
    "\n",
    "$$\n",
    "\\large a\\, x^{2} + b\\, x + c \\ = \\ 0 \\quad \\quad \\implies \\quad \\quad x \\ = \\ \\frac{-b \\pm \\sqrt{b^{2} - 4 a c }}{2 a}\n",
    "$$\n",
    "\n",
    "But if $a \\approx 0$, then we can neglect the leading-order coefficient and look as \n",
    "\n",
    "$$\n",
    "\\large b\\, x + c \\ \\approx \\ 0 \\quad \\quad \\implies \\quad \\quad x \\ \\approx \\ -\\frac{c}{b} \\quad \\quad \\text{(this is regular-sized})\n",
    "$$\n",
    "\n",
    "The other solutions (for small $a$) is \n",
    "\n",
    "$$\n",
    "\\large x \\ \\approx \\ -\\frac{b}{a} \\quad \\quad \\text{(this is} \\textit{ large}).\n",
    "$$\n",
    "\n"
   ]
  },
  {
   "cell_type": "markdown",
   "metadata": {},
   "source": [
    "**TASK 07**: Write a function that takes $a,b,c$ as arguments and gives back the answer *using the standard quadratic formula*.  Assume $a \\ne 0$. "
   ]
  },
  {
   "cell_type": "code",
   "execution_count": null,
   "metadata": {},
   "outputs": [],
   "source": [
    "def quadratic_formula(a,b,c): \n",
    "    \n",
    "    # Your code here\n",
    "    \n",
    "    return x_plus, x_minus"
   ]
  },
  {
   "cell_type": "markdown",
   "metadata": {},
   "source": [
    "***Test this with values you know work to make sure it's giving the right answers.***"
   ]
  },
  {
   "cell_type": "code",
   "execution_count": null,
   "metadata": {},
   "outputs": [],
   "source": []
  },
  {
   "cell_type": "markdown",
   "metadata": {},
   "source": [
    "**TASK 08**: Using parameters, $b=1$ and $c=-1$. Look at the solutions of the quadratic formula for \n",
    "\n",
    "$$\n",
    "\\large a \\ = \\ 2^{-n} \\quad \\text{where} \\quad n \\ge 1.\n",
    "$$\n",
    "\n",
    "Is there a big problem for one of the roots for some sufficiently large value of $n$? If so, why?\n"
   ]
  },
  {
   "cell_type": "markdown",
   "metadata": {},
   "source": [
    "<br>"
   ]
  },
  {
   "cell_type": "markdown",
   "metadata": {},
   "source": [
    "## Bit-wise operators\n",
    "\n",
    "A binary representation allows us to define different operators on numbers. We already know about `+`, `-`, `*`, ect. \n",
    "\n",
    "We can also define `&` (logical `and`), and `|` (logical `or`), and others. How?\n",
    "\n",
    "True and False satisfy ***logical*** Operations"
   ]
  },
  {
   "cell_type": "code",
   "execution_count": null,
   "metadata": {},
   "outputs": [],
   "source": [
    "L = [True,False]\n",
    "\n",
    "for i in range(2):\n",
    "    for j in range(2):\n",
    "        print(\" %5s & %5s = %5s\" % (L[i], L[j], L[i] & L[j]) )\n",
    "        print(\" %5s | %5s = %5s\" % (L[i], L[j], L[i] | L[j]) )\n",
    "        print(' --------------------- ')"
   ]
  },
  {
   "cell_type": "markdown",
   "metadata": {},
   "source": [
    "These are the rules of `and` and `or` in Boolean logic. Of course this works the same way if we use `1 = True`, and `0 = False`"
   ]
  },
  {
   "cell_type": "code",
   "execution_count": null,
   "metadata": {},
   "outputs": [],
   "source": [
    "L = [1,0]\n",
    "\n",
    "for i in range(2):\n",
    "    for j in range(2):\n",
    "        print(\" %i & %i = %i\" % (L[i], L[j], L[i] & L[j]) )\n",
    "        print(\" %i | %i = %i\" % (L[i], L[j], L[i] | L[j]) )\n",
    "        print(' ---------- ')"
   ]
  },
  {
   "cell_type": "markdown",
   "metadata": {},
   "source": [
    "But numbers are just strings of 0s and 1s. Eg, \n",
    "\n",
    "$$ 5 = 2^2 + 2^{0} \\quad \\longrightarrow \\quad [\\, \\ldots,\\, 0,\\, 0,\\, 1,\\, 0 ,\\, 1, \\, 0 \\, 0 ,\\ldots \\,] $$\n",
    "$$ 6 = 2^2 + 2^{1} \\quad \\longrightarrow \\quad [\\, \\ldots,\\, 0,\\, 0,\\, 1,\\, 1 ,\\, 0, \\, 0 \\, 0 ,\\ldots \\,] $$\n",
    "\n",
    "We can use `&` and `|` on each pair of 0s and 1s. And this will represent a new number. "
   ]
  },
  {
   "cell_type": "code",
   "execution_count": null,
   "metadata": {},
   "outputs": [],
   "source": [
    "print(5&6)\n",
    "print(5|6)"
   ]
  },
  {
   "cell_type": "markdown",
   "metadata": {},
   "source": [
    "**TASK 09:** Convert the numbers `17`, and `47` (for example) into binary by hand. Take and `&` and/or `or` operations on the binary sequences and reconstruct decimal representations of the results. Do this for a few other numbers until you understand how it works. "
   ]
  },
  {
   "cell_type": "code",
   "execution_count": null,
   "metadata": {},
   "outputs": [],
   "source": [
    "print(41 & 17)\n",
    "print(41 | 17)"
   ]
  },
  {
   "cell_type": "markdown",
   "metadata": {},
   "source": [
    "Why do these operations make sense even if the numbers have different numbers of digits and/or binary digits? "
   ]
  },
  {
   "cell_type": "code",
   "execution_count": null,
   "metadata": {},
   "outputs": [],
   "source": [
    "print(1234567 & 987)\n",
    "print(1234567 | 987)"
   ]
  },
  {
   "cell_type": "markdown",
   "metadata": {},
   "source": [
    "Honestly, bit-wise operations do not arise very often in everyday application. Serious low-level programmers use them because computer do binary operations ***very fast***. \n",
    "\n",
    "But we have already seen a mathematical application of `&` and `|`. We used these operations to find exact solutions to the tower of Hanoi. In that case, we represented the state of the system as a binary number. Each move gave a new binary number based on the logical operations. You can read about the details on `wikipedia`. But the point is that sometimes there are some clever uses of binary that are not just about data on a computer. "
   ]
  },
  {
   "cell_type": "code",
   "execution_count": null,
   "metadata": {},
   "outputs": [],
   "source": []
  }
 ],
 "metadata": {
  "kernelspec": {
   "display_name": "Python 3",
   "language": "python",
   "name": "python3"
  },
  "language_info": {
   "codemirror_mode": {
    "name": "ipython",
    "version": 3
   },
   "file_extension": ".py",
   "mimetype": "text/x-python",
   "name": "python",
   "nbconvert_exporter": "python",
   "pygments_lexer": "ipython3",
   "version": "3.7.2"
  }
 },
 "nbformat": 4,
 "nbformat_minor": 2
}
